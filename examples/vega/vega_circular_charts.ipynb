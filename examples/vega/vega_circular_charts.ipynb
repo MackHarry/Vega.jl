{
 "cells": [
  {
   "cell_type": "markdown",
   "metadata": {},
   "source": [
    "# Circular Charts"
   ]
  },
  {
   "cell_type": "markdown",
   "metadata": {},
   "source": [
    "## Pie Chart"
   ]
  },
  {
   "cell_type": "code",
   "execution_count": 2,
   "metadata": {},
   "outputs": [
    {
     "data": {
      "application/vnd.vega.v5+json": {
       "autosize": "none",
       "data": [
        {
         "name": "table",
         "transform": [
          {
           "endAngle": {
            "signal": "endAngle"
           },
           "field": "field",
           "sort": {
            "signal": "sort"
           },
           "startAngle": {
            "signal": "startAngle"
           },
           "type": "pie"
          }
         ],
         "values": [
          {
           "endAngle": 0.6621052631578948,
           "field": 4,
           "id": 1,
           "startAngle": 0
          },
          {
           "endAngle": 1.655263157894737,
           "field": 6,
           "id": 2,
           "startAngle": 0.6621052631578948
          },
          {
           "endAngle": 3.310526315789474,
           "field": 10,
           "id": 3,
           "startAngle": 1.655263157894737
          },
          {
           "endAngle": 3.807105263157895,
           "field": 3,
           "id": 4,
           "startAngle": 3.310526315789474
          },
          {
           "endAngle": 4.965789473684211,
           "field": 7,
           "id": 5,
           "startAngle": 3.807105263157895
          },
          {
           "endAngle": 6.290000000000001,
           "field": 8,
           "id": 6,
           "startAngle": 4.965789473684211
          }
         ]
        }
       ],
       "height": 200,
       "marks": [
        {
         "encode": {
          "enter": {
           "fill": {
            "field": "id",
            "scale": "color"
           },
           "x": {
            "signal": "width / 2"
           },
           "y": {
            "signal": "height / 2"
           }
          },
          "update": {
           "cornerRadius": {
            "signal": "cornerRadius"
           },
           "endAngle": {
            "field": "endAngle"
           },
           "innerRadius": {
            "signal": "innerRadius"
           },
           "outerRadius": {
            "signal": "width / 2"
           },
           "padAngle": {
            "signal": "padAngle"
           },
           "startAngle": {
            "field": "startAngle"
           }
          }
         },
         "from": {
          "data": "table"
         },
         "type": "arc"
        }
       ],
       "scales": [
        {
         "domain": {
          "data": "table",
          "field": "id"
         },
         "name": "color",
         "range": {
          "scheme": "category20"
         },
         "type": "ordinal"
        }
       ],
       "signals": [
        {
         "bind": {
          "input": "range",
          "max": 6.29,
          "min": 0,
          "step": 0.01
         },
         "name": "startAngle",
         "value": 0
        },
        {
         "bind": {
          "input": "range",
          "max": 6.29,
          "min": 0,
          "step": 0.01
         },
         "name": "endAngle",
         "value": 6.29
        },
        {
         "bind": {
          "input": "range",
          "max": 0.1,
          "min": 0
         },
         "name": "padAngle",
         "value": 0
        },
        {
         "bind": {
          "input": "range",
          "max": 90,
          "min": 0,
          "step": 1
         },
         "name": "innerRadius",
         "value": 0
        },
        {
         "bind": {
          "input": "range",
          "max": 10,
          "min": 0,
          "step": 0.5
         },
         "name": "cornerRadius",
         "value": 0
        },
        {
         "bind": {
          "input": "checkbox"
         },
         "name": "sort",
         "value": false
        }
       ],
       "width": 200
      },
      "image/png": "[encoded data removed]",
      "image/svg+xml": [
       "<?xml version=\"1.0\" encoding=\"utf-8\"?>\n",
       "<!DOCTYPE svg PUBLIC \"-//W3C//DTD SVG 1.1//EN\" \"http://www.w3.org/Graphics/SVG/1.1/DTD/svg11.dtd\">\n",
       "<svg class=\"marks\" width=\"200\" height=\"200\" viewBox=\"0 0 200 200\" version=\"1.1\" xmlns=\"http://www.w3.org/2000/svg\" xmlns:xlink=\"http://www.w3.org/1999/xlink\"><g transform=\"translate(0,0)\"><g class=\"mark-group role-frame root\"><g transform=\"translate(0,0)\"><path class=\"background\" d=\"M0,0h200v200h-200Z\" style=\"fill: none;\"></path><g><g class=\"mark-arc role-mark\"><path transform=\"translate(100,100)\" d=\"M6.123233995736766e-15,-100A100,100,0,0,1,61.477863357768115,-78.86997094562412L0,0Z\" style=\"fill: #1f77b4;\"></path><path transform=\"translate(100,100)\" d=\"M61.477863357768115,-78.86997094562412A100,100,0,0,1,99.64347976829289,8.436642677380803L0,0Z\" style=\"fill: #aec7e8;\"></path><path transform=\"translate(100,100)\" d=\"M99.64347976829289,8.436642677380803A100,100,0,0,1,-16.813128678718204,98.57646120668394L0,0Z\" style=\"fill: #ff7f0e;\"></path><path transform=\"translate(100,100)\" d=\"M-16.813128678718204,98.57646120668394A100,100,0,0,1,-61.746243271190636,78.66003713382638L0,0Z\" style=\"fill: #ffbb78;\"></path><path transform=\"translate(100,100)\" d=\"M-61.746243271190636,78.66003713382638A100,100,0,0,1,-96.80655258926953,-25.069730269410446L0,0Z\" style=\"fill: #2ca02c;\"></path><path transform=\"translate(100,100)\" d=\"M-96.80655258926953,-25.069730269410446A100,100,0,0,1,0.6814640074771126,-99.99767800707431L0,0Z\" style=\"fill: #98df8a;\"></path></g></g><path class=\"foreground\" d=\"\" style=\"display: none; fill: none;\"></path></g></g></g></svg>\n"
      ],
      "text/plain": [
       "@vgplot(\n",
       "    height=200,\n",
       "    marks=[\n",
       "        {\n",
       "            encode={\n",
       "                update={\n",
       "                    innerRadius={\n",
       "                        signal=\"innerRadius\"\n",
       "                    },\n",
       "                    startAngle={\n",
       "                        field=\"startAngle\"\n",
       "                    },\n",
       "                    cornerRadius={\n",
       "                        signal=\"cornerRadius\"\n",
       "                    },\n",
       "                    padAngle={\n",
       "                        signal=\"padAngle\"\n",
       "                    },\n",
       "                    endAngle={\n",
       "                        field=\"endAngle\"\n",
       "                    },\n",
       "                    outerRadius={\n",
       "                        signal=\"width / 2\"\n",
       "                    }\n",
       "                },\n",
       "                enter={\n",
       "                    x={\n",
       "                        signal=\"width / 2\"\n",
       "                    },\n",
       "                    fill={\n",
       "                        field=\"id\",\n",
       "                        scale=\"color\"\n",
       "                    },\n",
       "                    y={\n",
       "                        signal=\"height / 2\"\n",
       "                    }\n",
       "                }\n",
       "            },\n",
       "            from={\n",
       "                data=\"table\"\n",
       "            },\n",
       "            type=\"arc\"\n",
       "        }\n",
       "    ],\n",
       "    data=[\n",
       "        {\n",
       "            name=\"table\",\n",
       "            values=[\n",
       "                {\n",
       "                    id=1,\n",
       "                    field=4\n",
       "                },\n",
       "                {\n",
       "                    id=2,\n",
       "                    field=6\n",
       "                },\n",
       "                {\n",
       "                    id=3,\n",
       "                    field=10\n",
       "                },\n",
       "                {\n",
       "                    id=4,\n",
       "                    field=3\n",
       "                },\n",
       "                {\n",
       "                    id=5,\n",
       "                    field=7\n",
       "                },\n",
       "                {\n",
       "                    id=6,\n",
       "                    field=8\n",
       "                }\n",
       "            ],\n",
       "            transform=[\n",
       "                {\n",
       "                    startAngle={\n",
       "                        signal=\"startAngle\"\n",
       "                    },\n",
       "                    sort={\n",
       "                        signal=\"sort\"\n",
       "                    },\n",
       "                    field=\"field\",\n",
       "                    endAngle={\n",
       "                        signal=\"endAngle\"\n",
       "                    },\n",
       "                    type=\"pie\"\n",
       "                }\n",
       "            ]\n",
       "        }\n",
       "    ],\n",
       "    scales=[\n",
       "        {\n",
       "            name=\"color\",\n",
       "            range={\n",
       "                scheme=\"category20\"\n",
       "            },\n",
       "            domain={\n",
       "                data=\"table\",\n",
       "                field=\"id\"\n",
       "            },\n",
       "            type=\"ordinal\"\n",
       "        }\n",
       "    ],\n",
       "    width=200,\n",
       "    autosize=\"none\",\n",
       "    signals=[\n",
       "        {\n",
       "            name=\"startAngle\",\n",
       "            bind={\n",
       "                step=0.01,\n",
       "                max=6.29,\n",
       "                min=0,\n",
       "                input=\"range\"\n",
       "            },\n",
       "            value=0\n",
       "        },\n",
       "        {\n",
       "            name=\"endAngle\",\n",
       "            bind={\n",
       "                step=0.01,\n",
       "                max=6.29,\n",
       "                min=0,\n",
       "                input=\"range\"\n",
       "            },\n",
       "            value=6.29\n",
       "        },\n",
       "        {\n",
       "            name=\"padAngle\",\n",
       "            bind={\n",
       "                max=0.1,\n",
       "                min=0,\n",
       "                input=\"range\"\n",
       "            },\n",
       "            value=0\n",
       "        },\n",
       "        {\n",
       "            name=\"innerRadius\",\n",
       "            bind={\n",
       "                step=1,\n",
       "                max=90,\n",
       "                min=0,\n",
       "                input=\"range\"\n",
       "            },\n",
       "            value=0\n",
       "        },\n",
       "        {\n",
       "            name=\"cornerRadius\",\n",
       "            bind={\n",
       "                step=0.5,\n",
       "                max=10,\n",
       "                min=0,\n",
       "                input=\"range\"\n",
       "            },\n",
       "            value=0\n",
       "        },\n",
       "        {\n",
       "            name=\"sort\",\n",
       "            bind={\n",
       "                input=\"checkbox\"\n",
       "            },\n",
       "            value=false\n",
       "        }\n",
       "    ]\n",
       ")"
      ]
     },
     "execution_count": 2,
     "metadata": {},
     "output_type": "execute_result"
    }
   ],
   "source": [
    "using VegaLite\n",
    "\n",
    "@vgplot(\n",
    "    height=200,\n",
    "    marks=[\n",
    "        {\n",
    "            encode={\n",
    "                update={\n",
    "                    innerRadius={\n",
    "                        signal=\"innerRadius\"\n",
    "                    },\n",
    "                    startAngle={\n",
    "                        field=\"startAngle\"\n",
    "                    },\n",
    "                    cornerRadius={\n",
    "                        signal=\"cornerRadius\"\n",
    "                    },\n",
    "                    padAngle={\n",
    "                        signal=\"padAngle\"\n",
    "                    },\n",
    "                    endAngle={\n",
    "                        field=\"endAngle\"\n",
    "                    },\n",
    "                    outerRadius={\n",
    "                        signal=\"width / 2\"\n",
    "                    }\n",
    "                },\n",
    "                enter={\n",
    "                    x={\n",
    "                        signal=\"width / 2\"\n",
    "                    },\n",
    "                    fill={\n",
    "                        field=\"id\",\n",
    "                        scale=\"color\"\n",
    "                    },\n",
    "                    y={\n",
    "                        signal=\"height / 2\"\n",
    "                    }\n",
    "                }\n",
    "            },\n",
    "            from={\n",
    "                data=\"table\"\n",
    "            },\n",
    "            type=\"arc\"\n",
    "        }\n",
    "    ],\n",
    "    data=[\n",
    "        {\n",
    "            name=\"table\",\n",
    "            values=[\n",
    "                {\n",
    "                    id=1,\n",
    "                    field=4\n",
    "                },\n",
    "                {\n",
    "                    id=2,\n",
    "                    field=6\n",
    "                },\n",
    "                {\n",
    "                    id=3,\n",
    "                    field=10\n",
    "                },\n",
    "                {\n",
    "                    id=4,\n",
    "                    field=3\n",
    "                },\n",
    "                {\n",
    "                    id=5,\n",
    "                    field=7\n",
    "                },\n",
    "                {\n",
    "                    id=6,\n",
    "                    field=8\n",
    "                }\n",
    "            ],\n",
    "            transform=[\n",
    "                {\n",
    "                    startAngle={\n",
    "                        signal=\"startAngle\"\n",
    "                    },\n",
    "                    sort={\n",
    "                        signal=\"sort\"\n",
    "                    },\n",
    "                    field=\"field\",\n",
    "                    endAngle={\n",
    "                        signal=\"endAngle\"\n",
    "                    },\n",
    "                    type=\"pie\"\n",
    "                }\n",
    "            ]\n",
    "        }\n",
    "    ],\n",
    "    scales=[\n",
    "        {\n",
    "            name=\"color\",\n",
    "            range={\n",
    "                scheme=\"category20\"\n",
    "            },\n",
    "            domain={\n",
    "                data=\"table\",\n",
    "                field=\"id\"\n",
    "            },\n",
    "            type=\"ordinal\"\n",
    "        }\n",
    "    ],\n",
    "    width=200,\n",
    "    autosize=\"none\",\n",
    "    signals=[\n",
    "        {\n",
    "            name=\"startAngle\",\n",
    "            bind={\n",
    "                step=0.01,\n",
    "                max=6.29,\n",
    "                min=0,\n",
    "                input=\"range\"\n",
    "            },\n",
    "            value=0\n",
    "        },\n",
    "        {\n",
    "            name=\"endAngle\",\n",
    "            bind={\n",
    "                step=0.01,\n",
    "                max=6.29,\n",
    "                min=0,\n",
    "                input=\"range\"\n",
    "            },\n",
    "            value=6.29\n",
    "        },\n",
    "        {\n",
    "            name=\"padAngle\",\n",
    "            bind={\n",
    "                max=0.1,\n",
    "                min=0,\n",
    "                input=\"range\"\n",
    "            },\n",
    "            value=0\n",
    "        },\n",
    "        {\n",
    "            name=\"innerRadius\",\n",
    "            bind={\n",
    "                step=1,\n",
    "                max=90,\n",
    "                min=0,\n",
    "                input=\"range\"\n",
    "            },\n",
    "            value=0\n",
    "        },\n",
    "        {\n",
    "            name=\"cornerRadius\",\n",
    "            bind={\n",
    "                step=0.5,\n",
    "                max=10,\n",
    "                min=0,\n",
    "                input=\"range\"\n",
    "            },\n",
    "            value=0\n",
    "        },\n",
    "        {\n",
    "            name=\"sort\",\n",
    "            bind={\n",
    "                input=\"checkbox\"\n",
    "            },\n",
    "            value=false\n",
    "        }\n",
    "    ]\n",
    ")"
   ]
  },
  {
   "cell_type": "markdown",
   "metadata": {},
   "source": [
    "## Donut Chart"
   ]
  },
  {
   "cell_type": "code",
   "execution_count": 3,
   "metadata": {},
   "outputs": [
    {
     "data": {
      "application/vnd.vega.v5+json": {
       "autosize": "none",
       "data": [
        {
         "name": "table",
         "transform": [
          {
           "endAngle": {
            "signal": "endAngle"
           },
           "field": "field",
           "sort": {
            "signal": "sort"
           },
           "startAngle": {
            "signal": "startAngle"
           },
           "type": "pie"
          }
         ],
         "values": [
          {
           "endAngle": 0.6621052631578948,
           "field": 4,
           "id": 1,
           "startAngle": 0
          },
          {
           "endAngle": 1.655263157894737,
           "field": 6,
           "id": 2,
           "startAngle": 0.6621052631578948
          },
          {
           "endAngle": 3.310526315789474,
           "field": 10,
           "id": 3,
           "startAngle": 1.655263157894737
          },
          {
           "endAngle": 3.807105263157895,
           "field": 3,
           "id": 4,
           "startAngle": 3.310526315789474
          },
          {
           "endAngle": 4.965789473684211,
           "field": 7,
           "id": 5,
           "startAngle": 3.807105263157895
          },
          {
           "endAngle": 6.290000000000001,
           "field": 8,
           "id": 6,
           "startAngle": 4.965789473684211
          }
         ]
        }
       ],
       "height": 200,
       "marks": [
        {
         "encode": {
          "enter": {
           "fill": {
            "field": "id",
            "scale": "color"
           },
           "x": {
            "signal": "width / 2"
           },
           "y": {
            "signal": "height / 2"
           }
          },
          "update": {
           "cornerRadius": {
            "signal": "cornerRadius"
           },
           "endAngle": {
            "field": "endAngle"
           },
           "innerRadius": {
            "signal": "innerRadius"
           },
           "outerRadius": {
            "signal": "width / 2"
           },
           "padAngle": {
            "signal": "padAngle"
           },
           "startAngle": {
            "field": "startAngle"
           }
          }
         },
         "from": {
          "data": "table"
         },
         "type": "arc"
        }
       ],
       "scales": [
        {
         "domain": {
          "data": "table",
          "field": "id"
         },
         "name": "color",
         "range": {
          "scheme": "category20"
         },
         "type": "ordinal"
        }
       ],
       "signals": [
        {
         "bind": {
          "input": "range",
          "max": 6.29,
          "min": 0,
          "step": 0.01
         },
         "name": "startAngle",
         "value": 0
        },
        {
         "bind": {
          "input": "range",
          "max": 6.29,
          "min": 0,
          "step": 0.01
         },
         "name": "endAngle",
         "value": 6.29
        },
        {
         "bind": {
          "input": "range",
          "max": 0.1,
          "min": 0
         },
         "name": "padAngle",
         "value": 0
        },
        {
         "bind": {
          "input": "range",
          "max": 90,
          "min": 0,
          "step": 1
         },
         "name": "innerRadius",
         "value": 60
        },
        {
         "bind": {
          "input": "range",
          "max": 10,
          "min": 0,
          "step": 0.5
         },
         "name": "cornerRadius",
         "value": 0
        },
        {
         "bind": {
          "input": "checkbox"
         },
         "name": "sort",
         "value": false
        }
       ],
       "width": 200
      },
      "image/png": "[encoded data removed]",
      "image/svg+xml": [
       "<?xml version=\"1.0\" encoding=\"utf-8\"?>\n",
       "<!DOCTYPE svg PUBLIC \"-//W3C//DTD SVG 1.1//EN\" \"http://www.w3.org/Graphics/SVG/1.1/DTD/svg11.dtd\">\n",
       "<svg class=\"marks\" width=\"200\" height=\"200\" viewBox=\"0 0 200 200\" version=\"1.1\" xmlns=\"http://www.w3.org/2000/svg\" xmlns:xlink=\"http://www.w3.org/1999/xlink\"><g transform=\"translate(0,0)\"><g class=\"mark-group role-frame root\"><g transform=\"translate(0,0)\"><path class=\"background\" d=\"M0,0h200v200h-200Z\" style=\"fill: none;\"></path><g><g class=\"mark-arc role-mark\"><path transform=\"translate(100,100)\" d=\"M6.123233995736766e-15,-100A100,100,0,0,1,61.477863357768115,-78.86997094562412L36.88671801466087,-47.32198256737448A60,60,0,0,0,3.67394039744206e-15,-60Z\" style=\"fill: #1f77b4;\"></path><path transform=\"translate(100,100)\" d=\"M61.477863357768115,-78.86997094562412A100,100,0,0,1,99.64347976829289,8.436642677380803L59.78608786097574,5.061985606428482A60,60,0,0,0,36.88671801466087,-47.32198256737448Z\" style=\"fill: #aec7e8;\"></path><path transform=\"translate(100,100)\" d=\"M99.64347976829289,8.436642677380803A100,100,0,0,1,-16.813128678718204,98.57646120668394L-10.087877207230921,59.145876724010364A60,60,0,0,0,59.78608786097574,5.061985606428482Z\" style=\"fill: #ff7f0e;\"></path><path transform=\"translate(100,100)\" d=\"M-16.813128678718204,98.57646120668394A100,100,0,0,1,-61.746243271190636,78.66003713382638L-37.04774596271438,47.19602228029583A60,60,0,0,0,-10.087877207230921,59.145876724010364Z\" style=\"fill: #ffbb78;\"></path><path transform=\"translate(100,100)\" d=\"M-61.746243271190636,78.66003713382638A100,100,0,0,1,-96.80655258926953,-25.069730269410446L-58.08393155356171,-15.041838161646266A60,60,0,0,0,-37.04774596271438,47.19602228029583Z\" style=\"fill: #2ca02c;\"></path><path transform=\"translate(100,100)\" d=\"M-96.80655258926953,-25.069730269410446A100,100,0,0,1,0.6814640074771126,-99.99767800707431L0.4088784044862675,-59.99860680424459A60,60,0,0,0,-58.08393155356171,-15.041838161646266Z\" style=\"fill: #98df8a;\"></path></g></g><path class=\"foreground\" d=\"\" style=\"display: none; fill: none;\"></path></g></g></g></svg>\n"
      ],
      "text/plain": [
       "@vgplot(\n",
       "    height=200,\n",
       "    marks=[\n",
       "        {\n",
       "            encode={\n",
       "                update={\n",
       "                    innerRadius={\n",
       "                        signal=\"innerRadius\"\n",
       "                    },\n",
       "                    startAngle={\n",
       "                        field=\"startAngle\"\n",
       "                    },\n",
       "                    cornerRadius={\n",
       "                        signal=\"cornerRadius\"\n",
       "                    },\n",
       "                    padAngle={\n",
       "                        signal=\"padAngle\"\n",
       "                    },\n",
       "                    endAngle={\n",
       "                        field=\"endAngle\"\n",
       "                    },\n",
       "                    outerRadius={\n",
       "                        signal=\"width / 2\"\n",
       "                    }\n",
       "                },\n",
       "                enter={\n",
       "                    x={\n",
       "                        signal=\"width / 2\"\n",
       "                    },\n",
       "                    fill={\n",
       "                        field=\"id\",\n",
       "                        scale=\"color\"\n",
       "                    },\n",
       "                    y={\n",
       "                        signal=\"height / 2\"\n",
       "                    }\n",
       "                }\n",
       "            },\n",
       "            from={\n",
       "                data=\"table\"\n",
       "            },\n",
       "            type=\"arc\"\n",
       "        }\n",
       "    ],\n",
       "    data=[\n",
       "        {\n",
       "            name=\"table\",\n",
       "            values=[\n",
       "                {\n",
       "                    id=1,\n",
       "                    field=4\n",
       "                },\n",
       "                {\n",
       "                    id=2,\n",
       "                    field=6\n",
       "                },\n",
       "                {\n",
       "                    id=3,\n",
       "                    field=10\n",
       "                },\n",
       "                {\n",
       "                    id=4,\n",
       "                    field=3\n",
       "                },\n",
       "                {\n",
       "                    id=5,\n",
       "                    field=7\n",
       "                },\n",
       "                {\n",
       "                    id=6,\n",
       "                    field=8\n",
       "                }\n",
       "            ],\n",
       "            transform=[\n",
       "                {\n",
       "                    startAngle={\n",
       "                        signal=\"startAngle\"\n",
       "                    },\n",
       "                    sort={\n",
       "                        signal=\"sort\"\n",
       "                    },\n",
       "                    field=\"field\",\n",
       "                    endAngle={\n",
       "                        signal=\"endAngle\"\n",
       "                    },\n",
       "                    type=\"pie\"\n",
       "                }\n",
       "            ]\n",
       "        }\n",
       "    ],\n",
       "    scales=[\n",
       "        {\n",
       "            name=\"color\",\n",
       "            range={\n",
       "                scheme=\"category20\"\n",
       "            },\n",
       "            domain={\n",
       "                data=\"table\",\n",
       "                field=\"id\"\n",
       "            },\n",
       "            type=\"ordinal\"\n",
       "        }\n",
       "    ],\n",
       "    width=200,\n",
       "    autosize=\"none\",\n",
       "    signals=[\n",
       "        {\n",
       "            name=\"startAngle\",\n",
       "            bind={\n",
       "                step=0.01,\n",
       "                max=6.29,\n",
       "                min=0,\n",
       "                input=\"range\"\n",
       "            },\n",
       "            value=0\n",
       "        },\n",
       "        {\n",
       "            name=\"endAngle\",\n",
       "            bind={\n",
       "                step=0.01,\n",
       "                max=6.29,\n",
       "                min=0,\n",
       "                input=\"range\"\n",
       "            },\n",
       "            value=6.29\n",
       "        },\n",
       "        {\n",
       "            name=\"padAngle\",\n",
       "            bind={\n",
       "                max=0.1,\n",
       "                min=0,\n",
       "                input=\"range\"\n",
       "            },\n",
       "            value=0\n",
       "        },\n",
       "        {\n",
       "            name=\"innerRadius\",\n",
       "            bind={\n",
       "                step=1,\n",
       "                max=90,\n",
       "                min=0,\n",
       "                input=\"range\"\n",
       "            },\n",
       "            value=60\n",
       "        },\n",
       "        {\n",
       "            name=\"cornerRadius\",\n",
       "            bind={\n",
       "                step=0.5,\n",
       "                max=10,\n",
       "                min=0,\n",
       "                input=\"range\"\n",
       "            },\n",
       "            value=0\n",
       "        },\n",
       "        {\n",
       "            name=\"sort\",\n",
       "            bind={\n",
       "                input=\"checkbox\"\n",
       "            },\n",
       "            value=false\n",
       "        }\n",
       "    ]\n",
       ")"
      ]
     },
     "execution_count": 3,
     "metadata": {},
     "output_type": "execute_result"
    }
   ],
   "source": [
    "using VegaLite\n",
    "\n",
    "@vgplot(\n",
    "    height=200,\n",
    "    marks=[\n",
    "        {\n",
    "            encode={\n",
    "                update={\n",
    "                    innerRadius={\n",
    "                        signal=\"innerRadius\"\n",
    "                    },\n",
    "                    startAngle={\n",
    "                        field=\"startAngle\"\n",
    "                    },\n",
    "                    cornerRadius={\n",
    "                        signal=\"cornerRadius\"\n",
    "                    },\n",
    "                    padAngle={\n",
    "                        signal=\"padAngle\"\n",
    "                    },\n",
    "                    endAngle={\n",
    "                        field=\"endAngle\"\n",
    "                    },\n",
    "                    outerRadius={\n",
    "                        signal=\"width / 2\"\n",
    "                    }\n",
    "                },\n",
    "                enter={\n",
    "                    x={\n",
    "                        signal=\"width / 2\"\n",
    "                    },\n",
    "                    fill={\n",
    "                        field=\"id\",\n",
    "                        scale=\"color\"\n",
    "                    },\n",
    "                    y={\n",
    "                        signal=\"height / 2\"\n",
    "                    }\n",
    "                }\n",
    "            },\n",
    "            from={\n",
    "                data=\"table\"\n",
    "            },\n",
    "            type=\"arc\"\n",
    "        }\n",
    "    ],\n",
    "    data=[\n",
    "        {\n",
    "            name=\"table\",\n",
    "            values=[\n",
    "                {\n",
    "                    id=1,\n",
    "                    field=4\n",
    "                },\n",
    "                {\n",
    "                    id=2,\n",
    "                    field=6\n",
    "                },\n",
    "                {\n",
    "                    id=3,\n",
    "                    field=10\n",
    "                },\n",
    "                {\n",
    "                    id=4,\n",
    "                    field=3\n",
    "                },\n",
    "                {\n",
    "                    id=5,\n",
    "                    field=7\n",
    "                },\n",
    "                {\n",
    "                    id=6,\n",
    "                    field=8\n",
    "                }\n",
    "            ],\n",
    "            transform=[\n",
    "                {\n",
    "                    startAngle={\n",
    "                        signal=\"startAngle\"\n",
    "                    },\n",
    "                    sort={\n",
    "                        signal=\"sort\"\n",
    "                    },\n",
    "                    field=\"field\",\n",
    "                    endAngle={\n",
    "                        signal=\"endAngle\"\n",
    "                    },\n",
    "                    type=\"pie\"\n",
    "                }\n",
    "            ]\n",
    "        }\n",
    "    ],\n",
    "    scales=[\n",
    "        {\n",
    "            name=\"color\",\n",
    "            range={\n",
    "                scheme=\"category20\"\n",
    "            },\n",
    "            domain={\n",
    "                data=\"table\",\n",
    "                field=\"id\"\n",
    "            },\n",
    "            type=\"ordinal\"\n",
    "        }\n",
    "    ],\n",
    "    width=200,\n",
    "    autosize=\"none\",\n",
    "    signals=[\n",
    "        {\n",
    "            name=\"startAngle\",\n",
    "            bind={\n",
    "                step=0.01,\n",
    "                max=6.29,\n",
    "                min=0,\n",
    "                input=\"range\"\n",
    "            },\n",
    "            value=0\n",
    "        },\n",
    "        {\n",
    "            name=\"endAngle\",\n",
    "            bind={\n",
    "                step=0.01,\n",
    "                max=6.29,\n",
    "                min=0,\n",
    "                input=\"range\"\n",
    "            },\n",
    "            value=6.29\n",
    "        },\n",
    "        {\n",
    "            name=\"padAngle\",\n",
    "            bind={\n",
    "                max=0.1,\n",
    "                min=0,\n",
    "                input=\"range\"\n",
    "            },\n",
    "            value=0\n",
    "        },\n",
    "        {\n",
    "            name=\"innerRadius\",\n",
    "            bind={\n",
    "                step=1,\n",
    "                max=90,\n",
    "                min=0,\n",
    "                input=\"range\"\n",
    "            },\n",
    "            value=60\n",
    "        },\n",
    "        {\n",
    "            name=\"cornerRadius\",\n",
    "            bind={\n",
    "                step=0.5,\n",
    "                max=10,\n",
    "                min=0,\n",
    "                input=\"range\"\n",
    "            },\n",
    "            value=0\n",
    "        },\n",
    "        {\n",
    "            name=\"sort\",\n",
    "            bind={\n",
    "                input=\"checkbox\"\n",
    "            },\n",
    "            value=false\n",
    "        }\n",
    "    ]\n",
    ")"
   ]
  },
  {
   "cell_type": "markdown",
   "metadata": {},
   "source": [
    "## Radial Plot"
   ]
  },
  {
   "cell_type": "code",
   "execution_count": 4,
   "metadata": {},
   "outputs": [
    {
     "data": {
      "application/vnd.vega.v5+json": {
       "data": [
        {
         "name": "table",
         "transform": [
          {
           "field": "data",
           "type": "pie"
          }
         ],
         "values": [
          12,
          23,
          47,
          6,
          52,
          19
         ]
        }
       ],
       "height": 200,
       "marks": [
        {
         "encode": {
          "enter": {
           "endAngle": {
            "field": "endAngle"
           },
           "innerRadius": {
            "value": 20
           },
           "outerRadius": {
            "field": "data",
            "scale": "r"
           },
           "startAngle": {
            "field": "startAngle"
           },
           "stroke": {
            "value": "#fff"
           },
           "x": {
            "field": {
             "group": "width"
            },
            "mult": 0.5
           },
           "y": {
            "field": {
             "group": "height"
            },
            "mult": 0.5
           }
          },
          "hover": {
           "fill": {
            "value": "pink"
           }
          },
          "update": {
           "fill": {
            "value": "#ccc"
           }
          }
         },
         "from": {
          "data": "table"
         },
         "type": "arc"
        },
        {
         "encode": {
          "enter": {
           "align": {
            "value": "center"
           },
           "baseline": {
            "value": "middle"
           },
           "fill": {
            "value": "#000"
           },
           "radius": {
            "field": "data",
            "offset": 8,
            "scale": "r"
           },
           "text": {
            "field": "data"
           },
           "theta": {
            "signal": "(datum.startAngle + datum.endAngle)/2"
           },
           "x": {
            "field": {
             "group": "width"
            },
            "mult": 0.5
           },
           "y": {
            "field": {
             "group": "height"
            },
            "mult": 0.5
           }
          }
         },
         "from": {
          "data": "table"
         },
         "type": "text"
        }
       ],
       "scales": [
        {
         "domain": {
          "data": "table",
          "field": "data"
         },
         "name": "r",
         "range": [
          20,
          100
         ],
         "type": "sqrt",
         "zero": true
        }
       ],
       "width": 200
      },
      "image/png": "[encoded data removed]",
      "image/svg+xml": [
       "<?xml version=\"1.0\" encoding=\"utf-8\"?>\n",
       "<!DOCTYPE svg PUBLIC \"-//W3C//DTD SVG 1.1//EN\" \"http://www.w3.org/Graphics/SVG/1.1/DTD/svg11.dtd\">\n",
       "<svg class=\"marks\" width=\"212\" height=\"200\" viewBox=\"0 0 212 200\" version=\"1.1\" xmlns=\"http://www.w3.org/2000/svg\" xmlns:xlink=\"http://www.w3.org/1999/xlink\"><g transform=\"translate(12,0)\"><g class=\"mark-group role-frame root\"><g transform=\"translate(0,0)\"><path class=\"background\" d=\"M0,0h200v200h-200Z\" style=\"fill: none;\"></path><g><g class=\"mark-arc role-mark\"><path transform=\"translate(100,100)\" d=\"M3.577851971276654e-15,-58.43075691322092A58.43075691322092,58.43075691322092,0,0,1,26.6811919696215,-51.983337220037335L9.132584747874263,-17.793141819894945A20,20,0,0,0,1.2246467991473533e-15,-20Z\" style=\"fill: #ccc; stroke: #fff;\"></path><path transform=\"translate(100,100)\" d=\"M33.42753133273127,-65.1273239846707A73.20497374089409,73.20497374089409,0,0,1,71.91913119256414,-13.660408079985821L19.64870076919059,-3.73209834849098A20,20,0,0,0,9.132584747874263,-17.793141819894945Z\" style=\"fill: #ccc; stroke: #fff;\"></path><path transform=\"translate(100,100)\" d=\"M94.36942752012007,-17.924644928591263A96.05665904189708,96.05665904189708,0,0,1,-9.474221952295101,95.58828832388369L-1.9726319959062337,19.90248032303328A20,20,0,0,0,19.64870076919059,-3.73209834849098Z\" style=\"fill: #ccc; stroke: #fff;\"></path><path transform=\"translate(100,100)\" d=\"M-4.652911082846368,46.944625993775645A47.1746488194703,47.1746488194703,0,0,1,-15.549373760050502,44.5383482732645L-6.592258405380154,18.882323191723383A20,20,0,0,0,-1.9726319959062337,19.90248032303328Z\" style=\"fill: #ccc; stroke: #fff;\"></path><path transform=\"translate(100,100)\" d=\"M-32.961292026900765,94.4116159586169A100,100,0,0,1,-68.22391632694223,-73.11290748571273L-13.644783265388444,-14.622581497142544A20,20,0,0,0,-6.592258405380154,18.882323191723383Z\" style=\"fill: #ccc; stroke: #fff;\"></path><path transform=\"translate(100,100)\" d=\"M-46.63626047170792,-49.978259544755225A68.35764198615911,68.35764198615911,0,0,1,-1.255709511834157e-14,-68.35764198615911L-3.673940397442059e-15,-20A20,20,0,0,0,-13.644783265388444,-14.622581497142544Z\" style=\"fill: #ccc; stroke: #fff;\"></path></g><g class=\"mark-text role-mark\"><text text-anchor=\"middle\" transform=\"translate(115.6036578095842,38.42778208064361)\" style=\"font-family: sans-serif; font-size: 11px; fill: #000;\">12</text><text text-anchor=\"middle\" transform=\"translate(165.02977687896083,54.36486990526427)\" style=\"font-family: sans-serif; font-size: 11px; fill: #000;\">23</text><text text-anchor=\"middle\" transform=\"translate(176.7764659470099,173.23647604805674)\" style=\"font-family: sans-serif; font-size: 11px; fill: #000;\">47</text><text text-anchor=\"middle\" transform=\"translate(88.10237118396775,156.87660253679508)\" style=\"font-family: sans-serif; font-size: 11px; fill: #000;\">6</text><text text-anchor=\"middle\" transform=\"translate(-5.68410116834643,125.24569082403863)\" style=\"font-family: sans-serif; font-size: 11px; fill: #000;\">52</text><text text-anchor=\"middle\" transform=\"translate(72.00313318308821,31.960117271193695)\" style=\"font-family: sans-serif; font-size: 11px; fill: #000;\">19</text></g></g><path class=\"foreground\" d=\"\" style=\"display: none; fill: none;\"></path></g></g></g></svg>\n"
      ],
      "text/plain": [
       "@vgplot(\n",
       "    height=200,\n",
       "    marks=[\n",
       "        {\n",
       "            encode={\n",
       "                update={\n",
       "                    fill={\n",
       "                        value=\"#ccc\"\n",
       "                    }\n",
       "                },\n",
       "                hover={\n",
       "                    fill={\n",
       "                        value=\"pink\"\n",
       "                    }\n",
       "                },\n",
       "                enter={\n",
       "                    innerRadius={\n",
       "                        value=20\n",
       "                    },\n",
       "                    startAngle={\n",
       "                        field=\"startAngle\"\n",
       "                    },\n",
       "                    stroke={\n",
       "                        value=\"#fff\"\n",
       "                    },\n",
       "                    x={\n",
       "                        mult=0.5,\n",
       "                        field={\n",
       "                            group=\"width\"\n",
       "                        }\n",
       "                    },\n",
       "                    endAngle={\n",
       "                        field=\"endAngle\"\n",
       "                    },\n",
       "                    outerRadius={\n",
       "                        field=\"data\",\n",
       "                        scale=\"r\"\n",
       "                    },\n",
       "                    y={\n",
       "                        mult=0.5,\n",
       "                        field={\n",
       "                            group=\"height\"\n",
       "                        }\n",
       "                    }\n",
       "                }\n",
       "            },\n",
       "            from={\n",
       "                data=\"table\"\n",
       "            },\n",
       "            type=\"arc\"\n",
       "        },\n",
       "        {\n",
       "            encode={\n",
       "                enter={\n",
       "                    align={\n",
       "                        value=\"center\"\n",
       "                    },\n",
       "                    theta={\n",
       "                        signal=\"(datum.startAngle + datum.endAngle)/2\"\n",
       "                    },\n",
       "                    x={\n",
       "                        mult=0.5,\n",
       "                        field={\n",
       "                            group=\"width\"\n",
       "                        }\n",
       "                    },\n",
       "                    radius={\n",
       "                        offset=8,\n",
       "                        field=\"data\",\n",
       "                        scale=\"r\"\n",
       "                    },\n",
       "                    fill={\n",
       "                        value=\"#000\"\n",
       "                    },\n",
       "                    baseline={\n",
       "                        value=\"middle\"\n",
       "                    },\n",
       "                    text={\n",
       "                        field=\"data\"\n",
       "                    },\n",
       "                    y={\n",
       "                        mult=0.5,\n",
       "                        field={\n",
       "                            group=\"height\"\n",
       "                        }\n",
       "                    }\n",
       "                }\n",
       "            },\n",
       "            from={\n",
       "                data=\"table\"\n",
       "            },\n",
       "            type=\"text\"\n",
       "        }\n",
       "    ],\n",
       "    data=[\n",
       "        {\n",
       "            name=\"table\",\n",
       "            values=[\n",
       "                12,\n",
       "                23,\n",
       "                47,\n",
       "                6,\n",
       "                52,\n",
       "                19\n",
       "            ],\n",
       "            transform=[\n",
       "                {\n",
       "                    field=\"data\",\n",
       "                    type=\"pie\"\n",
       "                }\n",
       "            ]\n",
       "        }\n",
       "    ],\n",
       "    scales=[\n",
       "        {\n",
       "            name=\"r\",\n",
       "            zero=true,\n",
       "            range=[\n",
       "                20,\n",
       "                100\n",
       "            ],\n",
       "            domain={\n",
       "                data=\"table\",\n",
       "                field=\"data\"\n",
       "            },\n",
       "            type=\"sqrt\"\n",
       "        }\n",
       "    ],\n",
       "    width=200\n",
       ")"
      ]
     },
     "execution_count": 4,
     "metadata": {},
     "output_type": "execute_result"
    }
   ],
   "source": [
    "using VegaLite\n",
    "\n",
    "@vgplot(\n",
    "    height=200,\n",
    "    marks=[\n",
    "        {\n",
    "            encode={\n",
    "                update={\n",
    "                    fill={\n",
    "                        value=\"#ccc\"\n",
    "                    }\n",
    "                },\n",
    "                hover={\n",
    "                    fill={\n",
    "                        value=\"pink\"\n",
    "                    }\n",
    "                },\n",
    "                enter={\n",
    "                    innerRadius={\n",
    "                        value=20\n",
    "                    },\n",
    "                    startAngle={\n",
    "                        field=\"startAngle\"\n",
    "                    },\n",
    "                    stroke={\n",
    "                        value=\"#fff\"\n",
    "                    },\n",
    "                    x={\n",
    "                        mult=0.5,\n",
    "                        field={\n",
    "                            group=\"width\"\n",
    "                        }\n",
    "                    },\n",
    "                    endAngle={\n",
    "                        field=\"endAngle\"\n",
    "                    },\n",
    "                    outerRadius={\n",
    "                        field=\"data\",\n",
    "                        scale=\"r\"\n",
    "                    },\n",
    "                    y={\n",
    "                        mult=0.5,\n",
    "                        field={\n",
    "                            group=\"height\"\n",
    "                        }\n",
    "                    }\n",
    "                }\n",
    "            },\n",
    "            from={\n",
    "                data=\"table\"\n",
    "            },\n",
    "            type=\"arc\"\n",
    "        },\n",
    "        {\n",
    "            encode={\n",
    "                enter={\n",
    "                    align={\n",
    "                        value=\"center\"\n",
    "                    },\n",
    "                    theta={\n",
    "                        signal=\"(datum.startAngle + datum.endAngle)/2\"\n",
    "                    },\n",
    "                    x={\n",
    "                        mult=0.5,\n",
    "                        field={\n",
    "                            group=\"width\"\n",
    "                        }\n",
    "                    },\n",
    "                    radius={\n",
    "                        offset=8,\n",
    "                        field=\"data\",\n",
    "                        scale=\"r\"\n",
    "                    },\n",
    "                    fill={\n",
    "                        value=\"#000\"\n",
    "                    },\n",
    "                    baseline={\n",
    "                        value=\"middle\"\n",
    "                    },\n",
    "                    text={\n",
    "                        field=\"data\"\n",
    "                    },\n",
    "                    y={\n",
    "                        mult=0.5,\n",
    "                        field={\n",
    "                            group=\"height\"\n",
    "                        }\n",
    "                    }\n",
    "                }\n",
    "            },\n",
    "            from={\n",
    "                data=\"table\"\n",
    "            },\n",
    "            type=\"text\"\n",
    "        }\n",
    "    ],\n",
    "    data=[\n",
    "        {\n",
    "            name=\"table\",\n",
    "            values=[\n",
    "                12,\n",
    "                23,\n",
    "                47,\n",
    "                6,\n",
    "                52,\n",
    "                19\n",
    "            ],\n",
    "            transform=[\n",
    "                {\n",
    "                    field=\"data\",\n",
    "                    type=\"pie\"\n",
    "                }\n",
    "            ]\n",
    "        }\n",
    "    ],\n",
    "    scales=[\n",
    "        {\n",
    "            name=\"r\",\n",
    "            zero=true,\n",
    "            range=[\n",
    "                20,\n",
    "                100\n",
    "            ],\n",
    "            domain={\n",
    "                data=\"table\",\n",
    "                field=\"data\"\n",
    "            },\n",
    "            type=\"sqrt\"\n",
    "        }\n",
    "    ],\n",
    "    width=200\n",
    ")"
   ]
  },
  {
   "cell_type": "markdown",
   "metadata": {},
   "source": [
    "## Radar Chart"
   ]
  },
  {
   "cell_type": "code",
   "execution_count": 5,
   "metadata": {},
   "outputs": [
    {
     "data": {
      "application/vnd.vega.v5+json": {
       "autosize": {
        "contains": "padding",
        "type": "none"
       },
       "data": [
        {
         "name": "table",
         "values": [
          {
           "category": 0,
           "key": "key-0",
           "value": 19
          },
          {
           "category": 0,
           "key": "key-1",
           "value": 22
          },
          {
           "category": 0,
           "key": "key-2",
           "value": 14
          },
          {
           "category": 0,
           "key": "key-3",
           "value": 38
          },
          {
           "category": 0,
           "key": "key-4",
           "value": 23
          },
          {
           "category": 0,
           "key": "key-5",
           "value": 5
          },
          {
           "category": 0,
           "key": "key-6",
           "value": 27
          },
          {
           "category": 1,
           "key": "key-0",
           "value": 13
          },
          {
           "category": 1,
           "key": "key-1",
           "value": 12
          },
          {
           "category": 1,
           "key": "key-2",
           "value": 42
          },
          {
           "category": 1,
           "key": "key-3",
           "value": 13
          },
          {
           "category": 1,
           "key": "key-4",
           "value": 6
          },
          {
           "category": 1,
           "key": "key-5",
           "value": 15
          },
          {
           "category": 1,
           "key": "key-6",
           "value": 8
          }
         ]
        },
        {
         "name": "keys",
         "source": "table",
         "transform": [
          {
           "groupby": [
            "key"
           ],
           "type": "aggregate"
          }
         ]
        }
       ],
       "encode": {
        "enter": {
         "x": {
          "signal": "radius"
         },
         "y": {
          "signal": "radius"
         }
        }
       },
       "height": 400,
       "marks": [
        {
         "from": {
          "facet": {
           "data": "table",
           "groupby": [
            "category"
           ],
           "name": "facet"
          }
         },
         "marks": [
          {
           "encode": {
            "enter": {
             "fill": {
              "field": "category",
              "scale": "color"
             },
             "fillOpacity": {
              "value": 0.1
             },
             "interpolate": {
              "value": "linear-closed"
             },
             "stroke": {
              "field": "category",
              "scale": "color"
             },
             "strokeWidth": {
              "value": 1
             },
             "x": {
              "signal": "scale('radial', datum.value) * cos(scale('angular', datum.key))"
             },
             "y": {
              "signal": "scale('radial', datum.value) * sin(scale('angular', datum.key))"
             }
            }
           },
           "from": {
            "data": "facet"
           },
           "name": "category-line",
           "type": "line"
          },
          {
           "encode": {
            "enter": {
             "align": {
              "value": "center"
             },
             "baseline": {
              "value": "middle"
             },
             "fill": {
              "value": "black"
             },
             "text": {
              "signal": "datum.datum.value"
             },
             "x": {
              "signal": "datum.x"
             },
             "y": {
              "signal": "datum.y"
             }
            }
           },
           "from": {
            "data": "category-line"
           },
           "name": "value-text",
           "type": "text"
          }
         ],
         "name": "categories",
         "type": "group",
         "zindex": 1
        },
        {
         "encode": {
          "enter": {
           "stroke": {
            "value": "lightgray"
           },
           "strokeWidth": {
            "value": 1
           },
           "x": {
            "value": 0
           },
           "x2": {
            "signal": "radius * cos(scale('angular', datum.key))"
           },
           "y": {
            "value": 0
           },
           "y2": {
            "signal": "radius * sin(scale('angular', datum.key))"
           }
          }
         },
         "from": {
          "data": "keys"
         },
         "name": "radial-grid",
         "type": "rule",
         "zindex": 0
        },
        {
         "encode": {
          "enter": {
           "align": [
            {
             "test": "abs(scale('angular', datum.key)) > PI / 2",
             "value": "right"
            },
            {
             "value": "left"
            }
           ],
           "baseline": [
            {
             "test": "scale('angular', datum.key) > 0",
             "value": "top"
            },
            {
             "test": "scale('angular', datum.key) == 0",
             "value": "middle"
            },
            {
             "value": "bottom"
            }
           ],
           "fill": {
            "value": "black"
           },
           "fontWeight": {
            "value": "bold"
           },
           "text": {
            "field": "key"
           },
           "x": {
            "signal": "(radius + 5) * cos(scale('angular', datum.key))"
           },
           "y": {
            "signal": "(radius + 5) * sin(scale('angular', datum.key))"
           }
          }
         },
         "from": {
          "data": "keys"
         },
         "name": "key-label",
         "type": "text",
         "zindex": 1
        },
        {
         "encode": {
          "enter": {
           "interpolate": {
            "value": "linear-closed"
           },
           "stroke": {
            "value": "lightgray"
           },
           "strokeWidth": {
            "value": 1
           },
           "x": {
            "field": "x2"
           },
           "y": {
            "field": "y2"
           }
          }
         },
         "from": {
          "data": "radial-grid"
         },
         "name": "outer-line",
         "type": "line"
        }
       ],
       "padding": 40,
       "scales": [
        {
         "domain": {
          "data": "table",
          "field": "key"
         },
         "name": "angular",
         "padding": 0.5,
         "range": {
          "signal": "[-PI, PI]"
         },
         "type": "point"
        },
        {
         "domain": {
          "data": "table",
          "field": "value"
         },
         "domainMin": 0,
         "name": "radial",
         "nice": false,
         "range": {
          "signal": "[0, radius]"
         },
         "type": "linear",
         "zero": true
        },
        {
         "domain": {
          "data": "table",
          "field": "category"
         },
         "name": "color",
         "range": {
          "scheme": "category10"
         },
         "type": "ordinal"
        }
       ],
       "signals": [
        {
         "name": "radius",
         "update": "width / 2"
        }
       ],
       "width": 400
      },
      "image/png": "[encoded data removed]",
      "image/svg+xml": [
       "<?xml version=\"1.0\" encoding=\"utf-8\"?>\n",
       "<!DOCTYPE svg PUBLIC \"-//W3C//DTD SVG 1.1//EN\" \"http://www.w3.org/Graphics/SVG/1.1/DTD/svg11.dtd\">\n",
       "<svg class=\"marks\" width=\"400\" height=\"400\" viewBox=\"0 0 400 400\" version=\"1.1\" xmlns=\"http://www.w3.org/2000/svg\" xmlns:xlink=\"http://www.w3.org/1999/xlink\"><g transform=\"translate(40,40)\"><g class=\"mark-group role-frame root\"><g transform=\"translate(160,160)\"><path class=\"background\" d=\"M0,0h320v320h-320Z\" style=\"fill: none;\"></path><g><g class=\"mark-rule role-mark radial-grid\"><line transform=\"translate(0,0)\" x2=\"-144.15501886438705\" y2=\"-69.42139825880932\" style=\"fill: none; stroke: lightgray; stroke-width: 1;\"></line><line transform=\"translate(0,0)\" x2=\"-35.603349433010294\" y2=\"-155.9884659490918\" style=\"fill: none; stroke: lightgray; stroke-width: 1;\"></line><line transform=\"translate(0,0)\" x2=\"99.75836829739737\" y2=\"-125.09303719488477\" style=\"fill: none; stroke: lightgray; stroke-width: 1;\"></line><line transform=\"translate(0,0)\" x2=\"160\" y2=\"0\" style=\"fill: none; stroke: lightgray; stroke-width: 1;\"></line><line transform=\"translate(0,0)\" x2=\"99.75836829739737\" y2=\"125.09303719488477\" style=\"fill: none; stroke: lightgray; stroke-width: 1;\"></line><line transform=\"translate(0,0)\" x2=\"-35.603349433010294\" y2=\"155.9884659490918\" style=\"fill: none; stroke: lightgray; stroke-width: 1;\"></line><line transform=\"translate(0,0)\" x2=\"-144.15501886438705\" y2=\"69.42139825880932\" style=\"fill: none; stroke: lightgray; stroke-width: 1;\"></line></g><g class=\"mark-line role-mark outer-line\"><path d=\"M-144.15501886438705,-69.42139825880932L-35.603349433010294,-155.9884659490918L99.75836829739737,-125.09303719488477L160,0L99.75836829739737,125.09303719488477L-35.603349433010294,155.9884659490918L-144.15501886438705,69.42139825880932Z\" style=\"fill: none; stroke: lightgray; stroke-width: 1;\"></path></g><g class=\"mark-group role-scope categories\"><g transform=\"translate(0,0)\"><path class=\"background\" d=\"M0,0h0v0h0Z\" style=\"fill: none;\"></path><g><g class=\"mark-line role-mark category-line\"><path d=\"M-65.21298472436557,-31.40491825993755L-18.649373512529202,-81.70824406857189L33.25278943246579,-41.697679064961584L144.76190476190476,0L54.629582639050945,68.5033298924369L-4.238493980120273,18.570055470129972L-92.67108355567738,44.628041737805994Z\" style=\"fill: #1f77b4; fill-opacity: 0.1; stroke: #1f77b4; stroke-width: 1;\"></path></g><g class=\"mark-text role-mark value-text\"><text text-anchor=\"middle\" transform=\"translate(-65.21298472436557,-28.40491825993755)\" style=\"font-family: sans-serif; font-size: 11px; fill: black;\">19</text><text text-anchor=\"middle\" transform=\"translate(-18.649373512529202,-78.70824406857189)\" style=\"font-family: sans-serif; font-size: 11px; fill: black;\">22</text><text text-anchor=\"middle\" transform=\"translate(33.25278943246579,-38.697679064961584)\" style=\"font-family: sans-serif; font-size: 11px; fill: black;\">14</text><text text-anchor=\"middle\" transform=\"translate(144.76190476190476,3)\" style=\"font-family: sans-serif; font-size: 11px; fill: black;\">38</text><text text-anchor=\"middle\" transform=\"translate(54.629582639050945,71.5033298924369)\" style=\"font-family: sans-serif; font-size: 11px; fill: black;\">23</text><text text-anchor=\"middle\" transform=\"translate(-4.238493980120273,21.570055470129972)\" style=\"font-family: sans-serif; font-size: 11px; fill: black;\">5</text><text text-anchor=\"middle\" transform=\"translate(-92.67108355567738,47.628041737805994)\" style=\"font-family: sans-serif; font-size: 11px; fill: black;\">27</text></g></g><path class=\"foreground\" d=\"\" style=\"display: none; fill: none;\"></path></g><g transform=\"translate(0,0)\"><path class=\"background\" d=\"M0,0h0v0h0Z\" style=\"fill: none;\"></path><g><g class=\"mark-line role-mark category-line\"><path d=\"M-44.61941060088171,-21.48757565153622L-10.172385552288654,-44.56813312831193L99.75836829739737,-125.09303719488477L49.523809523809526,0L14.251195471056766,17.870433884983537L-12.71548194036082,55.710166410389924L-27.458098831311816,13.223123477868441Z\" style=\"fill: #ff7f0e; fill-opacity: 0.1; stroke: #ff7f0e; stroke-width: 1;\"></path></g><g class=\"mark-text role-mark value-text\"><text text-anchor=\"middle\" transform=\"translate(-44.61941060088171,-18.48757565153622)\" style=\"font-family: sans-serif; font-size: 11px; fill: black;\">13</text><text text-anchor=\"middle\" transform=\"translate(-10.172385552288654,-41.56813312831193)\" style=\"font-family: sans-serif; font-size: 11px; fill: black;\">12</text><text text-anchor=\"middle\" transform=\"translate(99.75836829739737,-122.09303719488477)\" style=\"font-family: sans-serif; font-size: 11px; fill: black;\">42</text><text text-anchor=\"middle\" transform=\"translate(49.523809523809526,3)\" style=\"font-family: sans-serif; font-size: 11px; fill: black;\">13</text><text text-anchor=\"middle\" transform=\"translate(14.251195471056766,20.870433884983537)\" style=\"font-family: sans-serif; font-size: 11px; fill: black;\">6</text><text text-anchor=\"middle\" transform=\"translate(-12.71548194036082,58.710166410389924)\" style=\"font-family: sans-serif; font-size: 11px; fill: black;\">15</text><text text-anchor=\"middle\" transform=\"translate(-27.458098831311816,16.22312347786844)\" style=\"font-family: sans-serif; font-size: 11px; fill: black;\">8</text></g></g><path class=\"foreground\" d=\"\" style=\"display: none; fill: none;\"></path></g></g><g class=\"mark-text role-mark key-label\"><text text-anchor=\"end\" transform=\"translate(-148.65986320389914,-73.59081695439711)\" style=\"font-family: sans-serif; font-size: 11px; font-weight: bold; fill: black;\">key-0</text><text text-anchor=\"end\" transform=\"translate(-36.71595410279187,-162.8631055100009)\" style=\"font-family: sans-serif; font-size: 11px; font-weight: bold; fill: black;\">key-1</text><text text-anchor=\"start\" transform=\"translate(102.87581730669105,-131.0021946072249)\" style=\"font-family: sans-serif; font-size: 11px; font-weight: bold; fill: black;\">key-2</text><text text-anchor=\"start\" transform=\"translate(165,3)\" style=\"font-family: sans-serif; font-size: 11px; font-weight: bold; fill: black;\">key-3</text><text text-anchor=\"start\" transform=\"translate(102.87581730669105,138.0021946072249)\" style=\"font-family: sans-serif; font-size: 11px; font-weight: bold; fill: black;\">key-4</text><text text-anchor=\"end\" transform=\"translate(-36.71595410279187,169.8631055100009)\" style=\"font-family: sans-serif; font-size: 11px; font-weight: bold; fill: black;\">key-5</text><text text-anchor=\"end\" transform=\"translate(-148.65986320389914,80.59081695439711)\" style=\"font-family: sans-serif; font-size: 11px; font-weight: bold; fill: black;\">key-6</text></g></g><path class=\"foreground\" d=\"\" style=\"display: none; fill: none;\"></path></g></g></g></svg>\n"
      ],
      "text/plain": [
       "@vgplot(\n",
       "    height=400,\n",
       "    padding=40,\n",
       "    marks=[\n",
       "        {\n",
       "            name=\"categories\",\n",
       "            marks=[\n",
       "                {\n",
       "                    name=\"category-line\",\n",
       "                    encode={\n",
       "                        enter={\n",
       "                            stroke={\n",
       "                                field=\"category\",\n",
       "                                scale=\"color\"\n",
       "                            },\n",
       "                            interpolate={\n",
       "                                value=\"linear-closed\"\n",
       "                            },\n",
       "                            x={\n",
       "                                signal=\"scale('radial', datum.value) * cos(scale('angular', datum.key))\"\n",
       "                            },\n",
       "                            strokeWidth={\n",
       "                                value=1\n",
       "                            },\n",
       "                            fillOpacity={\n",
       "                                value=0.1\n",
       "                            },\n",
       "                            fill={\n",
       "                                field=\"category\",\n",
       "                                scale=\"color\"\n",
       "                            },\n",
       "                            y={\n",
       "                                signal=\"scale('radial', datum.value) * sin(scale('angular', datum.key))\"\n",
       "                            }\n",
       "                        }\n",
       "                    },\n",
       "                    from={\n",
       "                        data=\"facet\"\n",
       "                    },\n",
       "                    type=\"line\"\n",
       "                },\n",
       "                {\n",
       "                    name=\"value-text\",\n",
       "                    encode={\n",
       "                        enter={\n",
       "                            align={\n",
       "                                value=\"center\"\n",
       "                            },\n",
       "                            x={\n",
       "                                signal=\"datum.x\"\n",
       "                            },\n",
       "                            text={\n",
       "                                signal=\"datum.datum.value\"\n",
       "                            },\n",
       "                            baseline={\n",
       "                                value=\"middle\"\n",
       "                            },\n",
       "                            fill={\n",
       "                                value=\"black\"\n",
       "                            },\n",
       "                            y={\n",
       "                                signal=\"datum.y\"\n",
       "                            }\n",
       "                        }\n",
       "                    },\n",
       "                    from={\n",
       "                        data=\"category-line\"\n",
       "                    },\n",
       "                    type=\"text\"\n",
       "                }\n",
       "            ],\n",
       "            zindex=1,\n",
       "            from={\n",
       "                facet={\n",
       "                    name=\"facet\",\n",
       "                    data=\"table\",\n",
       "                    groupby=[\n",
       "                        \"category\"\n",
       "                    ]\n",
       "                }\n",
       "            },\n",
       "            type=\"group\"\n",
       "        },\n",
       "        {\n",
       "            name=\"radial-grid\",\n",
       "            encode={\n",
       "                enter={\n",
       "                    stroke={\n",
       "                        value=\"lightgray\"\n",
       "                    },\n",
       "                    x2={\n",
       "                        signal=\"radius * cos(scale('angular', datum.key))\"\n",
       "                    },\n",
       "                    x={\n",
       "                        value=0\n",
       "                    },\n",
       "                    y2={\n",
       "                        signal=\"radius * sin(scale('angular', datum.key))\"\n",
       "                    },\n",
       "                    strokeWidth={\n",
       "                        value=1\n",
       "                    },\n",
       "                    y={\n",
       "                        value=0\n",
       "                    }\n",
       "                }\n",
       "            },\n",
       "            zindex=0,\n",
       "            from={\n",
       "                data=\"keys\"\n",
       "            },\n",
       "            type=\"rule\"\n",
       "        },\n",
       "        {\n",
       "            name=\"key-label\",\n",
       "            encode={\n",
       "                enter={\n",
       "                    y={\n",
       "                        signal=\"(radius + 5) * sin(scale('angular', datum.key))\"\n",
       "                    },\n",
       "                    align=[\n",
       "                        {\n",
       "                            test=\"abs(scale('angular', datum.key)) > PI / 2\",\n",
       "                            value=\"right\"\n",
       "                        },\n",
       "                        {\n",
       "                            value=\"left\"\n",
       "                        }\n",
       "                    ],\n",
       "                    x={\n",
       "                        signal=\"(radius + 5) * cos(scale('angular', datum.key))\"\n",
       "                    },\n",
       "                    text={\n",
       "                        field=\"key\"\n",
       "                    },\n",
       "                    baseline=[\n",
       "                        {\n",
       "                            test=\"scale('angular', datum.key) > 0\",\n",
       "                            value=\"top\"\n",
       "                        },\n",
       "                        {\n",
       "                            test=\"scale('angular', datum.key) == 0\",\n",
       "                            value=\"middle\"\n",
       "                        },\n",
       "                        {\n",
       "                            value=\"bottom\"\n",
       "                        }\n",
       "                    ],\n",
       "                    fill={\n",
       "                        value=\"black\"\n",
       "                    },\n",
       "                    fontWeight={\n",
       "                        value=\"bold\"\n",
       "                    }\n",
       "                }\n",
       "            },\n",
       "            zindex=1,\n",
       "            from={\n",
       "                data=\"keys\"\n",
       "            },\n",
       "            type=\"text\"\n",
       "        },\n",
       "        {\n",
       "            name=\"outer-line\",\n",
       "            encode={\n",
       "                enter={\n",
       "                    stroke={\n",
       "                        value=\"lightgray\"\n",
       "                    },\n",
       "                    interpolate={\n",
       "                        value=\"linear-closed\"\n",
       "                    },\n",
       "                    x={\n",
       "                        field=\"x2\"\n",
       "                    },\n",
       "                    strokeWidth={\n",
       "                        value=1\n",
       "                    },\n",
       "                    y={\n",
       "                        field=\"y2\"\n",
       "                    }\n",
       "                }\n",
       "            },\n",
       "            from={\n",
       "                data=\"radial-grid\"\n",
       "            },\n",
       "            type=\"line\"\n",
       "        }\n",
       "    ],\n",
       "    encode={\n",
       "        enter={\n",
       "            x={\n",
       "                signal=\"radius\"\n",
       "            },\n",
       "            y={\n",
       "                signal=\"radius\"\n",
       "            }\n",
       "        }\n",
       "    },\n",
       "    data=[\n",
       "        {\n",
       "            name=\"table\",\n",
       "            values=[\n",
       "                {\n",
       "                    key=\"key-0\",\n",
       "                    value=19,\n",
       "                    category=0\n",
       "                },\n",
       "                {\n",
       "                    key=\"key-1\",\n",
       "                    value=22,\n",
       "                    category=0\n",
       "                },\n",
       "                {\n",
       "                    key=\"key-2\",\n",
       "                    value=14,\n",
       "                    category=0\n",
       "                },\n",
       "                {\n",
       "                    key=\"key-3\",\n",
       "                    value=38,\n",
       "                    category=0\n",
       "                },\n",
       "                {\n",
       "                    key=\"key-4\",\n",
       "                    value=23,\n",
       "                    category=0\n",
       "                },\n",
       "                {\n",
       "                    key=\"key-5\",\n",
       "                    value=5,\n",
       "                    category=0\n",
       "                },\n",
       "                {\n",
       "                    key=\"key-6\",\n",
       "                    value=27,\n",
       "                    category=0\n",
       "                },\n",
       "                {\n",
       "                    key=\"key-0\",\n",
       "                    value=13,\n",
       "                    category=1\n",
       "                },\n",
       "                {\n",
       "                    key=\"key-1\",\n",
       "                    value=12,\n",
       "                    category=1\n",
       "                },\n",
       "                {\n",
       "                    key=\"key-2\",\n",
       "                    value=42,\n",
       "                    category=1\n",
       "                },\n",
       "                {\n",
       "                    key=\"key-3\",\n",
       "                    value=13,\n",
       "                    category=1\n",
       "                },\n",
       "                {\n",
       "                    key=\"key-4\",\n",
       "                    value=6,\n",
       "                    category=1\n",
       "                },\n",
       "                {\n",
       "                    key=\"key-5\",\n",
       "                    value=15,\n",
       "                    category=1\n",
       "                },\n",
       "                {\n",
       "                    key=\"key-6\",\n",
       "                    value=8,\n",
       "                    category=1\n",
       "                }\n",
       "            ]\n",
       "        },\n",
       "        {\n",
       "            name=\"keys\",\n",
       "            source=\"table\",\n",
       "            transform=[\n",
       "                {\n",
       "                    groupby=[\n",
       "                        \"key\"\n",
       "                    ],\n",
       "                    type=\"aggregate\"\n",
       "                }\n",
       "            ]\n",
       "        }\n",
       "    ],\n",
       "    scales=[\n",
       "        {\n",
       "            name=\"angular\",\n",
       "            padding=0.5,\n",
       "            range={\n",
       "                signal=\"[-PI, PI]\"\n",
       "            },\n",
       "            domain={\n",
       "                data=\"table\",\n",
       "                field=\"key\"\n",
       "            },\n",
       "            type=\"point\"\n",
       "        },\n",
       "        {\n",
       "            name=\"radial\",\n",
       "            zero=true,\n",
       "            nice=false,\n",
       "            range={\n",
       "                signal=\"[0, radius]\"\n",
       "            },\n",
       "            domain={\n",
       "                data=\"table\",\n",
       "                field=\"value\"\n",
       "            },\n",
       "            domainMin=0,\n",
       "            type=\"linear\"\n",
       "        },\n",
       "        {\n",
       "            name=\"color\",\n",
       "            range={\n",
       "                scheme=\"category10\"\n",
       "            },\n",
       "            domain={\n",
       "                data=\"table\",\n",
       "                field=\"category\"\n",
       "            },\n",
       "            type=\"ordinal\"\n",
       "        }\n",
       "    ],\n",
       "    width=400,\n",
       "    autosize={\n",
       "        contains=\"padding\",\n",
       "        type=\"none\"\n",
       "    },\n",
       "    signals=[\n",
       "        {\n",
       "            name=\"radius\",\n",
       "            update=\"width / 2\"\n",
       "        }\n",
       "    ]\n",
       ")"
      ]
     },
     "execution_count": 5,
     "metadata": {},
     "output_type": "execute_result"
    }
   ],
   "source": [
    "using VegaLite\n",
    "\n",
    "@vgplot(\n",
    "    height=400,\n",
    "    padding=40,\n",
    "    marks=[\n",
    "        {\n",
    "            name=\"categories\",\n",
    "            marks=[\n",
    "                {\n",
    "                    name=\"category-line\",\n",
    "                    encode={\n",
    "                        enter={\n",
    "                            stroke={\n",
    "                                field=\"category\",\n",
    "                                scale=\"color\"\n",
    "                            },\n",
    "                            interpolate={\n",
    "                                value=\"linear-closed\"\n",
    "                            },\n",
    "                            x={\n",
    "                                signal=\"scale('radial', datum.value) * cos(scale('angular', datum.key))\"\n",
    "                            },\n",
    "                            strokeWidth={\n",
    "                                value=1\n",
    "                            },\n",
    "                            fillOpacity={\n",
    "                                value=0.1\n",
    "                            },\n",
    "                            fill={\n",
    "                                field=\"category\",\n",
    "                                scale=\"color\"\n",
    "                            },\n",
    "                            y={\n",
    "                                signal=\"scale('radial', datum.value) * sin(scale('angular', datum.key))\"\n",
    "                            }\n",
    "                        }\n",
    "                    },\n",
    "                    from={\n",
    "                        data=\"facet\"\n",
    "                    },\n",
    "                    type=\"line\"\n",
    "                },\n",
    "                {\n",
    "                    name=\"value-text\",\n",
    "                    encode={\n",
    "                        enter={\n",
    "                            align={\n",
    "                                value=\"center\"\n",
    "                            },\n",
    "                            x={\n",
    "                                signal=\"datum.x\"\n",
    "                            },\n",
    "                            text={\n",
    "                                signal=\"datum.datum.value\"\n",
    "                            },\n",
    "                            baseline={\n",
    "                                value=\"middle\"\n",
    "                            },\n",
    "                            fill={\n",
    "                                value=\"black\"\n",
    "                            },\n",
    "                            y={\n",
    "                                signal=\"datum.y\"\n",
    "                            }\n",
    "                        }\n",
    "                    },\n",
    "                    from={\n",
    "                        data=\"category-line\"\n",
    "                    },\n",
    "                    type=\"text\"\n",
    "                }\n",
    "            ],\n",
    "            zindex=1,\n",
    "            from={\n",
    "                facet={\n",
    "                    name=\"facet\",\n",
    "                    data=\"table\",\n",
    "                    groupby=[\n",
    "                        \"category\"\n",
    "                    ]\n",
    "                }\n",
    "            },\n",
    "            type=\"group\"\n",
    "        },\n",
    "        {\n",
    "            name=\"radial-grid\",\n",
    "            encode={\n",
    "                enter={\n",
    "                    stroke={\n",
    "                        value=\"lightgray\"\n",
    "                    },\n",
    "                    x2={\n",
    "                        signal=\"radius * cos(scale('angular', datum.key))\"\n",
    "                    },\n",
    "                    x={\n",
    "                        value=0\n",
    "                    },\n",
    "                    y2={\n",
    "                        signal=\"radius * sin(scale('angular', datum.key))\"\n",
    "                    },\n",
    "                    strokeWidth={\n",
    "                        value=1\n",
    "                    },\n",
    "                    y={\n",
    "                        value=0\n",
    "                    }\n",
    "                }\n",
    "            },\n",
    "            zindex=0,\n",
    "            from={\n",
    "                data=\"keys\"\n",
    "            },\n",
    "            type=\"rule\"\n",
    "        },\n",
    "        {\n",
    "            name=\"key-label\",\n",
    "            encode={\n",
    "                enter={\n",
    "                    align=[\n",
    "                        {\n",
    "                            test=\"abs(scale('angular', datum.key)) > PI / 2\",\n",
    "                            value=\"right\"\n",
    "                        },\n",
    "                        {\n",
    "                            value=\"left\"\n",
    "                        }\n",
    "                    ],\n",
    "                    fontWeight={\n",
    "                        value=\"bold\"\n",
    "                    },\n",
    "                    x={\n",
    "                        signal=\"(radius + 5) * cos(scale('angular', datum.key))\"\n",
    "                    },\n",
    "                    text={\n",
    "                        field=\"key\"\n",
    "                    },\n",
    "                    baseline=[\n",
    "                        {\n",
    "                            test=\"scale('angular', datum.key) > 0\",\n",
    "                            value=\"top\"\n",
    "                        },\n",
    "                        {\n",
    "                            test=\"scale('angular', datum.key) == 0\",\n",
    "                            value=\"middle\"\n",
    "                        },\n",
    "                        {\n",
    "                            value=\"bottom\"\n",
    "                        }\n",
    "                    ],\n",
    "                    fill={\n",
    "                        value=\"black\"\n",
    "                    },\n",
    "                    y={\n",
    "                        signal=\"(radius + 5) * sin(scale('angular', datum.key))\"\n",
    "                    }\n",
    "                }\n",
    "            },\n",
    "            zindex=1,\n",
    "            from={\n",
    "                data=\"keys\"\n",
    "            },\n",
    "            type=\"text\"\n",
    "        },\n",
    "        {\n",
    "            name=\"outer-line\",\n",
    "            encode={\n",
    "                enter={\n",
    "                    stroke={\n",
    "                        value=\"lightgray\"\n",
    "                    },\n",
    "                    interpolate={\n",
    "                        value=\"linear-closed\"\n",
    "                    },\n",
    "                    x={\n",
    "                        field=\"x2\"\n",
    "                    },\n",
    "                    strokeWidth={\n",
    "                        value=1\n",
    "                    },\n",
    "                    y={\n",
    "                        field=\"y2\"\n",
    "                    }\n",
    "                }\n",
    "            },\n",
    "            from={\n",
    "                data=\"radial-grid\"\n",
    "            },\n",
    "            type=\"line\"\n",
    "        }\n",
    "    ],\n",
    "    encode={\n",
    "        enter={\n",
    "            x={\n",
    "                signal=\"radius\"\n",
    "            },\n",
    "            y={\n",
    "                signal=\"radius\"\n",
    "            }\n",
    "        }\n",
    "    },\n",
    "    data=[\n",
    "        {\n",
    "            name=\"table\",\n",
    "            values=[\n",
    "                {\n",
    "                    key=\"key-0\",\n",
    "                    value=19,\n",
    "                    category=0\n",
    "                },\n",
    "                {\n",
    "                    key=\"key-1\",\n",
    "                    value=22,\n",
    "                    category=0\n",
    "                },\n",
    "                {\n",
    "                    key=\"key-2\",\n",
    "                    value=14,\n",
    "                    category=0\n",
    "                },\n",
    "                {\n",
    "                    key=\"key-3\",\n",
    "                    value=38,\n",
    "                    category=0\n",
    "                },\n",
    "                {\n",
    "                    key=\"key-4\",\n",
    "                    value=23,\n",
    "                    category=0\n",
    "                },\n",
    "                {\n",
    "                    key=\"key-5\",\n",
    "                    value=5,\n",
    "                    category=0\n",
    "                },\n",
    "                {\n",
    "                    key=\"key-6\",\n",
    "                    value=27,\n",
    "                    category=0\n",
    "                },\n",
    "                {\n",
    "                    key=\"key-0\",\n",
    "                    value=13,\n",
    "                    category=1\n",
    "                },\n",
    "                {\n",
    "                    key=\"key-1\",\n",
    "                    value=12,\n",
    "                    category=1\n",
    "                },\n",
    "                {\n",
    "                    key=\"key-2\",\n",
    "                    value=42,\n",
    "                    category=1\n",
    "                },\n",
    "                {\n",
    "                    key=\"key-3\",\n",
    "                    value=13,\n",
    "                    category=1\n",
    "                },\n",
    "                {\n",
    "                    key=\"key-4\",\n",
    "                    value=6,\n",
    "                    category=1\n",
    "                },\n",
    "                {\n",
    "                    key=\"key-5\",\n",
    "                    value=15,\n",
    "                    category=1\n",
    "                },\n",
    "                {\n",
    "                    key=\"key-6\",\n",
    "                    value=8,\n",
    "                    category=1\n",
    "                }\n",
    "            ]\n",
    "        },\n",
    "        {\n",
    "            name=\"keys\",\n",
    "            source=\"table\",\n",
    "            transform=[\n",
    "                {\n",
    "                    groupby=[\n",
    "                        \"key\"\n",
    "                    ],\n",
    "                    type=\"aggregate\"\n",
    "                }\n",
    "            ]\n",
    "        }\n",
    "    ],\n",
    "    scales=[\n",
    "        {\n",
    "            name=\"angular\",\n",
    "            padding=0.5,\n",
    "            range={\n",
    "                signal=\"[-PI, PI]\"\n",
    "            },\n",
    "            domain={\n",
    "                data=\"table\",\n",
    "                field=\"key\"\n",
    "            },\n",
    "            type=\"point\"\n",
    "        },\n",
    "        {\n",
    "            name=\"radial\",\n",
    "            zero=true,\n",
    "            nice=false,\n",
    "            range={\n",
    "                signal=\"[0, radius]\"\n",
    "            },\n",
    "            domain={\n",
    "                data=\"table\",\n",
    "                field=\"value\"\n",
    "            },\n",
    "            domainMin=0,\n",
    "            type=\"linear\"\n",
    "        },\n",
    "        {\n",
    "            name=\"color\",\n",
    "            range={\n",
    "                scheme=\"category10\"\n",
    "            },\n",
    "            domain={\n",
    "                data=\"table\",\n",
    "                field=\"category\"\n",
    "            },\n",
    "            type=\"ordinal\"\n",
    "        }\n",
    "    ],\n",
    "    width=400,\n",
    "    autosize={\n",
    "        contains=\"padding\",\n",
    "        type=\"none\"\n",
    "    },\n",
    "    signals=[\n",
    "        {\n",
    "            name=\"radius\",\n",
    "            update=\"width / 2\"\n",
    "        }\n",
    "    ]\n",
    ")\n"
   ]
  }
 ],
 "metadata": {
  "kernelspec": {
   "display_name": "Julia 1.3.0",
   "language": "julia",
   "name": "julia-1.3"
  },
  "language_info": {
   "file_extension": ".jl",
   "mimetype": "application/julia",
   "name": "julia",
   "version": "1.3.0"
  }
 },
 "nbformat": 4,
 "nbformat_minor": 4
}
