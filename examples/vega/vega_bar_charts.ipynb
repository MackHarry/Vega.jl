{
 "cells": [
  {
   "cell_type": "markdown",
   "metadata": {},
   "source": [
    "# Bar Charts"
   ]
  },
  {
   "cell_type": "markdown",
   "metadata": {},
   "source": [
    "## Bar Chart"
   ]
  },
  {
   "cell_type": "code",
   "execution_count": 2,
   "metadata": {},
   "outputs": [
    {
     "data": {
      "application/vnd.vega.v5+json": {
       "axes": [
        {
         "orient": "bottom",
         "scale": "xscale"
        },
        {
         "orient": "left",
         "scale": "yscale"
        }
       ],
       "data": [
        {
         "name": "table",
         "values": [
          {
           "amount": 28,
           "category": "A"
          },
          {
           "amount": 55,
           "category": "B"
          },
          {
           "amount": 43,
           "category": "C"
          },
          {
           "amount": 91,
           "category": "D"
          },
          {
           "amount": 81,
           "category": "E"
          },
          {
           "amount": 53,
           "category": "F"
          },
          {
           "amount": 19,
           "category": "G"
          },
          {
           "amount": 87,
           "category": "H"
          }
         ]
        }
       ],
       "height": 200,
       "marks": [
        {
         "encode": {
          "enter": {
           "width": {
            "band": 1,
            "scale": "xscale"
           },
           "x": {
            "field": "category",
            "scale": "xscale"
           },
           "y": {
            "field": "amount",
            "scale": "yscale"
           },
           "y2": {
            "scale": "yscale",
            "value": 0
           }
          },
          "hover": {
           "fill": {
            "value": "red"
           }
          },
          "update": {
           "fill": {
            "value": "steelblue"
           }
          }
         },
         "from": {
          "data": "table"
         },
         "type": "rect"
        },
        {
         "encode": {
          "enter": {
           "align": {
            "value": "center"
           },
           "baseline": {
            "value": "bottom"
           },
           "fill": {
            "value": "#333"
           }
          },
          "update": {
           "fillOpacity": [
            {
             "test": "datum === tooltip",
             "value": 0
            },
            {
             "value": 1
            }
           ],
           "text": {
            "signal": "tooltip.amount"
           },
           "x": {
            "band": 0.5,
            "scale": "xscale",
            "signal": "tooltip.category"
           },
           "y": {
            "offset": -2,
            "scale": "yscale",
            "signal": "tooltip.amount"
           }
          }
         },
         "type": "text"
        }
       ],
       "padding": 5,
       "scales": [
        {
         "domain": {
          "data": "table",
          "field": "category"
         },
         "name": "xscale",
         "padding": 0.05,
         "range": "width",
         "round": true,
         "type": "band"
        },
        {
         "domain": {
          "data": "table",
          "field": "amount"
         },
         "name": "yscale",
         "nice": true,
         "range": "height"
        }
       ],
       "signals": [
        {
         "name": "tooltip",
         "on": [
          {
           "events": "rect:mouseover",
           "update": "datum"
          },
          {
           "events": "rect:mouseout",
           "update": "{}"
          }
         ],
         "value": {}
        }
       ],
       "width": 400
      },
      "image/png": "[encoded data removed]",
      "image/svg+xml": [
       "<?xml version=\"1.0\" encoding=\"utf-8\"?>\n",
       "<!DOCTYPE svg PUBLIC \"-//W3C//DTD SVG 1.1//EN\" \"http://www.w3.org/Graphics/SVG/1.1/DTD/svg11.dtd\">\n",
       "<svg class=\"marks\" width=\"432\" height=\"238\" viewBox=\"0 0 432 238\" version=\"1.1\" xmlns=\"http://www.w3.org/2000/svg\" xmlns:xlink=\"http://www.w3.org/1999/xlink\"><g transform=\"translate(27,16)\"><g class=\"mark-group role-frame root\"><g transform=\"translate(0,0)\"><path class=\"background\" d=\"M0,0h400v200h-400Z\" style=\"fill: none;\"></path><g><g class=\"mark-group role-axis\"><g transform=\"translate(0.5,200.5)\"><path class=\"background\" d=\"M0,0h0v0h0Z\" style=\"pointer-events: none; fill: none;\"></path><g><g class=\"mark-rule role-axis-tick\" style=\"pointer-events: none;\"><line transform=\"translate(28,0)\" x2=\"0\" y2=\"5\" style=\"fill: none; stroke: #888; stroke-width: 1; opacity: 1;\"></line><line transform=\"translate(77,0)\" x2=\"0\" y2=\"5\" style=\"fill: none; stroke: #888; stroke-width: 1; opacity: 1;\"></line><line transform=\"translate(126,0)\" x2=\"0\" y2=\"5\" style=\"fill: none; stroke: #888; stroke-width: 1; opacity: 1;\"></line><line transform=\"translate(175,0)\" x2=\"0\" y2=\"5\" style=\"fill: none; stroke: #888; stroke-width: 1; opacity: 1;\"></line><line transform=\"translate(224,0)\" x2=\"0\" y2=\"5\" style=\"fill: none; stroke: #888; stroke-width: 1; opacity: 1;\"></line><line transform=\"translate(273,0)\" x2=\"0\" y2=\"5\" style=\"fill: none; stroke: #888; stroke-width: 1; opacity: 1;\"></line><line transform=\"translate(322,0)\" x2=\"0\" y2=\"5\" style=\"fill: none; stroke: #888; stroke-width: 1; opacity: 1;\"></line><line transform=\"translate(371,0)\" x2=\"0\" y2=\"5\" style=\"fill: none; stroke: #888; stroke-width: 1; opacity: 1;\"></line></g><g class=\"mark-text role-axis-label\" style=\"pointer-events: none;\"><text text-anchor=\"middle\" transform=\"translate(28,15)\" style=\"font-family: sans-serif; font-size: 10px; fill: #000; opacity: 1;\">A</text><text text-anchor=\"middle\" transform=\"translate(77,15)\" style=\"font-family: sans-serif; font-size: 10px; fill: #000; opacity: 1;\">B</text><text text-anchor=\"middle\" transform=\"translate(126,15)\" style=\"font-family: sans-serif; font-size: 10px; fill: #000; opacity: 1;\">C</text><text text-anchor=\"middle\" transform=\"translate(175,15)\" style=\"font-family: sans-serif; font-size: 10px; fill: #000; opacity: 1;\">D</text><text text-anchor=\"middle\" transform=\"translate(224,15)\" style=\"font-family: sans-serif; font-size: 10px; fill: #000; opacity: 1;\">E</text><text text-anchor=\"middle\" transform=\"translate(273,15)\" style=\"font-family: sans-serif; font-size: 10px; fill: #000; opacity: 1;\">F</text><text text-anchor=\"middle\" transform=\"translate(322,15)\" style=\"font-family: sans-serif; font-size: 10px; fill: #000; opacity: 1;\">G</text><text text-anchor=\"middle\" transform=\"translate(371,15)\" style=\"font-family: sans-serif; font-size: 10px; fill: #000; opacity: 1;\">H</text></g><g class=\"mark-rule role-axis-domain\" style=\"pointer-events: none;\"><line transform=\"translate(0,0)\" x2=\"400\" y2=\"0\" style=\"fill: none; stroke: #888; stroke-width: 1; opacity: 1;\"></line></g></g><path class=\"foreground\" d=\"\" style=\"pointer-events: none; display: none; fill: none;\"></path></g></g><g class=\"mark-group role-axis\"><g transform=\"translate(0.5,0.5)\"><path class=\"background\" d=\"M0,0h0v0h0Z\" style=\"pointer-events: none; fill: none;\"></path><g><g class=\"mark-rule role-axis-tick\" style=\"pointer-events: none;\"><line transform=\"translate(0,200)\" x2=\"-5\" y2=\"0\" style=\"fill: none; stroke: #888; stroke-width: 1; opacity: 1;\"></line><line transform=\"translate(0,180)\" x2=\"-5\" y2=\"0\" style=\"fill: none; stroke: #888; stroke-width: 1; opacity: 1;\"></line><line transform=\"translate(0,160)\" x2=\"-5\" y2=\"0\" style=\"fill: none; stroke: #888; stroke-width: 1; opacity: 1;\"></line><line transform=\"translate(0,140)\" x2=\"-5\" y2=\"0\" style=\"fill: none; stroke: #888; stroke-width: 1; opacity: 1;\"></line><line transform=\"translate(0,120)\" x2=\"-5\" y2=\"0\" style=\"fill: none; stroke: #888; stroke-width: 1; opacity: 1;\"></line><line transform=\"translate(0,100)\" x2=\"-5\" y2=\"0\" style=\"fill: none; stroke: #888; stroke-width: 1; opacity: 1;\"></line><line transform=\"translate(0,80)\" x2=\"-5\" y2=\"0\" style=\"fill: none; stroke: #888; stroke-width: 1; opacity: 1;\"></line><line transform=\"translate(0,60)\" x2=\"-5\" y2=\"0\" style=\"fill: none; stroke: #888; stroke-width: 1; opacity: 1;\"></line><line transform=\"translate(0,40)\" x2=\"-5\" y2=\"0\" style=\"fill: none; stroke: #888; stroke-width: 1; opacity: 1;\"></line><line transform=\"translate(0,20)\" x2=\"-5\" y2=\"0\" style=\"fill: none; stroke: #888; stroke-width: 1; opacity: 1;\"></line><line transform=\"translate(0,0)\" x2=\"-5\" y2=\"0\" style=\"fill: none; stroke: #888; stroke-width: 1; opacity: 1;\"></line></g><g class=\"mark-text role-axis-label\" style=\"pointer-events: none;\"><text text-anchor=\"end\" transform=\"translate(-7,203)\" style=\"font-family: sans-serif; font-size: 10px; fill: #000; opacity: 1;\">0</text><text text-anchor=\"end\" transform=\"translate(-7,183)\" style=\"font-family: sans-serif; font-size: 10px; fill: #000; opacity: 1;\">10</text><text text-anchor=\"end\" transform=\"translate(-7,163)\" style=\"font-family: sans-serif; font-size: 10px; fill: #000; opacity: 1;\">20</text><text text-anchor=\"end\" transform=\"translate(-7,143)\" style=\"font-family: sans-serif; font-size: 10px; fill: #000; opacity: 1;\">30</text><text text-anchor=\"end\" transform=\"translate(-7,123)\" style=\"font-family: sans-serif; font-size: 10px; fill: #000; opacity: 1;\">40</text><text text-anchor=\"end\" transform=\"translate(-7,103)\" style=\"font-family: sans-serif; font-size: 10px; fill: #000; opacity: 1;\">50</text><text text-anchor=\"end\" transform=\"translate(-7,83)\" style=\"font-family: sans-serif; font-size: 10px; fill: #000; opacity: 1;\">60</text><text text-anchor=\"end\" transform=\"translate(-7,63.00000000000001)\" style=\"font-family: sans-serif; font-size: 10px; fill: #000; opacity: 1;\">70</text><text text-anchor=\"end\" transform=\"translate(-7,42.99999999999999)\" style=\"font-family: sans-serif; font-size: 10px; fill: #000; opacity: 1;\">80</text><text text-anchor=\"end\" transform=\"translate(-7,22.999999999999996)\" style=\"font-family: sans-serif; font-size: 10px; fill: #000; opacity: 1;\">90</text><text text-anchor=\"end\" transform=\"translate(-7,3)\" style=\"font-family: sans-serif; font-size: 10px; fill: #000; opacity: 1;\">100</text></g><g class=\"mark-rule role-axis-domain\" style=\"pointer-events: none;\"><line transform=\"translate(0,200)\" x2=\"0\" y2=\"-200\" style=\"fill: none; stroke: #888; stroke-width: 1; opacity: 1;\"></line></g></g><path class=\"foreground\" d=\"\" style=\"pointer-events: none; display: none; fill: none;\"></path></g></g><g class=\"mark-rect role-mark\"><path d=\"M5,144h47v56h-47Z\" style=\"fill: steelblue;\"></path><path d=\"M54,89.99999999999999h47v110.00000000000001h-47Z\" style=\"fill: steelblue;\"></path><path d=\"M103,114.00000000000001h47v85.99999999999999h-47Z\" style=\"fill: steelblue;\"></path><path d=\"M152,17.999999999999993h47v182h-47Z\" style=\"fill: steelblue;\"></path><path d=\"M201,37.999999999999986h47v162h-47Z\" style=\"fill: steelblue;\"></path><path d=\"M250,94h47v106h-47Z\" style=\"fill: steelblue;\"></path><path d=\"M299,162h47v38h-47Z\" style=\"fill: steelblue;\"></path><path d=\"M348,26h47v174h-47Z\" style=\"fill: steelblue;\"></path></g><g class=\"mark-text role-mark\"><text text-anchor=\"middle\" transform=\"translate(0,-2)\" style=\"font-family: sans-serif; font-size: 11px; fill: #333; fill-opacity: 1;\"></text></g></g><path class=\"foreground\" d=\"\" style=\"display: none; fill: none;\"></path></g></g></g></svg>\n"
      ],
      "text/plain": [
       "@vgplot(\n",
       "    height=200,\n",
       "    padding=5,\n",
       "    marks=[\n",
       "        {\n",
       "            encode={\n",
       "                update={\n",
       "                    fill={\n",
       "                        value=\"steelblue\"\n",
       "                    }\n",
       "                },\n",
       "                hover={\n",
       "                    fill={\n",
       "                        value=\"red\"\n",
       "                    }\n",
       "                },\n",
       "                enter={\n",
       "                    x={\n",
       "                        field=\"category\",\n",
       "                        scale=\"xscale\"\n",
       "                    },\n",
       "                    y2={\n",
       "                        value=0,\n",
       "                        scale=\"yscale\"\n",
       "                    },\n",
       "                    width={\n",
       "                        scale=\"xscale\",\n",
       "                        band=1\n",
       "                    },\n",
       "                    y={\n",
       "                        field=\"amount\",\n",
       "                        scale=\"yscale\"\n",
       "                    }\n",
       "                }\n",
       "            },\n",
       "            from={\n",
       "                data=\"table\"\n",
       "            },\n",
       "            type=\"rect\"\n",
       "        },\n",
       "        {\n",
       "            encode={\n",
       "                update={\n",
       "                    x={\n",
       "                        signal=\"tooltip.category\",\n",
       "                        scale=\"xscale\",\n",
       "                        band=0.5\n",
       "                    },\n",
       "                    fillOpacity=[\n",
       "                        {\n",
       "                            test=\"datum === tooltip\",\n",
       "                            value=0\n",
       "                        },\n",
       "                        {\n",
       "                            value=1\n",
       "                        }\n",
       "                    ],\n",
       "                    text={\n",
       "                        signal=\"tooltip.amount\"\n",
       "                    },\n",
       "                    y={\n",
       "                        offset=-2,\n",
       "                        signal=\"tooltip.amount\",\n",
       "                        scale=\"yscale\"\n",
       "                    }\n",
       "                },\n",
       "                enter={\n",
       "                    fill={\n",
       "                        value=\"#333\"\n",
       "                    },\n",
       "                    baseline={\n",
       "                        value=\"bottom\"\n",
       "                    },\n",
       "                    align={\n",
       "                        value=\"center\"\n",
       "                    }\n",
       "                }\n",
       "            },\n",
       "            type=\"text\"\n",
       "        }\n",
       "    ],\n",
       "    axes=[\n",
       "        {\n",
       "            scale=\"xscale\",\n",
       "            orient=\"bottom\"\n",
       "        },\n",
       "        {\n",
       "            scale=\"yscale\",\n",
       "            orient=\"left\"\n",
       "        }\n",
       "    ],\n",
       "    data=[\n",
       "        {\n",
       "            name=\"table\",\n",
       "            values=[\n",
       "                {\n",
       "                    amount=28,\n",
       "                    category=\"A\"\n",
       "                },\n",
       "                {\n",
       "                    amount=55,\n",
       "                    category=\"B\"\n",
       "                },\n",
       "                {\n",
       "                    amount=43,\n",
       "                    category=\"C\"\n",
       "                },\n",
       "                {\n",
       "                    amount=91,\n",
       "                    category=\"D\"\n",
       "                },\n",
       "                {\n",
       "                    amount=81,\n",
       "                    category=\"E\"\n",
       "                },\n",
       "                {\n",
       "                    amount=53,\n",
       "                    category=\"F\"\n",
       "                },\n",
       "                {\n",
       "                    amount=19,\n",
       "                    category=\"G\"\n",
       "                },\n",
       "                {\n",
       "                    amount=87,\n",
       "                    category=\"H\"\n",
       "                }\n",
       "            ]\n",
       "        }\n",
       "    ],\n",
       "    scales=[\n",
       "        {\n",
       "            name=\"xscale\",\n",
       "            padding=0.05,\n",
       "            range=\"width\",\n",
       "            domain={\n",
       "                data=\"table\",\n",
       "                field=\"category\"\n",
       "            },\n",
       "            type=\"band\",\n",
       "            round=true\n",
       "        },\n",
       "        {\n",
       "            name=\"yscale\",\n",
       "            nice=true,\n",
       "            range=\"height\",\n",
       "            domain={\n",
       "                data=\"table\",\n",
       "                field=\"amount\"\n",
       "            }\n",
       "        }\n",
       "    ],\n",
       "    width=400,\n",
       "    signals=[\n",
       "        {\n",
       "            name=\"tooltip\",\n",
       "            on=[\n",
       "                {\n",
       "                    events=\"rect:mouseover\",\n",
       "                    update=\"datum\"\n",
       "                },\n",
       "                {\n",
       "                    events=\"rect:mouseout\",\n",
       "                    update=\"{}\"\n",
       "                }\n",
       "            ],\n",
       "            value={\n",
       "\n",
       "            }\n",
       "        }\n",
       "    ]\n",
       ")"
      ]
     },
     "execution_count": 2,
     "metadata": {},
     "output_type": "execute_result"
    }
   ],
   "source": [
    "using VegaLite\n",
    "\n",
    "@vgplot(\n",
    "    height=200,\n",
    "    padding=5,\n",
    "    marks=[\n",
    "        {\n",
    "            encode={\n",
    "                update={\n",
    "                    fill={\n",
    "                        value=\"steelblue\"\n",
    "                    }\n",
    "                },\n",
    "                hover={\n",
    "                    fill={\n",
    "                        value=\"red\"\n",
    "                    }\n",
    "                },\n",
    "                enter={\n",
    "                    x={\n",
    "                        field=\"category\",\n",
    "                        scale=\"xscale\"\n",
    "                    },\n",
    "                    y2={\n",
    "                        value=0,\n",
    "                        scale=\"yscale\"\n",
    "                    },\n",
    "                    width={\n",
    "                        scale=\"xscale\",\n",
    "                        band=1\n",
    "                    },\n",
    "                    y={\n",
    "                        field=\"amount\",\n",
    "                        scale=\"yscale\"\n",
    "                    }\n",
    "                }\n",
    "            },\n",
    "            from={\n",
    "                data=\"table\"\n",
    "            },\n",
    "            type=\"rect\"\n",
    "        },\n",
    "        {\n",
    "            encode={\n",
    "                update={\n",
    "                    x={\n",
    "                        signal=\"tooltip.category\",\n",
    "                        scale=\"xscale\",\n",
    "                        band=0.5\n",
    "                    },\n",
    "                    fillOpacity=[\n",
    "                        {\n",
    "                            test=\"datum === tooltip\",\n",
    "                            value=0\n",
    "                        },\n",
    "                        {\n",
    "                            value=1\n",
    "                        }\n",
    "                    ],\n",
    "                    text={\n",
    "                        signal=\"tooltip.amount\"\n",
    "                    },\n",
    "                    y={\n",
    "                        offset=-2,\n",
    "                        signal=\"tooltip.amount\",\n",
    "                        scale=\"yscale\"\n",
    "                    }\n",
    "                },\n",
    "                enter={\n",
    "                    fill={\n",
    "                        value=\"#333\"\n",
    "                    },\n",
    "                    baseline={\n",
    "                        value=\"bottom\"\n",
    "                    },\n",
    "                    align={\n",
    "                        value=\"center\"\n",
    "                    }\n",
    "                }\n",
    "            },\n",
    "            type=\"text\"\n",
    "        }\n",
    "    ],\n",
    "    axes=[\n",
    "        {\n",
    "            scale=\"xscale\",\n",
    "            orient=\"bottom\"\n",
    "        },\n",
    "        {\n",
    "            scale=\"yscale\",\n",
    "            orient=\"left\"\n",
    "        }\n",
    "    ],\n",
    "    data=[\n",
    "        {\n",
    "            name=\"table\",\n",
    "            values=[\n",
    "                {\n",
    "                    amount=28,\n",
    "                    category=\"A\"\n",
    "                },\n",
    "                {\n",
    "                    amount=55,\n",
    "                    category=\"B\"\n",
    "                },\n",
    "                {\n",
    "                    amount=43,\n",
    "                    category=\"C\"\n",
    "                },\n",
    "                {\n",
    "                    amount=91,\n",
    "                    category=\"D\"\n",
    "                },\n",
    "                {\n",
    "                    amount=81,\n",
    "                    category=\"E\"\n",
    "                },\n",
    "                {\n",
    "                    amount=53,\n",
    "                    category=\"F\"\n",
    "                },\n",
    "                {\n",
    "                    amount=19,\n",
    "                    category=\"G\"\n",
    "                },\n",
    "                {\n",
    "                    amount=87,\n",
    "                    category=\"H\"\n",
    "                }\n",
    "            ]\n",
    "        }\n",
    "    ],\n",
    "    scales=[\n",
    "        {\n",
    "            name=\"xscale\",\n",
    "            padding=0.05,\n",
    "            range=\"width\",\n",
    "            domain={\n",
    "                data=\"table\",\n",
    "                field=\"category\"\n",
    "            },\n",
    "            type=\"band\",\n",
    "            round=true\n",
    "        },\n",
    "        {\n",
    "            name=\"yscale\",\n",
    "            nice=true,\n",
    "            range=\"height\",\n",
    "            domain={\n",
    "                data=\"table\",\n",
    "                field=\"amount\"\n",
    "            }\n",
    "        }\n",
    "    ],\n",
    "    width=400,\n",
    "    signals=[\n",
    "        {\n",
    "            name=\"tooltip\",\n",
    "            on=[\n",
    "                {\n",
    "                    events=\"rect:mouseover\",\n",
    "                    update=\"datum\"\n",
    "                },\n",
    "                {\n",
    "                    events=\"rect:mouseout\",\n",
    "                    update=\"{}\"\n",
    "                }\n",
    "            ],\n",
    "            value={\n",
    "\n",
    "            }\n",
    "        }\n",
    "    ]\n",
    ")"
   ]
  },
  {
   "cell_type": "markdown",
   "metadata": {},
   "source": [
    "## Stacked Bar Chart"
   ]
  },
  {
   "cell_type": "code",
   "execution_count": 3,
   "metadata": {},
   "outputs": [
    {
     "data": {
      "application/vnd.vega.v5+json": {
       "axes": [
        {
         "orient": "bottom",
         "scale": "x",
         "zindex": 1
        },
        {
         "orient": "left",
         "scale": "y",
         "zindex": 1
        }
       ],
       "data": [
        {
         "name": "table",
         "transform": [
          {
           "field": "y",
           "groupby": [
            "x"
           ],
           "sort": {
            "field": "c"
           },
           "type": "stack"
          }
         ],
         "values": [
          {
           "c": 0,
           "x": 0,
           "y": 28,
           "y0": 0,
           "y1": 28
          },
          {
           "c": 1,
           "x": 0,
           "y": 55,
           "y0": 28,
           "y1": 83
          },
          {
           "c": 0,
           "x": 1,
           "y": 43,
           "y0": 0,
           "y1": 43
          },
          {
           "c": 1,
           "x": 1,
           "y": 91,
           "y0": 43,
           "y1": 134
          },
          {
           "c": 0,
           "x": 2,
           "y": 81,
           "y0": 0,
           "y1": 81
          },
          {
           "c": 1,
           "x": 2,
           "y": 53,
           "y0": 81,
           "y1": 134
          },
          {
           "c": 0,
           "x": 3,
           "y": 19,
           "y0": 0,
           "y1": 19
          },
          {
           "c": 1,
           "x": 3,
           "y": 87,
           "y0": 19,
           "y1": 106
          },
          {
           "c": 0,
           "x": 4,
           "y": 52,
           "y0": 0,
           "y1": 52
          },
          {
           "c": 1,
           "x": 4,
           "y": 48,
           "y0": 52,
           "y1": 100
          },
          {
           "c": 0,
           "x": 5,
           "y": 24,
           "y0": 0,
           "y1": 24
          },
          {
           "c": 1,
           "x": 5,
           "y": 49,
           "y0": 24,
           "y1": 73
          },
          {
           "c": 0,
           "x": 6,
           "y": 87,
           "y0": 0,
           "y1": 87
          },
          {
           "c": 1,
           "x": 6,
           "y": 66,
           "y0": 87,
           "y1": 153
          },
          {
           "c": 0,
           "x": 7,
           "y": 17,
           "y0": 0,
           "y1": 17
          },
          {
           "c": 1,
           "x": 7,
           "y": 27,
           "y0": 17,
           "y1": 44
          },
          {
           "c": 0,
           "x": 8,
           "y": 68,
           "y0": 0,
           "y1": 68
          },
          {
           "c": 1,
           "x": 8,
           "y": 16,
           "y0": 68,
           "y1": 84
          },
          {
           "c": 0,
           "x": 9,
           "y": 49,
           "y0": 0,
           "y1": 49
          },
          {
           "c": 1,
           "x": 9,
           "y": 15,
           "y0": 49,
           "y1": 64
          }
         ]
        }
       ],
       "height": 200,
       "marks": [
        {
         "encode": {
          "enter": {
           "fill": {
            "field": "c",
            "scale": "color"
           },
           "width": {
            "band": 1,
            "offset": -1,
            "scale": "x"
           },
           "x": {
            "field": "x",
            "scale": "x"
           },
           "y": {
            "field": "y0",
            "scale": "y"
           },
           "y2": {
            "field": "y1",
            "scale": "y"
           }
          },
          "hover": {
           "fillOpacity": {
            "value": 0.5
           }
          },
          "update": {
           "fillOpacity": {
            "value": 1
           }
          }
         },
         "from": {
          "data": "table"
         },
         "type": "rect"
        }
       ],
       "padding": 5,
       "scales": [
        {
         "domain": {
          "data": "table",
          "field": "x"
         },
         "name": "x",
         "range": "width",
         "type": "band"
        },
        {
         "domain": {
          "data": "table",
          "field": "y1"
         },
         "name": "y",
         "nice": true,
         "range": "height",
         "type": "linear",
         "zero": true
        },
        {
         "domain": {
          "data": "table",
          "field": "c"
         },
         "name": "color",
         "range": "category",
         "type": "ordinal"
        }
       ],
       "width": 500
      },
      "image/png": "[encoded data removed]",
      "image/svg+xml": [
       "<?xml version=\"1.0\" encoding=\"utf-8\"?>\n",
       "<!DOCTYPE svg PUBLIC \"-//W3C//DTD SVG 1.1//EN\" \"http://www.w3.org/Graphics/SVG/1.1/DTD/svg11.dtd\">\n",
       "<svg class=\"marks\" width=\"532\" height=\"232\" viewBox=\"0 0 532 232\" version=\"1.1\" xmlns=\"http://www.w3.org/2000/svg\" xmlns:xlink=\"http://www.w3.org/1999/xlink\"><g transform=\"translate(27,10)\"><g class=\"mark-group role-frame root\"><g transform=\"translate(0,0)\"><path class=\"background\" d=\"M0,0h500v200h-500Z\" style=\"fill: none;\"></path><g><g class=\"mark-rect role-mark\"><path d=\"M0,165h49v35h-49Z\" style=\"fill: #4c78a8; fill-opacity: 1;\"></path><path d=\"M0,96.24999999999999h49v68.75000000000001h-49Z\" style=\"fill: #f58518; fill-opacity: 1;\"></path><path d=\"M50,146.25h49v53.75h-49Z\" style=\"fill: #4c78a8; fill-opacity: 1;\"></path><path d=\"M50,32.49999999999999h49v113.75h-49Z\" style=\"fill: #f58518; fill-opacity: 1;\"></path><path d=\"M100,98.75h49v101.25h-49Z\" style=\"fill: #4c78a8; fill-opacity: 1;\"></path><path d=\"M100,32.49999999999999h49v66.25h-49Z\" style=\"fill: #f58518; fill-opacity: 1;\"></path><path d=\"M150,176.25h49v23.75h-49Z\" style=\"fill: #4c78a8; fill-opacity: 1;\"></path><path d=\"M150,67.5h49v108.75h-49Z\" style=\"fill: #f58518; fill-opacity: 1;\"></path><path d=\"M200,135h49v65h-49Z\" style=\"fill: #4c78a8; fill-opacity: 1;\"></path><path d=\"M200,75h49v60h-49Z\" style=\"fill: #f58518; fill-opacity: 1;\"></path><path d=\"M250,170h49v30h-49Z\" style=\"fill: #4c78a8; fill-opacity: 1;\"></path><path d=\"M250,108.74999999999999h49v61.250000000000014h-49Z\" style=\"fill: #f58518; fill-opacity: 1;\"></path><path d=\"M300,91.25000000000001h49v108.74999999999999h-49Z\" style=\"fill: #4c78a8; fill-opacity: 1;\"></path><path d=\"M300,8.749999999999991h49v82.50000000000003h-49Z\" style=\"fill: #f58518; fill-opacity: 1;\"></path><path d=\"M350,178.75h49v21.25h-49Z\" style=\"fill: #4c78a8; fill-opacity: 1;\"></path><path d=\"M350,145h49v33.75h-49Z\" style=\"fill: #f58518; fill-opacity: 1;\"></path><path d=\"M400,114.99999999999999h49v85.00000000000001h-49Z\" style=\"fill: #4c78a8; fill-opacity: 1;\"></path><path d=\"M400,95h49v19.999999999999986h-49Z\" style=\"fill: #f58518; fill-opacity: 1;\"></path><path d=\"M450,138.75h49v61.25h-49Z\" style=\"fill: #4c78a8; fill-opacity: 1;\"></path><path d=\"M450,120h49v18.75h-49Z\" style=\"fill: #f58518; fill-opacity: 1;\"></path></g><g class=\"mark-group role-axis\"><g transform=\"translate(0.5,200.5)\"><path class=\"background\" d=\"M0,0h0v0h0Z\" style=\"pointer-events: none; fill: none;\"></path><g><g class=\"mark-rule role-axis-tick\" style=\"pointer-events: none;\"><line transform=\"translate(25,0)\" x2=\"0\" y2=\"5\" style=\"fill: none; stroke: #888; stroke-width: 1; opacity: 1;\"></line><line transform=\"translate(75,0)\" x2=\"0\" y2=\"5\" style=\"fill: none; stroke: #888; stroke-width: 1; opacity: 1;\"></line><line transform=\"translate(125,0)\" x2=\"0\" y2=\"5\" style=\"fill: none; stroke: #888; stroke-width: 1; opacity: 1;\"></line><line transform=\"translate(175,0)\" x2=\"0\" y2=\"5\" style=\"fill: none; stroke: #888; stroke-width: 1; opacity: 1;\"></line><line transform=\"translate(225,0)\" x2=\"0\" y2=\"5\" style=\"fill: none; stroke: #888; stroke-width: 1; opacity: 1;\"></line><line transform=\"translate(275,0)\" x2=\"0\" y2=\"5\" style=\"fill: none; stroke: #888; stroke-width: 1; opacity: 1;\"></line><line transform=\"translate(325,0)\" x2=\"0\" y2=\"5\" style=\"fill: none; stroke: #888; stroke-width: 1; opacity: 1;\"></line><line transform=\"translate(375,0)\" x2=\"0\" y2=\"5\" style=\"fill: none; stroke: #888; stroke-width: 1; opacity: 1;\"></line><line transform=\"translate(425,0)\" x2=\"0\" y2=\"5\" style=\"fill: none; stroke: #888; stroke-width: 1; opacity: 1;\"></line><line transform=\"translate(475,0)\" x2=\"0\" y2=\"5\" style=\"fill: none; stroke: #888; stroke-width: 1; opacity: 1;\"></line></g><g class=\"mark-text role-axis-label\" style=\"pointer-events: none;\"><text text-anchor=\"middle\" transform=\"translate(24.5,15)\" style=\"font-family: sans-serif; font-size: 10px; fill: #000; opacity: 1;\">0</text><text text-anchor=\"middle\" transform=\"translate(74.5,15)\" style=\"font-family: sans-serif; font-size: 10px; fill: #000; opacity: 1;\">1</text><text text-anchor=\"middle\" transform=\"translate(124.5,15)\" style=\"font-family: sans-serif; font-size: 10px; fill: #000; opacity: 1;\">2</text><text text-anchor=\"middle\" transform=\"translate(174.5,15)\" style=\"font-family: sans-serif; font-size: 10px; fill: #000; opacity: 1;\">3</text><text text-anchor=\"middle\" transform=\"translate(224.5,15)\" style=\"font-family: sans-serif; font-size: 10px; fill: #000; opacity: 1;\">4</text><text text-anchor=\"middle\" transform=\"translate(274.5,15)\" style=\"font-family: sans-serif; font-size: 10px; fill: #000; opacity: 1;\">5</text><text text-anchor=\"middle\" transform=\"translate(324.5,15)\" style=\"font-family: sans-serif; font-size: 10px; fill: #000; opacity: 1;\">6</text><text text-anchor=\"middle\" transform=\"translate(374.5,15)\" style=\"font-family: sans-serif; font-size: 10px; fill: #000; opacity: 1;\">7</text><text text-anchor=\"middle\" transform=\"translate(424.5,15)\" style=\"font-family: sans-serif; font-size: 10px; fill: #000; opacity: 1;\">8</text><text text-anchor=\"middle\" transform=\"translate(474.5,15)\" style=\"font-family: sans-serif; font-size: 10px; fill: #000; opacity: 1;\">9</text></g><g class=\"mark-rule role-axis-domain\" style=\"pointer-events: none;\"><line transform=\"translate(0,0)\" x2=\"500\" y2=\"0\" style=\"fill: none; stroke: #888; stroke-width: 1; opacity: 1;\"></line></g></g><path class=\"foreground\" d=\"\" style=\"pointer-events: none; display: none; fill: none;\"></path></g></g><g class=\"mark-group role-axis\"><g transform=\"translate(0.5,0.5)\"><path class=\"background\" d=\"M0,0h0v0h0Z\" style=\"pointer-events: none; fill: none;\"></path><g><g class=\"mark-rule role-axis-tick\" style=\"pointer-events: none;\"><line transform=\"translate(0,200)\" x2=\"-5\" y2=\"0\" style=\"fill: none; stroke: #888; stroke-width: 1; opacity: 1;\"></line><line transform=\"translate(0,175)\" x2=\"-5\" y2=\"0\" style=\"fill: none; stroke: #888; stroke-width: 1; opacity: 1;\"></line><line transform=\"translate(0,150)\" x2=\"-5\" y2=\"0\" style=\"fill: none; stroke: #888; stroke-width: 1; opacity: 1;\"></line><line transform=\"translate(0,125)\" x2=\"-5\" y2=\"0\" style=\"fill: none; stroke: #888; stroke-width: 1; opacity: 1;\"></line><line transform=\"translate(0,100)\" x2=\"-5\" y2=\"0\" style=\"fill: none; stroke: #888; stroke-width: 1; opacity: 1;\"></line><line transform=\"translate(0,75)\" x2=\"-5\" y2=\"0\" style=\"fill: none; stroke: #888; stroke-width: 1; opacity: 1;\"></line><line transform=\"translate(0,50)\" x2=\"-5\" y2=\"0\" style=\"fill: none; stroke: #888; stroke-width: 1; opacity: 1;\"></line><line transform=\"translate(0,25)\" x2=\"-5\" y2=\"0\" style=\"fill: none; stroke: #888; stroke-width: 1; opacity: 1;\"></line><line transform=\"translate(0,0)\" x2=\"-5\" y2=\"0\" style=\"fill: none; stroke: #888; stroke-width: 1; opacity: 1;\"></line></g><g class=\"mark-text role-axis-label\" style=\"pointer-events: none;\"><text text-anchor=\"end\" transform=\"translate(-7,203)\" style=\"font-family: sans-serif; font-size: 10px; fill: #000; opacity: 1;\">0</text><text text-anchor=\"end\" transform=\"translate(-7,178)\" style=\"font-family: sans-serif; font-size: 10px; fill: #000; opacity: 1;\">20</text><text text-anchor=\"end\" transform=\"translate(-7,153)\" style=\"font-family: sans-serif; font-size: 10px; fill: #000; opacity: 1;\">40</text><text text-anchor=\"end\" transform=\"translate(-7,128)\" style=\"font-family: sans-serif; font-size: 10px; fill: #000; opacity: 1;\">60</text><text text-anchor=\"end\" transform=\"translate(-7,103)\" style=\"font-family: sans-serif; font-size: 10px; fill: #000; opacity: 1;\">80</text><text text-anchor=\"end\" transform=\"translate(-7,78)\" style=\"font-family: sans-serif; font-size: 10px; fill: #000; opacity: 1;\">100</text><text text-anchor=\"end\" transform=\"translate(-7,53)\" style=\"font-family: sans-serif; font-size: 10px; fill: #000; opacity: 1;\">120</text><text text-anchor=\"end\" transform=\"translate(-7,28)\" style=\"font-family: sans-serif; font-size: 10px; fill: #000; opacity: 1;\">140</text><text text-anchor=\"end\" transform=\"translate(-7,3)\" style=\"font-family: sans-serif; font-size: 10px; fill: #000; opacity: 1;\">160</text></g><g class=\"mark-rule role-axis-domain\" style=\"pointer-events: none;\"><line transform=\"translate(0,200)\" x2=\"0\" y2=\"-200\" style=\"fill: none; stroke: #888; stroke-width: 1; opacity: 1;\"></line></g></g><path class=\"foreground\" d=\"\" style=\"pointer-events: none; display: none; fill: none;\"></path></g></g></g><path class=\"foreground\" d=\"\" style=\"display: none; fill: none;\"></path></g></g></g></svg>\n"
      ],
      "text/plain": [
       "@vgplot(\n",
       "    height=200,\n",
       "    padding=5,\n",
       "    marks=[\n",
       "        {\n",
       "            encode={\n",
       "                update={\n",
       "                    fillOpacity={\n",
       "                        value=1\n",
       "                    }\n",
       "                },\n",
       "                hover={\n",
       "                    fillOpacity={\n",
       "                        value=0.5\n",
       "                    }\n",
       "                },\n",
       "                enter={\n",
       "                    x={\n",
       "                        field=\"x\",\n",
       "                        scale=\"x\"\n",
       "                    },\n",
       "                    y2={\n",
       "                        field=\"y1\",\n",
       "                        scale=\"y\"\n",
       "                    },\n",
       "                    width={\n",
       "                        offset=-1,\n",
       "                        scale=\"x\",\n",
       "                        band=1\n",
       "                    },\n",
       "                    fill={\n",
       "                        field=\"c\",\n",
       "                        scale=\"color\"\n",
       "                    },\n",
       "                    y={\n",
       "                        field=\"y0\",\n",
       "                        scale=\"y\"\n",
       "                    }\n",
       "                }\n",
       "            },\n",
       "            from={\n",
       "                data=\"table\"\n",
       "            },\n",
       "            type=\"rect\"\n",
       "        }\n",
       "    ],\n",
       "    axes=[\n",
       "        {\n",
       "            zindex=1,\n",
       "            scale=\"x\",\n",
       "            orient=\"bottom\"\n",
       "        },\n",
       "        {\n",
       "            zindex=1,\n",
       "            scale=\"y\",\n",
       "            orient=\"left\"\n",
       "        }\n",
       "    ],\n",
       "    data=[\n",
       "        {\n",
       "            name=\"table\",\n",
       "            values=[\n",
       "                {\n",
       "                    c=0,\n",
       "                    x=0,\n",
       "                    y=28\n",
       "                },\n",
       "                {\n",
       "                    c=1,\n",
       "                    x=0,\n",
       "                    y=55\n",
       "                },\n",
       "                {\n",
       "                    c=0,\n",
       "                    x=1,\n",
       "                    y=43\n",
       "                },\n",
       "                {\n",
       "                    c=1,\n",
       "                    x=1,\n",
       "                    y=91\n",
       "                },\n",
       "                {\n",
       "                    c=0,\n",
       "                    x=2,\n",
       "                    y=81\n",
       "                },\n",
       "                {\n",
       "                    c=1,\n",
       "                    x=2,\n",
       "                    y=53\n",
       "                },\n",
       "                {\n",
       "                    c=0,\n",
       "                    x=3,\n",
       "                    y=19\n",
       "                },\n",
       "                {\n",
       "                    c=1,\n",
       "                    x=3,\n",
       "                    y=87\n",
       "                },\n",
       "                {\n",
       "                    c=0,\n",
       "                    x=4,\n",
       "                    y=52\n",
       "                },\n",
       "                {\n",
       "                    c=1,\n",
       "                    x=4,\n",
       "                    y=48\n",
       "                },\n",
       "                {\n",
       "                    c=0,\n",
       "                    x=5,\n",
       "                    y=24\n",
       "                },\n",
       "                {\n",
       "                    c=1,\n",
       "                    x=5,\n",
       "                    y=49\n",
       "                },\n",
       "                {\n",
       "                    c=0,\n",
       "                    x=6,\n",
       "                    y=87\n",
       "                },\n",
       "                {\n",
       "                    c=1,\n",
       "                    x=6,\n",
       "                    y=66\n",
       "                },\n",
       "                {\n",
       "                    c=0,\n",
       "                    x=7,\n",
       "                    y=17\n",
       "                },\n",
       "                {\n",
       "                    c=1,\n",
       "                    x=7,\n",
       "                    y=27\n",
       "                },\n",
       "                {\n",
       "                    c=0,\n",
       "                    x=8,\n",
       "                    y=68\n",
       "                },\n",
       "                {\n",
       "                    c=1,\n",
       "                    x=8,\n",
       "                    y=16\n",
       "                },\n",
       "                {\n",
       "                    c=0,\n",
       "                    x=9,\n",
       "                    y=49\n",
       "                },\n",
       "                {\n",
       "                    c=1,\n",
       "                    x=9,\n",
       "                    y=15\n",
       "                }\n",
       "            ],\n",
       "            transform=[\n",
       "                {\n",
       "                    sort={\n",
       "                        field=\"c\"\n",
       "                    },\n",
       "                    field=\"y\",\n",
       "                    groupby=[\n",
       "                        \"x\"\n",
       "                    ],\n",
       "                    type=\"stack\"\n",
       "                }\n",
       "            ]\n",
       "        }\n",
       "    ],\n",
       "    scales=[\n",
       "        {\n",
       "            name=\"x\",\n",
       "            range=\"width\",\n",
       "            domain={\n",
       "                data=\"table\",\n",
       "                field=\"x\"\n",
       "            },\n",
       "            type=\"band\"\n",
       "        },\n",
       "        {\n",
       "            name=\"y\",\n",
       "            nice=true,\n",
       "            zero=true,\n",
       "            range=\"height\",\n",
       "            domain={\n",
       "                data=\"table\",\n",
       "                field=\"y1\"\n",
       "            },\n",
       "            type=\"linear\"\n",
       "        },\n",
       "        {\n",
       "            name=\"color\",\n",
       "            range=\"category\",\n",
       "            domain={\n",
       "                data=\"table\",\n",
       "                field=\"c\"\n",
       "            },\n",
       "            type=\"ordinal\"\n",
       "        }\n",
       "    ],\n",
       "    width=500\n",
       ")"
      ]
     },
     "execution_count": 3,
     "metadata": {},
     "output_type": "execute_result"
    }
   ],
   "source": [
    "using VegaLite\n",
    "\n",
    "@vgplot(    \n",
    "    height=200,\n",
    "    padding=5,\n",
    "    marks=[\n",
    "        {\n",
    "            encode={\n",
    "                update={\n",
    "                    fillOpacity={\n",
    "                        value=1\n",
    "                    }\n",
    "                },\n",
    "                hover={\n",
    "                    fillOpacity={\n",
    "                        value=0.5\n",
    "                    }\n",
    "                },\n",
    "                enter={\n",
    "                    x={\n",
    "                        field=\"x\",\n",
    "                        scale=\"x\"\n",
    "                    },\n",
    "                    y2={\n",
    "                        field=\"y1\",\n",
    "                        scale=\"y\"\n",
    "                    },\n",
    "                    width={\n",
    "                        offset=-1,\n",
    "                        scale=\"x\",\n",
    "                        band=1\n",
    "                    },\n",
    "                    fill={\n",
    "                        field=\"c\",\n",
    "                        scale=\"color\"\n",
    "                    },\n",
    "                    y={\n",
    "                        field=\"y0\",\n",
    "                        scale=\"y\"\n",
    "                    }\n",
    "                }\n",
    "            },\n",
    "            from={\n",
    "                data=\"table\"\n",
    "            },\n",
    "            type=\"rect\"\n",
    "        }\n",
    "    ],\n",
    "    axes=[\n",
    "        {\n",
    "            zindex=1,\n",
    "            scale=\"x\",\n",
    "            orient=\"bottom\"\n",
    "        },\n",
    "        {\n",
    "            zindex=1,\n",
    "            scale=\"y\",\n",
    "            orient=\"left\"\n",
    "        }\n",
    "    ],\n",
    "    data=[\n",
    "        {\n",
    "            name=\"table\",\n",
    "            values=[\n",
    "                {\n",
    "                    c=0,\n",
    "                    x=0,\n",
    "                    y=28\n",
    "                },\n",
    "                {\n",
    "                    c=1,\n",
    "                    x=0,\n",
    "                    y=55\n",
    "                },\n",
    "                {\n",
    "                    c=0,\n",
    "                    x=1,\n",
    "                    y=43\n",
    "                },\n",
    "                {\n",
    "                    c=1,\n",
    "                    x=1,\n",
    "                    y=91\n",
    "                },\n",
    "                {\n",
    "                    c=0,\n",
    "                    x=2,\n",
    "                    y=81\n",
    "                },\n",
    "                {\n",
    "                    c=1,\n",
    "                    x=2,\n",
    "                    y=53\n",
    "                },\n",
    "                {\n",
    "                    c=0,\n",
    "                    x=3,\n",
    "                    y=19\n",
    "                },\n",
    "                {\n",
    "                    c=1,\n",
    "                    x=3,\n",
    "                    y=87\n",
    "                },\n",
    "                {\n",
    "                    c=0,\n",
    "                    x=4,\n",
    "                    y=52\n",
    "                },\n",
    "                {\n",
    "                    c=1,\n",
    "                    x=4,\n",
    "                    y=48\n",
    "                },\n",
    "                {\n",
    "                    c=0,\n",
    "                    x=5,\n",
    "                    y=24\n",
    "                },\n",
    "                {\n",
    "                    c=1,\n",
    "                    x=5,\n",
    "                    y=49\n",
    "                },\n",
    "                {\n",
    "                    c=0,\n",
    "                    x=6,\n",
    "                    y=87\n",
    "                },\n",
    "                {\n",
    "                    c=1,\n",
    "                    x=6,\n",
    "                    y=66\n",
    "                },\n",
    "                {\n",
    "                    c=0,\n",
    "                    x=7,\n",
    "                    y=17\n",
    "                },\n",
    "                {\n",
    "                    c=1,\n",
    "                    x=7,\n",
    "                    y=27\n",
    "                },\n",
    "                {\n",
    "                    c=0,\n",
    "                    x=8,\n",
    "                    y=68\n",
    "                },\n",
    "                {\n",
    "                    c=1,\n",
    "                    x=8,\n",
    "                    y=16\n",
    "                },\n",
    "                {\n",
    "                    c=0,\n",
    "                    x=9,\n",
    "                    y=49\n",
    "                },\n",
    "                {\n",
    "                    c=1,\n",
    "                    x=9,\n",
    "                    y=15\n",
    "                }\n",
    "            ],\n",
    "            transform=[\n",
    "                {\n",
    "                    sort={\n",
    "                        field=\"c\"\n",
    "                    },\n",
    "                    field=\"y\",\n",
    "                    groupby=[\n",
    "                        \"x\"\n",
    "                    ],\n",
    "                    type=\"stack\"\n",
    "                }\n",
    "            ]\n",
    "        }\n",
    "    ],\n",
    "    scales=[\n",
    "        {\n",
    "            name=\"x\",\n",
    "            range=\"width\",\n",
    "            domain={\n",
    "                data=\"table\",\n",
    "                field=\"x\"\n",
    "            },\n",
    "            type=\"band\"\n",
    "        },\n",
    "        {\n",
    "            name=\"y\",\n",
    "            nice=true,\n",
    "            zero=true,\n",
    "            range=\"height\",\n",
    "            domain={\n",
    "                data=\"table\",\n",
    "                field=\"y1\"\n",
    "            },\n",
    "            type=\"linear\"\n",
    "        },\n",
    "        {\n",
    "            name=\"color\",\n",
    "            range=\"category\",\n",
    "            domain={\n",
    "                data=\"table\",\n",
    "                field=\"c\"\n",
    "            },\n",
    "            type=\"ordinal\"\n",
    "        }\n",
    "    ],\n",
    "    width=500\n",
    ")"
   ]
  },
  {
   "cell_type": "markdown",
   "metadata": {},
   "source": [
    "## Grouped Bar Chart"
   ]
  },
  {
   "cell_type": "code",
   "execution_count": 4,
   "metadata": {},
   "outputs": [
    {
     "data": {
      "image/svg+xml": [
       "<?xml version=\"1.0\" encoding=\"utf-8\"?>\n",
       "<!DOCTYPE svg PUBLIC \"-//W3C//DTD SVG 1.1//EN\" \"http://www.w3.org/Graphics/SVG/1.1/DTD/svg11.dtd\">\n",
       "<svg class=\"marks\" width=\"328\" height=\"267\" viewBox=\"0 0 328 267\" version=\"1.1\" xmlns=\"http://www.w3.org/2000/svg\" xmlns:xlink=\"http://www.w3.org/1999/xlink\"><g transform=\"translate(16,5)\"><g class=\"mark-group role-frame root\"><g transform=\"translate(0,0)\"><path class=\"background\" d=\"M0,0h300v240h-300Z\" style=\"fill: none;\"></path><g><g class=\"mark-group role-axis\"><g transform=\"translate(0.5,240.5)\"><path class=\"background\" d=\"M0,0h0v0h0Z\" style=\"pointer-events: none; fill: none;\"></path><g><g class=\"mark-rule role-axis-tick\" style=\"pointer-events: none;\"><line transform=\"translate(0,0)\" x2=\"0\" y2=\"5\" style=\"fill: none; stroke: #888; stroke-width: 1; opacity: 1;\"></line><line transform=\"translate(27,0)\" x2=\"0\" y2=\"5\" style=\"fill: none; stroke: #888; stroke-width: 1; opacity: 1;\"></line><line transform=\"translate(55,0)\" x2=\"0\" y2=\"5\" style=\"fill: none; stroke: #888; stroke-width: 1; opacity: 1;\"></line><line transform=\"translate(82,0)\" x2=\"0\" y2=\"5\" style=\"fill: none; stroke: #888; stroke-width: 1; opacity: 1;\"></line><line transform=\"translate(109,0)\" x2=\"0\" y2=\"5\" style=\"fill: none; stroke: #888; stroke-width: 1; opacity: 1;\"></line><line transform=\"translate(136,0)\" x2=\"0\" y2=\"5\" style=\"fill: none; stroke: #888; stroke-width: 1; opacity: 1;\"></line><line transform=\"translate(164,0)\" x2=\"0\" y2=\"5\" style=\"fill: none; stroke: #888; stroke-width: 1; opacity: 1;\"></line><line transform=\"translate(191,0)\" x2=\"0\" y2=\"5\" style=\"fill: none; stroke: #888; stroke-width: 1; opacity: 1;\"></line><line transform=\"translate(218,0)\" x2=\"0\" y2=\"5\" style=\"fill: none; stroke: #888; stroke-width: 1; opacity: 1;\"></line><line transform=\"translate(245,0)\" x2=\"0\" y2=\"5\" style=\"fill: none; stroke: #888; stroke-width: 1; opacity: 1;\"></line><line transform=\"translate(273,0)\" x2=\"0\" y2=\"5\" style=\"fill: none; stroke: #888; stroke-width: 1; opacity: 1;\"></line><line transform=\"translate(300,0)\" x2=\"0\" y2=\"5\" style=\"fill: none; stroke: #888; stroke-width: 1; opacity: 1;\"></line></g><g class=\"mark-text role-axis-label\" style=\"pointer-events: none;\"><text text-anchor=\"middle\" transform=\"translate(0,15)\" style=\"font-family: sans-serif; font-size: 10px; fill: #000; opacity: 1;\">0.0</text><text text-anchor=\"middle\" transform=\"translate(27,15)\" style=\"font-family: sans-serif; font-size: 10px; fill: #000; opacity: 1;\">0.1</text><text text-anchor=\"middle\" transform=\"translate(55,15)\" style=\"font-family: sans-serif; font-size: 10px; fill: #000; opacity: 1;\">0.2</text><text text-anchor=\"middle\" transform=\"translate(82,15)\" style=\"font-family: sans-serif; font-size: 10px; fill: #000; opacity: 1;\">0.3</text><text text-anchor=\"middle\" transform=\"translate(109,15)\" style=\"font-family: sans-serif; font-size: 10px; fill: #000; opacity: 1;\">0.4</text><text text-anchor=\"middle\" transform=\"translate(136,15)\" style=\"font-family: sans-serif; font-size: 10px; fill: #000; opacity: 1;\">0.5</text><text text-anchor=\"middle\" transform=\"translate(164,15)\" style=\"font-family: sans-serif; font-size: 10px; fill: #000; opacity: 1;\">0.6</text><text text-anchor=\"middle\" transform=\"translate(191,15)\" style=\"font-family: sans-serif; font-size: 10px; fill: #000; opacity: 1;\">0.7</text><text text-anchor=\"middle\" transform=\"translate(218,15)\" style=\"font-family: sans-serif; font-size: 10px; fill: #000; opacity: 1;\">0.8</text><text text-anchor=\"middle\" transform=\"translate(245,15)\" style=\"font-family: sans-serif; font-size: 10px; fill: #000; opacity: 1;\">0.9</text><text text-anchor=\"middle\" transform=\"translate(273,15)\" style=\"font-family: sans-serif; font-size: 10px; fill: #000; opacity: 1;\">1.0</text><text text-anchor=\"middle\" transform=\"translate(300,15)\" style=\"font-family: sans-serif; font-size: 10px; fill: #000; opacity: 1;\">1.1</text></g><g class=\"mark-rule role-axis-domain\" style=\"pointer-events: none;\"><line transform=\"translate(0,0)\" x2=\"300\" y2=\"0\" style=\"fill: none; stroke: #888; stroke-width: 1; opacity: 1;\"></line></g></g><path class=\"foreground\" d=\"\" style=\"pointer-events: none; display: none; fill: none;\"></path></g></g><g class=\"mark-group role-scope\"><g transform=\"translate(0,15)\"><path class=\"background\" d=\"M0,0h0v0h0Z\" style=\"fill: none;\"></path><g><g class=\"mark-rect role-mark bars\"><path d=\"M0,0h27v15h-27Z\" style=\"fill: #1f77b4;\"></path><path d=\"M0,15h164v15h-164Z\" style=\"fill: #aec7e8;\"></path><path d=\"M0,30h245v15h-245Z\" style=\"fill: #ff7f0e;\"></path><path d=\"M0,45h109v15h-109Z\" style=\"fill: #ffbb78;\"></path></g><g class=\"mark-text role-mark\"><text text-anchor=\"end\" transform=\"translate(22,10.5)\" style=\"font-family: sans-serif; font-size: 11px; fill: white;\">0.1</text><text text-anchor=\"end\" transform=\"translate(159,25.5)\" style=\"font-family: sans-serif; font-size: 11px; fill: black;\">0.6</text><text text-anchor=\"end\" transform=\"translate(240,40.5)\" style=\"font-family: sans-serif; font-size: 11px; fill: black;\">0.9</text><text text-anchor=\"end\" transform=\"translate(104,55.5)\" style=\"font-family: sans-serif; font-size: 11px; fill: black;\">0.4</text></g></g><path class=\"foreground\" d=\"\" style=\"display: none; fill: none;\"></path></g><g transform=\"translate(0,90)\"><path class=\"background\" d=\"M0,0h0v0h0Z\" style=\"fill: none;\"></path><g><g class=\"mark-rect role-mark bars\"><path d=\"M0,0h191v15h-191Z\" style=\"fill: #1f77b4;\"></path><path d=\"M0,15h55v15h-55Z\" style=\"fill: #aec7e8;\"></path><path d=\"M0,30h300v15h-300Z\" style=\"fill: #ff7f0e;\"></path><path d=\"M0,45h218v15h-218Z\" style=\"fill: #ffbb78;\"></path></g><g class=\"mark-text role-mark\"><text text-anchor=\"end\" transform=\"translate(186,10.5)\" style=\"font-family: sans-serif; font-size: 11px; fill: white;\">0.7</text><text text-anchor=\"end\" transform=\"translate(50,25.5)\" style=\"font-family: sans-serif; font-size: 11px; fill: black;\">0.2</text><text text-anchor=\"end\" transform=\"translate(295,40.5)\" style=\"font-family: sans-serif; font-size: 11px; fill: black;\">1.1</text><text text-anchor=\"end\" transform=\"translate(213,55.5)\" style=\"font-family: sans-serif; font-size: 11px; fill: black;\">0.8</text></g></g><path class=\"foreground\" d=\"\" style=\"display: none; fill: none;\"></path></g><g transform=\"translate(0,165)\"><path class=\"background\" d=\"M0,0h0v0h0Z\" style=\"fill: none;\"></path><g><g class=\"mark-rect role-mark bars\"><path d=\"M0,0h164v15h-164Z\" style=\"fill: #1f77b4;\"></path><path d=\"M0,15h27v15h-27Z\" style=\"fill: #aec7e8;\"></path><path d=\"M0,30h55v15h-55Z\" style=\"fill: #ff7f0e;\"></path><path d=\"M0,45h191v15h-191Z\" style=\"fill: #ffbb78;\"></path></g><g class=\"mark-text role-mark\"><text text-anchor=\"end\" transform=\"translate(159,10.5)\" style=\"font-family: sans-serif; font-size: 11px; fill: white;\">0.6</text><text text-anchor=\"end\" transform=\"translate(22,25.5)\" style=\"font-family: sans-serif; font-size: 11px; fill: black;\">0.1</text><text text-anchor=\"end\" transform=\"translate(50,40.5)\" style=\"font-family: sans-serif; font-size: 11px; fill: black;\">0.2</text><text text-anchor=\"end\" transform=\"translate(186,55.5)\" style=\"font-family: sans-serif; font-size: 11px; fill: black;\">0.7</text></g></g><path class=\"foreground\" d=\"\" style=\"display: none; fill: none;\"></path></g></g><g class=\"mark-group role-axis\"><g transform=\"translate(0.5,0.5)\"><path class=\"background\" d=\"M0,0h0v0h0Z\" style=\"pointer-events: none; fill: none;\"></path><g><g class=\"mark-rule role-axis-tick\" style=\"pointer-events: none;\"><line transform=\"translate(0,45)\" x2=\"0\" y2=\"0\" style=\"fill: none; stroke: #888; stroke-width: 1; opacity: 1;\"></line><line transform=\"translate(0,120)\" x2=\"0\" y2=\"0\" style=\"fill: none; stroke: #888; stroke-width: 1; opacity: 1;\"></line><line transform=\"translate(0,195)\" x2=\"0\" y2=\"0\" style=\"fill: none; stroke: #888; stroke-width: 1; opacity: 1;\"></line></g><g class=\"mark-text role-axis-label\" style=\"pointer-events: none;\"><text text-anchor=\"end\" transform=\"translate(-4,47.5)\" style=\"font-family: sans-serif; font-size: 10px; fill: #000; opacity: 1;\">A</text><text text-anchor=\"end\" transform=\"translate(-4,122.5)\" style=\"font-family: sans-serif; font-size: 10px; fill: #000; opacity: 1;\">B</text><text text-anchor=\"end\" transform=\"translate(-4,197.5)\" style=\"font-family: sans-serif; font-size: 10px; fill: #000; opacity: 1;\">C</text></g><g class=\"mark-rule role-axis-domain\" style=\"pointer-events: none;\"><line transform=\"translate(0,0)\" x2=\"0\" y2=\"240\" style=\"fill: none; stroke: #888; stroke-width: 1; opacity: 1;\"></line></g></g><path class=\"foreground\" d=\"\" style=\"pointer-events: none; display: none; fill: none;\"></path></g></g></g><path class=\"foreground\" d=\"\" style=\"display: none; fill: none;\"></path></g></g></g></svg>\n"
      ],
      "text/plain": [
       "DisplayAs.Showable{MIME{Symbol(\"image/svg+xml\")}}(VegaLite.VGSpec)"
      ]
     },
     "execution_count": 4,
     "metadata": {},
     "output_type": "execute_result"
    }
   ],
   "source": [
    "using VegaLite, DisplayAs\n",
    "\n",
    "@vgplot(\n",
    "    height=240,\n",
    "    padding=5,\n",
    "    marks=[\n",
    "        {\n",
    "            marks=[\n",
    "                {\n",
    "                    name=\"bars\",\n",
    "                    encode={\n",
    "                        enter={\n",
    "                            height={\n",
    "                                scale=\"pos\",\n",
    "                                band=1\n",
    "                            },\n",
    "                            x2={\n",
    "                                value=0,\n",
    "                                scale=\"xscale\"\n",
    "                            },\n",
    "                            x={\n",
    "                                field=\"value\",\n",
    "                                scale=\"xscale\"\n",
    "                            },\n",
    "                            fill={\n",
    "                                field=\"position\",\n",
    "                                scale=\"color\"\n",
    "                            },\n",
    "                            y={\n",
    "                                field=\"position\",\n",
    "                                scale=\"pos\"\n",
    "                            }\n",
    "                        }\n",
    "                    },\n",
    "                    from={\n",
    "                        data=\"facet\"\n",
    "                    },\n",
    "                    type=\"rect\"\n",
    "                },\n",
    "                {\n",
    "                    encode={\n",
    "                        enter={\n",
    "                            align={\n",
    "                                value=\"right\"\n",
    "                            },\n",
    "                            x={\n",
    "                                offset=-5,\n",
    "                                field=\"x2\"\n",
    "                            },\n",
    "                            fill=[\n",
    "                                {\n",
    "                                    test=\"contrast('white', datum.fill) > contrast('black', datum.fill)\",\n",
    "                                    value=\"white\"\n",
    "                                },\n",
    "                                {\n",
    "                                    value=\"black\"\n",
    "                                }\n",
    "                            ],\n",
    "                            baseline={\n",
    "                                value=\"middle\"\n",
    "                            },\n",
    "                            text={\n",
    "                                field=\"datum.value\"\n",
    "                            },\n",
    "                            y={\n",
    "                                offset={\n",
    "                                    mult=0.5,\n",
    "                                    field=\"height\"\n",
    "                                },\n",
    "                                field=\"y\"\n",
    "                            }\n",
    "                        }\n",
    "                    },\n",
    "                    from={\n",
    "                        data=\"bars\"\n",
    "                    },\n",
    "                    type=\"text\"\n",
    "                }\n",
    "            ],\n",
    "            encode={\n",
    "                enter={\n",
    "                    y={\n",
    "                        field=\"category\",\n",
    "                        scale=\"yscale\"\n",
    "                    }\n",
    "                }\n",
    "            },\n",
    "            scales=[\n",
    "                {\n",
    "                    name=\"pos\",\n",
    "                    range=\"height\",\n",
    "                    domain={\n",
    "                        data=\"facet\",\n",
    "                        field=\"position\"\n",
    "                    },\n",
    "                    type=\"band\"\n",
    "                }\n",
    "            ],\n",
    "            signals=[\n",
    "                {\n",
    "                    name=\"height\",\n",
    "                    update=\"bandwidth('yscale')\"\n",
    "                }\n",
    "            ],\n",
    "            from={\n",
    "                facet={\n",
    "                    name=\"facet\",\n",
    "                    data=\"table\",\n",
    "                    groupby=\"category\"\n",
    "                }\n",
    "            },\n",
    "            type=\"group\"\n",
    "        }\n",
    "    ],\n",
    "    axes=[\n",
    "        {\n",
    "            labelPadding=4,\n",
    "            zindex=1,\n",
    "            scale=\"yscale\",\n",
    "            orient=\"left\",\n",
    "            tickSize=0\n",
    "        },\n",
    "        {\n",
    "            scale=\"xscale\",\n",
    "            orient=\"bottom\"\n",
    "        }\n",
    "    ],\n",
    "    data=[\n",
    "        {\n",
    "            name=\"table\",\n",
    "            values=[\n",
    "                {\n",
    "                    position=0,\n",
    "                    value=0.1,\n",
    "                    category=\"A\"\n",
    "                },\n",
    "                {\n",
    "                    position=1,\n",
    "                    value=0.6,\n",
    "                    category=\"A\"\n",
    "                },\n",
    "                {\n",
    "                    position=2,\n",
    "                    value=0.9,\n",
    "                    category=\"A\"\n",
    "                },\n",
    "                {\n",
    "                    position=3,\n",
    "                    value=0.4,\n",
    "                    category=\"A\"\n",
    "                },\n",
    "                {\n",
    "                    position=0,\n",
    "                    value=0.7,\n",
    "                    category=\"B\"\n",
    "                },\n",
    "                {\n",
    "                    position=1,\n",
    "                    value=0.2,\n",
    "                    category=\"B\"\n",
    "                },\n",
    "                {\n",
    "                    position=2,\n",
    "                    value=1.1,\n",
    "                    category=\"B\"\n",
    "                },\n",
    "                {\n",
    "                    position=3,\n",
    "                    value=0.8,\n",
    "                    category=\"B\"\n",
    "                },\n",
    "                {\n",
    "                    position=0,\n",
    "                    value=0.6,\n",
    "                    category=\"C\"\n",
    "                },\n",
    "                {\n",
    "                    position=1,\n",
    "                    value=0.1,\n",
    "                    category=\"C\"\n",
    "                },\n",
    "                {\n",
    "                    position=2,\n",
    "                    value=0.2,\n",
    "                    category=\"C\"\n",
    "                },\n",
    "                {\n",
    "                    position=3,\n",
    "                    value=0.7,\n",
    "                    category=\"C\"\n",
    "                }\n",
    "            ]\n",
    "        }\n",
    "    ],\n",
    "    scales=[\n",
    "        {\n",
    "            name=\"yscale\",\n",
    "            padding=0.2,\n",
    "            range=\"height\",\n",
    "            domain={\n",
    "                data=\"table\",\n",
    "                field=\"category\"\n",
    "            },\n",
    "            type=\"band\"\n",
    "        },\n",
    "        {\n",
    "            name=\"xscale\",\n",
    "            zero=true,\n",
    "            nice=true,\n",
    "            range=\"width\",\n",
    "            domain={\n",
    "                data=\"table\",\n",
    "                field=\"value\"\n",
    "            },\n",
    "            type=\"linear\",\n",
    "            round=true\n",
    "        },\n",
    "        {\n",
    "            name=\"color\",\n",
    "            range={\n",
    "                scheme=\"category20\"\n",
    "            },\n",
    "            domain={\n",
    "                data=\"table\",\n",
    "                field=\"position\"\n",
    "            },\n",
    "            type=\"ordinal\"\n",
    "        }\n",
    "    ],\n",
    "    width=300\n",
    ") |> DisplayAs.SVG"
   ]
  },
  {
   "cell_type": "markdown",
   "metadata": {},
   "source": [
    "## Nested Bar Chart"
   ]
  },
  {
   "cell_type": "code",
   "execution_count": 5,
   "metadata": {},
   "outputs": [
    {
     "data": {
      "application/vnd.vega.v5+json": {
       "autosize": "pad",
       "axes": [
        {
         "domain": true,
         "orient": "bottom",
         "scale": "xscale"
        }
       ],
       "data": [
        {
         "name": "tuples",
         "transform": [
          {
           "as": [
            "c"
           ],
           "fields": [
            "c"
           ],
           "groupby": [
            "a",
            "b"
           ],
           "ops": [
            "average"
           ],
           "type": "aggregate"
          }
         ],
         "values": [
          {
           "a": 0,
           "b": "a",
           "c": 6.3
          },
          {
           "a": 0,
           "b": "a",
           "c": 4.2
          },
          {
           "a": 0,
           "b": "b",
           "c": 6.8
          },
          {
           "a": 0,
           "b": "c",
           "c": 5.1
          },
          {
           "a": 1,
           "b": "b",
           "c": 4.4
          },
          {
           "a": 2,
           "b": "b",
           "c": 3.5
          },
          {
           "a": 2,
           "b": "c",
           "c": 6.2
          }
         ]
        },
        {
         "name": "trellis",
         "source": "tuples",
         "transform": [
          {
           "groupby": [
            "a"
           ],
           "type": "aggregate"
          },
          {
           "as": "span",
           "expr": "rangeStep * bandspace(datum.count, innerPadding, outerPadding)",
           "type": "formula"
          },
          {
           "field": "span",
           "type": "stack"
          },
          {
           "field": "y1",
           "signal": "trellisExtent",
           "type": "extent"
          }
         ]
        }
       ],
       "marks": [
        {
         "axes": [
          {
           "domain": false,
           "labelPadding": 4,
           "orient": "left",
           "scale": "yscale",
           "ticks": false
          }
         ],
         "encode": {
          "enter": {
           "width": {
            "signal": "width"
           },
           "x": {
            "value": 0
           }
          },
          "update": {
           "y": {
            "field": "y0"
           },
           "y2": {
            "field": "y1"
           }
          }
         },
         "from": {
          "data": "trellis",
          "facet": {
           "data": "tuples",
           "groupby": "a",
           "name": "faceted_tuples"
          }
         },
         "marks": [
          {
           "encode": {
            "enter": {
             "fill": {
              "field": "a",
              "scale": "color"
             },
             "strokeWidth": {
              "value": 2
             },
             "x": {
              "value": 0
             },
             "x2": {
              "field": "c",
              "scale": "xscale"
             }
            },
            "hover": {
             "stroke": {
              "value": "firebrick"
             },
             "zindex": {
              "value": 1
             }
            },
            "update": {
             "height": {
              "band": 1,
              "scale": "yscale"
             },
             "stroke": {
              "value": null
             },
             "y": {
              "field": "b",
              "scale": "yscale"
             },
             "zindex": {
              "value": 0
             }
            }
           },
           "from": {
            "data": "faceted_tuples"
           },
           "type": "rect"
          }
         ],
         "scales": [
          {
           "domain": {
            "data": "faceted_tuples",
            "field": "b"
           },
           "name": "yscale",
           "paddingInner": {
            "signal": "innerPadding"
           },
           "paddingOuter": {
            "signal": "outerPadding"
           },
           "range": {
            "step": {
             "signal": "rangeStep"
            }
           },
           "round": true,
           "type": "band"
          }
         ],
         "type": "group"
        }
       ],
       "padding": 5,
       "scales": [
        {
         "domain": {
          "data": "tuples",
          "field": "c"
         },
         "name": "xscale",
         "nice": true,
         "range": "width",
         "round": true,
         "zero": true
        },
        {
         "domain": {
          "data": "trellis",
          "field": "a"
         },
         "name": "color",
         "range": "category",
         "type": "ordinal"
        }
       ],
       "signals": [
        {
         "bind": {
          "input": "range",
          "max": 50,
          "min": 5,
          "step": 1
         },
         "name": "rangeStep",
         "value": 20
        },
        {
         "bind": {
          "input": "range",
          "max": 0.7,
          "min": 0,
          "step": 0.01
         },
         "name": "innerPadding",
         "value": 0.1
        },
        {
         "bind": {
          "input": "range",
          "max": 0.4,
          "min": 0,
          "step": 0.01
         },
         "name": "outerPadding",
         "value": 0.2
        },
        {
         "name": "height",
         "update": "trellisExtent[1]"
        }
       ],
       "width": 300
      },
      "image/png": "[encoded data removed]",
      "image/svg+xml": [
       "<?xml version=\"1.0\" encoding=\"utf-8\"?>\n",
       "<!DOCTYPE svg PUBLIC \"-//W3C//DTD SVG 1.1//EN\" \"http://www.w3.org/Graphics/SVG/1.1/DTD/svg11.dtd\">\n",
       "<svg class=\"marks\" width=\"327\" height=\"165\" viewBox=\"0 0 327 165\" version=\"1.1\" xmlns=\"http://www.w3.org/2000/svg\" xmlns:xlink=\"http://www.w3.org/1999/xlink\"><g transform=\"translate(15,5)\"><g class=\"mark-group role-frame root\"><g transform=\"translate(0,0)\"><path class=\"background\" d=\"M0,0h300v138h-300Z\" style=\"fill: none;\"></path><g><g class=\"mark-group role-axis\"><g transform=\"translate(0.5,138.5)\"><path class=\"background\" d=\"M0,0h0v0h0Z\" style=\"pointer-events: none; fill: none;\"></path><g><g class=\"mark-rule role-axis-tick\" style=\"pointer-events: none;\"><line transform=\"translate(0,0)\" x2=\"0\" y2=\"5\" style=\"fill: none; stroke: #888; stroke-width: 1; opacity: 1;\"></line><line transform=\"translate(21,0)\" x2=\"0\" y2=\"5\" style=\"fill: none; stroke: #888; stroke-width: 1; opacity: 1;\"></line><line transform=\"translate(43,0)\" x2=\"0\" y2=\"5\" style=\"fill: none; stroke: #888; stroke-width: 1; opacity: 1;\"></line><line transform=\"translate(64,0)\" x2=\"0\" y2=\"5\" style=\"fill: none; stroke: #888; stroke-width: 1; opacity: 1;\"></line><line transform=\"translate(86,0)\" x2=\"0\" y2=\"5\" style=\"fill: none; stroke: #888; stroke-width: 1; opacity: 1;\"></line><line transform=\"translate(107,0)\" x2=\"0\" y2=\"5\" style=\"fill: none; stroke: #888; stroke-width: 1; opacity: 1;\"></line><line transform=\"translate(129,0)\" x2=\"0\" y2=\"5\" style=\"fill: none; stroke: #888; stroke-width: 1; opacity: 1;\"></line><line transform=\"translate(150,0)\" x2=\"0\" y2=\"5\" style=\"fill: none; stroke: #888; stroke-width: 1; opacity: 1;\"></line><line transform=\"translate(171,0)\" x2=\"0\" y2=\"5\" style=\"fill: none; stroke: #888; stroke-width: 1; opacity: 1;\"></line><line transform=\"translate(193,0)\" x2=\"0\" y2=\"5\" style=\"fill: none; stroke: #888; stroke-width: 1; opacity: 1;\"></line><line transform=\"translate(214,0)\" x2=\"0\" y2=\"5\" style=\"fill: none; stroke: #888; stroke-width: 1; opacity: 1;\"></line><line transform=\"translate(236,0)\" x2=\"0\" y2=\"5\" style=\"fill: none; stroke: #888; stroke-width: 1; opacity: 1;\"></line><line transform=\"translate(257,0)\" x2=\"0\" y2=\"5\" style=\"fill: none; stroke: #888; stroke-width: 1; opacity: 1;\"></line><line transform=\"translate(279,0)\" x2=\"0\" y2=\"5\" style=\"fill: none; stroke: #888; stroke-width: 1; opacity: 1;\"></line><line transform=\"translate(300,0)\" x2=\"0\" y2=\"5\" style=\"fill: none; stroke: #888; stroke-width: 1; opacity: 1;\"></line></g><g class=\"mark-text role-axis-label\" style=\"pointer-events: none;\"><text text-anchor=\"middle\" transform=\"translate(0,15)\" style=\"font-family: sans-serif; font-size: 10px; fill: #000; opacity: 1;\">0.0</text><text text-anchor=\"middle\" transform=\"translate(21,15)\" style=\"font-family: sans-serif; font-size: 10px; fill: #000; opacity: 1;\">0.5</text><text text-anchor=\"middle\" transform=\"translate(43,15)\" style=\"font-family: sans-serif; font-size: 10px; fill: #000; opacity: 1;\">1.0</text><text text-anchor=\"middle\" transform=\"translate(64,15)\" style=\"font-family: sans-serif; font-size: 10px; fill: #000; opacity: 1;\">1.5</text><text text-anchor=\"middle\" transform=\"translate(86,15)\" style=\"font-family: sans-serif; font-size: 10px; fill: #000; opacity: 1;\">2.0</text><text text-anchor=\"middle\" transform=\"translate(107,15)\" style=\"font-family: sans-serif; font-size: 10px; fill: #000; opacity: 1;\">2.5</text><text text-anchor=\"middle\" transform=\"translate(129,15)\" style=\"font-family: sans-serif; font-size: 10px; fill: #000; opacity: 1;\">3.0</text><text text-anchor=\"middle\" transform=\"translate(150,15)\" style=\"font-family: sans-serif; font-size: 10px; fill: #000; opacity: 1;\">3.5</text><text text-anchor=\"middle\" transform=\"translate(171,15)\" style=\"font-family: sans-serif; font-size: 10px; fill: #000; opacity: 1;\">4.0</text><text text-anchor=\"middle\" transform=\"translate(193,15)\" style=\"font-family: sans-serif; font-size: 10px; fill: #000; opacity: 1;\">4.5</text><text text-anchor=\"middle\" transform=\"translate(214,15)\" style=\"font-family: sans-serif; font-size: 10px; fill: #000; opacity: 1;\">5.0</text><text text-anchor=\"middle\" transform=\"translate(236,15)\" style=\"font-family: sans-serif; font-size: 10px; fill: #000; opacity: 1;\">5.5</text><text text-anchor=\"middle\" transform=\"translate(257,15)\" style=\"font-family: sans-serif; font-size: 10px; fill: #000; opacity: 1;\">6.0</text><text text-anchor=\"middle\" transform=\"translate(279,15)\" style=\"font-family: sans-serif; font-size: 10px; fill: #000; opacity: 1;\">6.5</text><text text-anchor=\"middle\" transform=\"translate(300,15)\" style=\"font-family: sans-serif; font-size: 10px; fill: #000; opacity: 1;\">7.0</text></g><g class=\"mark-rule role-axis-domain\" style=\"pointer-events: none;\"><line transform=\"translate(0,0)\" x2=\"300\" y2=\"0\" style=\"fill: none; stroke: #888; stroke-width: 1; opacity: 1;\"></line></g></g><path class=\"foreground\" d=\"\" style=\"pointer-events: none; display: none; fill: none;\"></path></g></g><g class=\"mark-group role-scope\"><g transform=\"translate(0,0)\"><path class=\"background\" d=\"M0,0h300v66h-300Z\" style=\"fill: none;\"></path><g><g class=\"mark-group role-axis\"><g transform=\"translate(0.5,0.5)\"><path class=\"background\" d=\"M0,0h0v0h0Z\" style=\"pointer-events: none; fill: none;\"></path><g><g class=\"mark-text role-axis-label\" style=\"pointer-events: none;\"><text text-anchor=\"end\" transform=\"translate(-4,15.5)\" style=\"font-family: sans-serif; font-size: 10px; fill: #000; opacity: 1;\">a</text><text text-anchor=\"end\" transform=\"translate(-4,35.5)\" style=\"font-family: sans-serif; font-size: 10px; fill: #000; opacity: 1;\">b</text><text text-anchor=\"end\" transform=\"translate(-4,55.5)\" style=\"font-family: sans-serif; font-size: 10px; fill: #000; opacity: 1;\">c</text></g></g><path class=\"foreground\" d=\"\" style=\"pointer-events: none; display: none; fill: none;\"></path></g></g><g class=\"mark-rect role-mark\"><path d=\"M0,4h225v18h-225Z\" style=\"fill: #4c78a8; stroke-width: 2;\"></path><path d=\"M0,24h291v18h-291Z\" style=\"fill: #4c78a8; stroke-width: 2;\"></path><path d=\"M0,44h219v18h-219Z\" style=\"fill: #4c78a8; stroke-width: 2;\"></path></g></g><path class=\"foreground\" d=\"\" style=\"display: none; fill: none;\"></path></g><g transform=\"translate(0,66)\"><path class=\"background\" d=\"M0,0h300v26h-300Z\" style=\"fill: none;\"></path><g><g class=\"mark-group role-axis\"><g transform=\"translate(0.5,0.5)\"><path class=\"background\" d=\"M0,0h0v0h0Z\" style=\"pointer-events: none; fill: none;\"></path><g><g class=\"mark-text role-axis-label\" style=\"pointer-events: none;\"><text text-anchor=\"end\" transform=\"translate(-4,15.5)\" style=\"font-family: sans-serif; font-size: 10px; fill: #000; opacity: 1;\">b</text></g></g><path class=\"foreground\" d=\"\" style=\"pointer-events: none; display: none; fill: none;\"></path></g></g><g class=\"mark-rect role-mark\"><path d=\"M0,4h189v18h-189Z\" style=\"fill: #f58518; stroke-width: 2;\"></path></g></g><path class=\"foreground\" d=\"\" style=\"display: none; fill: none;\"></path></g><g transform=\"translate(0,92)\"><path class=\"background\" d=\"M0,0h300v46h-300Z\" style=\"fill: none;\"></path><g><g class=\"mark-group role-axis\"><g transform=\"translate(0.5,0.5)\"><path class=\"background\" d=\"M0,0h0v0h0Z\" style=\"pointer-events: none; fill: none;\"></path><g><g class=\"mark-text role-axis-label\" style=\"pointer-events: none;\"><text text-anchor=\"end\" transform=\"translate(-4,15.5)\" style=\"font-family: sans-serif; font-size: 10px; fill: #000; opacity: 1;\">b</text><text text-anchor=\"end\" transform=\"translate(-4,35.5)\" style=\"font-family: sans-serif; font-size: 10px; fill: #000; opacity: 1;\">c</text></g></g><path class=\"foreground\" d=\"\" style=\"pointer-events: none; display: none; fill: none;\"></path></g></g><g class=\"mark-rect role-mark\"><path d=\"M0,4h150v18h-150Z\" style=\"fill: #e45756; stroke-width: 2;\"></path><path d=\"M0,24h266v18h-266Z\" style=\"fill: #e45756; stroke-width: 2;\"></path></g></g><path class=\"foreground\" d=\"\" style=\"display: none; fill: none;\"></path></g></g></g><path class=\"foreground\" d=\"\" style=\"display: none; fill: none;\"></path></g></g></g></svg>\n"
      ],
      "text/plain": [
       "@vgplot(\n",
       "    padding=5,\n",
       "    marks=[\n",
       "        {\n",
       "            marks=[\n",
       "                {\n",
       "                    encode={\n",
       "                        update={\n",
       "                            height={\n",
       "                                scale=\"yscale\",\n",
       "                                band=1\n",
       "                            },\n",
       "                            stroke={\n",
       "                                value=nothing\n",
       "                            },\n",
       "                            zindex={\n",
       "                                value=0\n",
       "                            },\n",
       "                            y={\n",
       "                                field=\"b\",\n",
       "                                scale=\"yscale\"\n",
       "                            }\n",
       "                        },\n",
       "                        hover={\n",
       "                            stroke={\n",
       "                                value=\"firebrick\"\n",
       "                            },\n",
       "                            zindex={\n",
       "                                value=1\n",
       "                            }\n",
       "                        },\n",
       "                        enter={\n",
       "                            x2={\n",
       "                                field=\"c\",\n",
       "                                scale=\"xscale\"\n",
       "                            },\n",
       "                            x={\n",
       "                                value=0\n",
       "                            },\n",
       "                            strokeWidth={\n",
       "                                value=2\n",
       "                            },\n",
       "                            fill={\n",
       "                                field=\"a\",\n",
       "                                scale=\"color\"\n",
       "                            }\n",
       "                        }\n",
       "                    },\n",
       "                    from={\n",
       "                        data=\"faceted_tuples\"\n",
       "                    },\n",
       "                    type=\"rect\"\n",
       "                }\n",
       "            ],\n",
       "            encode={\n",
       "                update={\n",
       "                    y2={\n",
       "                        field=\"y1\"\n",
       "                    },\n",
       "                    y={\n",
       "                        field=\"y0\"\n",
       "                    }\n",
       "                },\n",
       "                enter={\n",
       "                    x={\n",
       "                        value=0\n",
       "                    },\n",
       "                    width={\n",
       "                        signal=\"width\"\n",
       "                    }\n",
       "                }\n",
       "            },\n",
       "            axes=[\n",
       "                {\n",
       "                    domain=false,\n",
       "                    labelPadding=4,\n",
       "                    scale=\"yscale\",\n",
       "                    orient=\"left\",\n",
       "                    ticks=false\n",
       "                }\n",
       "            ],\n",
       "            scales=[\n",
       "                {\n",
       "                    name=\"yscale\",\n",
       "                    paddingOuter={\n",
       "                        signal=\"outerPadding\"\n",
       "                    },\n",
       "                    paddingInner={\n",
       "                        signal=\"innerPadding\"\n",
       "                    },\n",
       "                    domain={\n",
       "                        data=\"faceted_tuples\",\n",
       "                        field=\"b\"\n",
       "                    },\n",
       "                    range={\n",
       "                        step={\n",
       "                            signal=\"rangeStep\"\n",
       "                        }\n",
       "                    },\n",
       "                    type=\"band\",\n",
       "                    round=true\n",
       "                }\n",
       "            ],\n",
       "            from={\n",
       "                data=\"trellis\",\n",
       "                facet={\n",
       "                    name=\"faceted_tuples\",\n",
       "                    data=\"tuples\",\n",
       "                    groupby=\"a\"\n",
       "                }\n",
       "            },\n",
       "            type=\"group\"\n",
       "        }\n",
       "    ],\n",
       "    axes=[\n",
       "        {\n",
       "            domain=true,\n",
       "            scale=\"xscale\",\n",
       "            orient=\"bottom\"\n",
       "        }\n",
       "    ],\n",
       "    data=[\n",
       "        {\n",
       "            name=\"tuples\",\n",
       "            values=[\n",
       "                {\n",
       "                    c=6.3,\n",
       "                    b=\"a\",\n",
       "                    a=0\n",
       "                },\n",
       "                {\n",
       "                    c=4.2,\n",
       "                    b=\"a\",\n",
       "                    a=0\n",
       "                },\n",
       "                {\n",
       "                    c=6.8,\n",
       "                    b=\"b\",\n",
       "                    a=0\n",
       "                },\n",
       "                {\n",
       "                    c=5.1,\n",
       "                    b=\"c\",\n",
       "                    a=0\n",
       "                },\n",
       "                {\n",
       "                    c=4.4,\n",
       "                    b=\"b\",\n",
       "                    a=1\n",
       "                },\n",
       "                {\n",
       "                    c=3.5,\n",
       "                    b=\"b\",\n",
       "                    a=2\n",
       "                },\n",
       "                {\n",
       "                    c=6.2,\n",
       "                    b=\"c\",\n",
       "                    a=2\n",
       "                }\n",
       "            ],\n",
       "            transform=[\n",
       "                {\n",
       "                    fields=[\n",
       "                        \"c\"\n",
       "                    ],\n",
       "                    ops=[\n",
       "                        \"average\"\n",
       "                    ],\n",
       "                    as=[\n",
       "                        \"c\"\n",
       "                    ],\n",
       "                    groupby=[\n",
       "                        \"a\",\n",
       "                        \"b\"\n",
       "                    ],\n",
       "                    type=\"aggregate\"\n",
       "                }\n",
       "            ]\n",
       "        },\n",
       "        {\n",
       "            name=\"trellis\",\n",
       "            source=\"tuples\",\n",
       "            transform=[\n",
       "                {\n",
       "                    groupby=[\n",
       "                        \"a\"\n",
       "                    ],\n",
       "                    type=\"aggregate\"\n",
       "                },\n",
       "                {\n",
       "                    as=\"span\",\n",
       "                    expr=\"rangeStep * bandspace(datum.count, innerPadding, outerPadding)\",\n",
       "                    type=\"formula\"\n",
       "                },\n",
       "                {\n",
       "                    field=\"span\",\n",
       "                    type=\"stack\"\n",
       "                },\n",
       "                {\n",
       "                    field=\"y1\",\n",
       "                    signal=\"trellisExtent\",\n",
       "                    type=\"extent\"\n",
       "                }\n",
       "            ]\n",
       "        }\n",
       "    ],\n",
       "    scales=[\n",
       "        {\n",
       "            name=\"xscale\",\n",
       "            nice=true,\n",
       "            zero=true,\n",
       "            range=\"width\",\n",
       "            domain={\n",
       "                data=\"tuples\",\n",
       "                field=\"c\"\n",
       "            },\n",
       "            round=true\n",
       "        },\n",
       "        {\n",
       "            name=\"color\",\n",
       "            range=\"category\",\n",
       "            domain={\n",
       "                data=\"trellis\",\n",
       "                field=\"a\"\n",
       "            },\n",
       "            type=\"ordinal\"\n",
       "        }\n",
       "    ],\n",
       "    width=300,\n",
       "    autosize=\"pad\",\n",
       "    signals=[\n",
       "        {\n",
       "            name=\"rangeStep\",\n",
       "            bind={\n",
       "                step=1,\n",
       "                max=50,\n",
       "                min=5,\n",
       "                input=\"range\"\n",
       "            },\n",
       "            value=20\n",
       "        },\n",
       "        {\n",
       "            name=\"innerPadding\",\n",
       "            bind={\n",
       "                step=0.01,\n",
       "                max=0.7,\n",
       "                min=0,\n",
       "                input=\"range\"\n",
       "            },\n",
       "            value=0.1\n",
       "        },\n",
       "        {\n",
       "            name=\"outerPadding\",\n",
       "            bind={\n",
       "                step=0.01,\n",
       "                max=0.4,\n",
       "                min=0,\n",
       "                input=\"range\"\n",
       "            },\n",
       "            value=0.2\n",
       "        },\n",
       "        {\n",
       "            name=\"height\",\n",
       "            update=\"trellisExtent[1]\"\n",
       "        }\n",
       "    ]\n",
       ")"
      ]
     },
     "execution_count": 5,
     "metadata": {},
     "output_type": "execute_result"
    }
   ],
   "source": [
    "using VegaLite\n",
    "\n",
    "@vgplot(\n",
    "    padding=5,\n",
    "    marks=[\n",
    "        {\n",
    "            marks=[\n",
    "                {\n",
    "                    encode={\n",
    "                        update={\n",
    "                            height={\n",
    "                                scale=\"yscale\",\n",
    "                                band=1\n",
    "                            },\n",
    "                            stroke={\n",
    "                                value=nothing\n",
    "                            },\n",
    "                            zindex={\n",
    "                                value=0\n",
    "                            },\n",
    "                            y={\n",
    "                                field=\"b\",\n",
    "                                scale=\"yscale\"\n",
    "                            }\n",
    "                        },\n",
    "                        hover={\n",
    "                            stroke={\n",
    "                                value=\"firebrick\"\n",
    "                            },\n",
    "                            zindex={\n",
    "                                value=1\n",
    "                            }\n",
    "                        },\n",
    "                        enter={\n",
    "                            x2={\n",
    "                                field=\"c\",\n",
    "                                scale=\"xscale\"\n",
    "                            },\n",
    "                            x={\n",
    "                                value=0\n",
    "                            },\n",
    "                            strokeWidth={\n",
    "                                value=2\n",
    "                            },\n",
    "                            fill={\n",
    "                                field=\"a\",\n",
    "                                scale=\"color\"\n",
    "                            }\n",
    "                        }\n",
    "                    },\n",
    "                    from={\n",
    "                        data=\"faceted_tuples\"\n",
    "                    },\n",
    "                    type=\"rect\"\n",
    "                }\n",
    "            ],\n",
    "            encode={\n",
    "                update={\n",
    "                    y2={\n",
    "                        field=\"y1\"\n",
    "                    },\n",
    "                    y={\n",
    "                        field=\"y0\"\n",
    "                    }\n",
    "                },\n",
    "                enter={\n",
    "                    x={\n",
    "                        value=0\n",
    "                    },\n",
    "                    width={\n",
    "                        signal=\"width\"\n",
    "                    }\n",
    "                }\n",
    "            },\n",
    "            axes=[\n",
    "                {\n",
    "                    domain=false,\n",
    "                    labelPadding=4,\n",
    "                    scale=\"yscale\",\n",
    "                    orient=\"left\",\n",
    "                    ticks=false\n",
    "                }\n",
    "            ],\n",
    "            scales=[\n",
    "                {\n",
    "                    name=\"yscale\",\n",
    "                    paddingOuter={\n",
    "                        signal=\"outerPadding\"\n",
    "                    },\n",
    "                    paddingInner={\n",
    "                        signal=\"innerPadding\"\n",
    "                    },\n",
    "                    domain={\n",
    "                        data=\"faceted_tuples\",\n",
    "                        field=\"b\"\n",
    "                    },\n",
    "                    range={\n",
    "                        step={\n",
    "                            signal=\"rangeStep\"\n",
    "                        }\n",
    "                    },\n",
    "                    type=\"band\",\n",
    "                    round=true\n",
    "                }\n",
    "            ],\n",
    "            from={\n",
    "                data=\"trellis\",\n",
    "                facet={\n",
    "                    name=\"faceted_tuples\",\n",
    "                    data=\"tuples\",\n",
    "                    groupby=\"a\"\n",
    "                }\n",
    "            },\n",
    "            type=\"group\"\n",
    "        }\n",
    "    ],\n",
    "    axes=[\n",
    "        {\n",
    "            domain=true,\n",
    "            scale=\"xscale\",\n",
    "            orient=\"bottom\"\n",
    "        }\n",
    "    ],\n",
    "    data=[\n",
    "        {\n",
    "            name=\"tuples\",\n",
    "            values=[\n",
    "                {\n",
    "                    c=6.3,\n",
    "                    b=\"a\",\n",
    "                    a=0\n",
    "                },\n",
    "                {\n",
    "                    c=4.2,\n",
    "                    b=\"a\",\n",
    "                    a=0\n",
    "                },\n",
    "                {\n",
    "                    c=6.8,\n",
    "                    b=\"b\",\n",
    "                    a=0\n",
    "                },\n",
    "                {\n",
    "                    c=5.1,\n",
    "                    b=\"c\",\n",
    "                    a=0\n",
    "                },\n",
    "                {\n",
    "                    c=4.4,\n",
    "                    b=\"b\",\n",
    "                    a=1\n",
    "                },\n",
    "                {\n",
    "                    c=3.5,\n",
    "                    b=\"b\",\n",
    "                    a=2\n",
    "                },\n",
    "                {\n",
    "                    c=6.2,\n",
    "                    b=\"c\",\n",
    "                    a=2\n",
    "                }\n",
    "            ],\n",
    "            transform=[\n",
    "                {\n",
    "                    fields=[\n",
    "                        \"c\"\n",
    "                    ],\n",
    "                    ops=[\n",
    "                        \"average\"\n",
    "                    ],\n",
    "                    as=[\n",
    "                        \"c\"\n",
    "                    ],\n",
    "                    groupby=[\n",
    "                        \"a\",\n",
    "                        \"b\"\n",
    "                    ],\n",
    "                    type=\"aggregate\"\n",
    "                }\n",
    "            ]\n",
    "        },\n",
    "        {\n",
    "            name=\"trellis\",\n",
    "            source=\"tuples\",\n",
    "            transform=[\n",
    "                {\n",
    "                    groupby=[\n",
    "                        \"a\"\n",
    "                    ],\n",
    "                    type=\"aggregate\"\n",
    "                },\n",
    "                {\n",
    "                    as=\"span\",\n",
    "                    expr=\"rangeStep * bandspace(datum.count, innerPadding, outerPadding)\",\n",
    "                    type=\"formula\"\n",
    "                },\n",
    "                {\n",
    "                    field=\"span\",\n",
    "                    type=\"stack\"\n",
    "                },\n",
    "                {\n",
    "                    field=\"y1\",\n",
    "                    signal=\"trellisExtent\",\n",
    "                    type=\"extent\"\n",
    "                }\n",
    "            ]\n",
    "        }\n",
    "    ],\n",
    "    scales=[\n",
    "        {\n",
    "            name=\"xscale\",\n",
    "            nice=true,\n",
    "            zero=true,\n",
    "            range=\"width\",\n",
    "            domain={\n",
    "                data=\"tuples\",\n",
    "                field=\"c\"\n",
    "            },\n",
    "            round=true\n",
    "        },\n",
    "        {\n",
    "            name=\"color\",\n",
    "            range=\"category\",\n",
    "            domain={\n",
    "                data=\"trellis\",\n",
    "                field=\"a\"\n",
    "            },\n",
    "            type=\"ordinal\"\n",
    "        }\n",
    "    ],\n",
    "    width=300,\n",
    "    autosize=\"pad\",\n",
    "    signals=[\n",
    "        {\n",
    "            name=\"rangeStep\",\n",
    "            bind={\n",
    "                step=1,\n",
    "                max=50,\n",
    "                min=5,\n",
    "                input=\"range\"\n",
    "            },\n",
    "            value=20\n",
    "        },\n",
    "        {\n",
    "            name=\"innerPadding\",\n",
    "            bind={\n",
    "                step=0.01,\n",
    "                max=0.7,\n",
    "                min=0,\n",
    "                input=\"range\"\n",
    "            },\n",
    "            value=0.1\n",
    "        },\n",
    "        {\n",
    "            name=\"outerPadding\",\n",
    "            bind={\n",
    "                step=0.01,\n",
    "                max=0.4,\n",
    "                min=0,\n",
    "                input=\"range\"\n",
    "            },\n",
    "            value=0.2\n",
    "        },\n",
    "        {\n",
    "            name=\"height\",\n",
    "            update=\"trellisExtent[1]\"\n",
    "        }\n",
    "    ]\n",
    ")\n"
   ]
  },
  {
   "cell_type": "markdown",
   "metadata": {},
   "source": [
    "## Population Pyramid"
   ]
  },
  {
   "cell_type": "code",
   "execution_count": 6,
   "metadata": {},
   "outputs": [
    {
     "data": {
      "application/vnd.vega.v5+json": {
       "data": [
        {
         "name": "population",
         "values": [
          {
           "age": 0,
           "people": 1483789,
           "sex": 1,
           "year": 1850
          },
          {
           "age": 0,
           "people": 1450376,
           "sex": 2,
           "year": 1850
          },
          {
           "age": 5,
           "people": 1411067,
           "sex": 1,
           "year": 1850
          },
          {
           "age": 5,
           "people": 1359668,
           "sex": 2,
           "year": 1850
          },
          {
           "age": 10,
           "people": 1260099,
           "sex": 1,
           "year": 1850
          },
          {
           "age": 10,
           "people": 1216114,
           "sex": 2,
           "year": 1850
          },
          {
           "age": 15,
           "people": 1077133,
           "sex": 1,
           "year": 1850
          },
          {
           "age": 15,
           "people": 1110619,
           "sex": 2,
           "year": 1850
          },
          {
           "age": 20,
           "people": 1017281,
           "sex": 1,
           "year": 1850
          },
          {
           "age": 20,
           "people": 1003841,
           "sex": 2,
           "year": 1850
          },
          {
           "age": 25,
           "people": 862547,
           "sex": 1,
           "year": 1850
          },
          {
           "age": 25,
           "people": 799482,
           "sex": 2,
           "year": 1850
          },
          {
           "age": 30,
           "people": 730638,
           "sex": 1,
           "year": 1850
          },
          {
           "age": 30,
           "people": 639636,
           "sex": 2,
           "year": 1850
          },
          {
           "age": 35,
           "people": 588487,
           "sex": 1,
           "year": 1850
          },
          {
           "age": 35,
           "people": 505012,
           "sex": 2,
           "year": 1850
          },
          {
           "age": 40,
           "people": 475911,
           "sex": 1,
           "year": 1850
          },
          {
           "age": 40,
           "people": 428185,
           "sex": 2,
           "year": 1850
          },
          {
           "age": 45,
           "people": 384211,
           "sex": 1,
           "year": 1850
          },
          {
           "age": 45,
           "people": 341254,
           "sex": 2,
           "year": 1850
          },
          {
           "age": 50,
           "people": 321343,
           "sex": 1,
           "year": 1850
          },
          {
           "age": 50,
           "people": 286580,
           "sex": 2,
           "year": 1850
          },
          {
           "age": 55,
           "people": 194080,
           "sex": 1,
           "year": 1850
          },
          {
           "age": 55,
           "people": 187208,
           "sex": 2,
           "year": 1850
          },
          {
           "age": 60,
           "people": 174976,
           "sex": 1,
           "year": 1850
          },
          {
           "age": 60,
           "people": 162236,
           "sex": 2,
           "year": 1850
          },
          {
           "age": 65,
           "people": 106827,
           "sex": 1,
           "year": 1850
          },
          {
           "age": 65,
           "people": 105534,
           "sex": 2,
           "year": 1850
          },
          {
           "age": 70,
           "people": 73677,
           "sex": 1,
           "year": 1850
          },
          {
           "age": 70,
           "people": 71762,
           "sex": 2,
           "year": 1850
          },
          {
           "age": 75,
           "people": 40834,
           "sex": 1,
           "year": 1850
          },
          {
           "age": 75,
           "people": 40229,
           "sex": 2,
           "year": 1850
          },
          {
           "age": 80,
           "people": 23449,
           "sex": 1,
           "year": 1850
          },
          {
           "age": 80,
           "people": 22949,
           "sex": 2,
           "year": 1850
          },
          {
           "age": 85,
           "people": 8186,
           "sex": 1,
           "year": 1850
          },
          {
           "age": 85,
           "people": 10511,
           "sex": 2,
           "year": 1850
          },
          {
           "age": 90,
           "people": 5259,
           "sex": 1,
           "year": 1850
          },
          {
           "age": 90,
           "people": 6569,
           "sex": 2,
           "year": 1850
          },
          {
           "age": 0,
           "people": 2120846,
           "sex": 1,
           "year": 1860
          },
          {
           "age": 0,
           "people": 2092162,
           "sex": 2,
           "year": 1860
          },
          {
           "age": 5,
           "people": 1804467,
           "sex": 1,
           "year": 1860
          },
          {
           "age": 5,
           "people": 1778772,
           "sex": 2,
           "year": 1860
          },
          {
           "age": 10,
           "people": 1612640,
           "sex": 1,
           "year": 1860
          },
          {
           "age": 10,
           "people": 1540350,
           "sex": 2,
           "year": 1860
          },
          {
           "age": 15,
           "people": 1438094,
           "sex": 1,
           "year": 1860
          },
          {
           "age": 15,
           "people": 1495999,
           "sex": 2,
           "year": 1860
          },
          {
           "age": 20,
           "people": 1351121,
           "sex": 1,
           "year": 1860
          },
          {
           "age": 20,
           "people": 1370462,
           "sex": 2,
           "year": 1860
          },
          {
           "age": 25,
           "people": 1217615,
           "sex": 1,
           "year": 1860
          },
          {
           "age": 25,
           "people": 1116373,
           "sex": 2,
           "year": 1860
          },
          {
           "age": 30,
           "people": 1043174,
           "sex": 1,
           "year": 1860
          },
          {
           "age": 30,
           "people": 936055,
           "sex": 2,
           "year": 1860
          },
          {
           "age": 35,
           "people": 866910,
           "sex": 1,
           "year": 1860
          },
          {
           "age": 35,
           "people": 737136,
           "sex": 2,
           "year": 1860
          },
          {
           "age": 40,
           "people": 699434,
           "sex": 1,
           "year": 1860
          },
          {
           "age": 40,
           "people": 616826,
           "sex": 2,
           "year": 1860
          },
          {
           "age": 45,
           "people": 552404,
           "sex": 1,
           "year": 1860
          },
          {
           "age": 45,
           "people": 461739,
           "sex": 2,
           "year": 1860
          },
          {
           "age": 50,
           "people": 456176,
           "sex": 1,
           "year": 1860
          },
          {
           "age": 50,
           "people": 407305,
           "sex": 2,
           "year": 1860
          },
          {
           "age": 55,
           "people": 292417,
           "sex": 1,
           "year": 1860
          },
          {
           "age": 55,
           "people": 267224,
           "sex": 2,
           "year": 1860
          },
          {
           "age": 60,
           "people": 260887,
           "sex": 1,
           "year": 1860
          },
          {
           "age": 60,
           "people": 249735,
           "sex": 2,
           "year": 1860
          },
          {
           "age": 65,
           "people": 149331,
           "sex": 1,
           "year": 1860
          },
          {
           "age": 65,
           "people": 141405,
           "sex": 2,
           "year": 1860
          },
          {
           "age": 70,
           "people": 98465,
           "sex": 1,
           "year": 1860
          },
          {
           "age": 70,
           "people": 101778,
           "sex": 2,
           "year": 1860
          },
          {
           "age": 75,
           "people": 56699,
           "sex": 1,
           "year": 1860
          },
          {
           "age": 75,
           "people": 57597,
           "sex": 2,
           "year": 1860
          },
          {
           "age": 80,
           "people": 29007,
           "sex": 1,
           "year": 1860
          },
          {
           "age": 80,
           "people": 29506,
           "sex": 2,
           "year": 1860
          },
          {
           "age": 85,
           "people": 10434,
           "sex": 1,
           "year": 1860
          },
          {
           "age": 85,
           "people": 14053,
           "sex": 2,
           "year": 1860
          },
          {
           "age": 90,
           "people": 7232,
           "sex": 1,
           "year": 1860
          },
          {
           "age": 90,
           "people": 6622,
           "sex": 2,
           "year": 1860
          },
          {
           "age": 0,
           "people": 2800083,
           "sex": 1,
           "year": 1870
          },
          {
           "age": 0,
           "people": 2717102,
           "sex": 2,
           "year": 1870
          },
          {
           "age": 5,
           "people": 2428469,
           "sex": 1,
           "year": 1870
          },
          {
           "age": 5,
           "people": 2393680,
           "sex": 2,
           "year": 1870
          },
          {
           "age": 10,
           "people": 2427341,
           "sex": 1,
           "year": 1870
          },
          {
           "age": 10,
           "people": 2342670,
           "sex": 2,
           "year": 1870
          },
          {
           "age": 15,
           "people": 1958390,
           "sex": 1,
           "year": 1870
          },
          {
           "age": 15,
           "people": 2077248,
           "sex": 2,
           "year": 1870
          },
          {
           "age": 20,
           "people": 1805303,
           "sex": 1,
           "year": 1870
          },
          {
           "age": 20,
           "people": 1909382,
           "sex": 2,
           "year": 1870
          },
          {
           "age": 25,
           "people": 1509059,
           "sex": 1,
           "year": 1870
          },
          {
           "age": 25,
           "people": 1574285,
           "sex": 2,
           "year": 1870
          },
          {
           "age": 30,
           "people": 1251534,
           "sex": 1,
           "year": 1870
          },
          {
           "age": 30,
           "people": 1275629,
           "sex": 2,
           "year": 1870
          },
          {
           "age": 35,
           "people": 1185336,
           "sex": 1,
           "year": 1870
          },
          {
           "age": 35,
           "people": 1137490,
           "sex": 2,
           "year": 1870
          },
          {
           "age": 40,
           "people": 968861,
           "sex": 1,
           "year": 1870
          },
          {
           "age": 40,
           "people": 944401,
           "sex": 2,
           "year": 1870
          },
          {
           "age": 45,
           "people": 852672,
           "sex": 1,
           "year": 1870
          },
          {
           "age": 45,
           "people": 747916,
           "sex": 2,
           "year": 1870
          },
          {
           "age": 50,
           "people": 736387,
           "sex": 1,
           "year": 1870
          },
          {
           "age": 50,
           "people": 637801,
           "sex": 2,
           "year": 1870
          },
          {
           "age": 55,
           "people": 486036,
           "sex": 1,
           "year": 1870
          },
          {
           "age": 55,
           "people": 407819,
           "sex": 2,
           "year": 1870
          },
          {
           "age": 60,
           "people": 399264,
           "sex": 1,
           "year": 1870
          },
          {
           "age": 60,
           "people": 374801,
           "sex": 2,
           "year": 1870
          },
          {
           "age": 65,
           "people": 260829,
           "sex": 1,
           "year": 1870
          },
          {
           "age": 65,
           "people": 239080,
           "sex": 2,
           "year": 1870
          },
          {
           "age": 70,
           "people": 173364,
           "sex": 1,
           "year": 1870
          },
          {
           "age": 70,
           "people": 165501,
           "sex": 2,
           "year": 1870
          },
          {
           "age": 75,
           "people": 86929,
           "sex": 1,
           "year": 1870
          },
          {
           "age": 75,
           "people": 89540,
           "sex": 2,
           "year": 1870
          },
          {
           "age": 80,
           "people": 47427,
           "sex": 1,
           "year": 1870
          },
          {
           "age": 80,
           "people": 54190,
           "sex": 2,
           "year": 1870
          },
          {
           "age": 85,
           "people": 15891,
           "sex": 1,
           "year": 1870
          },
          {
           "age": 85,
           "people": 19302,
           "sex": 2,
           "year": 1870
          },
          {
           "age": 90,
           "people": 8649,
           "sex": 1,
           "year": 1870
          },
          {
           "age": 90,
           "people": 13068,
           "sex": 2,
           "year": 1870
          },
          {
           "age": 0,
           "people": 3533662,
           "sex": 1,
           "year": 1880
          },
          {
           "age": 0,
           "people": 3421597,
           "sex": 2,
           "year": 1880
          },
          {
           "age": 5,
           "people": 3297503,
           "sex": 1,
           "year": 1880
          },
          {
           "age": 5,
           "people": 3179142,
           "sex": 2,
           "year": 1880
          },
          {
           "age": 10,
           "people": 2911924,
           "sex": 1,
           "year": 1880
          },
          {
           "age": 10,
           "people": 2813550,
           "sex": 2,
           "year": 1880
          },
          {
           "age": 15,
           "people": 2457734,
           "sex": 1,
           "year": 1880
          },
          {
           "age": 15,
           "people": 2527818,
           "sex": 2,
           "year": 1880
          },
          {
           "age": 20,
           "people": 2547780,
           "sex": 1,
           "year": 1880
          },
          {
           "age": 20,
           "people": 2512803,
           "sex": 2,
           "year": 1880
          },
          {
           "age": 25,
           "people": 2119393,
           "sex": 1,
           "year": 1880
          },
          {
           "age": 25,
           "people": 1974241,
           "sex": 2,
           "year": 1880
          },
          {
           "age": 30,
           "people": 1749107,
           "sex": 1,
           "year": 1880
          },
          {
           "age": 30,
           "people": 1596772,
           "sex": 2,
           "year": 1880
          },
          {
           "age": 35,
           "people": 1540772,
           "sex": 1,
           "year": 1880
          },
          {
           "age": 35,
           "people": 1483717,
           "sex": 2,
           "year": 1880
          },
          {
           "age": 40,
           "people": 1237347,
           "sex": 1,
           "year": 1880
          },
          {
           "age": 40,
           "people": 1239435,
           "sex": 2,
           "year": 1880
          },
          {
           "age": 45,
           "people": 1065973,
           "sex": 1,
           "year": 1880
          },
          {
           "age": 45,
           "people": 1003711,
           "sex": 2,
           "year": 1880
          },
          {
           "age": 50,
           "people": 964484,
           "sex": 1,
           "year": 1880
          },
          {
           "age": 50,
           "people": 863012,
           "sex": 2,
           "year": 1880
          },
          {
           "age": 55,
           "people": 679147,
           "sex": 1,
           "year": 1880
          },
          {
           "age": 55,
           "people": 594843,
           "sex": 2,
           "year": 1880
          },
          {
           "age": 60,
           "people": 580298,
           "sex": 1,
           "year": 1880
          },
          {
           "age": 60,
           "people": 526956,
           "sex": 2,
           "year": 1880
          },
          {
           "age": 65,
           "people": 369398,
           "sex": 1,
           "year": 1880
          },
          {
           "age": 65,
           "people": 346303,
           "sex": 2,
           "year": 1880
          },
          {
           "age": 70,
           "people": 255422,
           "sex": 1,
           "year": 1880
          },
          {
           "age": 70,
           "people": 251860,
           "sex": 2,
           "year": 1880
          },
          {
           "age": 75,
           "people": 141628,
           "sex": 1,
           "year": 1880
          },
          {
           "age": 75,
           "people": 143513,
           "sex": 2,
           "year": 1880
          },
          {
           "age": 80,
           "people": 67526,
           "sex": 1,
           "year": 1880
          },
          {
           "age": 80,
           "people": 77290,
           "sex": 2,
           "year": 1880
          },
          {
           "age": 85,
           "people": 22437,
           "sex": 1,
           "year": 1880
          },
          {
           "age": 85,
           "people": 31227,
           "sex": 2,
           "year": 1880
          },
          {
           "age": 90,
           "people": 10272,
           "sex": 1,
           "year": 1880
          },
          {
           "age": 90,
           "people": 15451,
           "sex": 2,
           "year": 1880
          },
          {
           "age": 0,
           "people": 4619544,
           "sex": 1,
           "year": 1900
          },
          {
           "age": 0,
           "people": 4589196,
           "sex": 2,
           "year": 1900
          },
          {
           "age": 5,
           "people": 4465783,
           "sex": 1,
           "year": 1900
          },
          {
           "age": 5,
           "people": 4390483,
           "sex": 2,
           "year": 1900
          },
          {
           "age": 10,
           "people": 4057669,
           "sex": 1,
           "year": 1900
          },
          {
           "age": 10,
           "people": 4001749,
           "sex": 2,
           "year": 1900
          },
          {
           "age": 15,
           "people": 3774846,
           "sex": 1,
           "year": 1900
          },
          {
           "age": 15,
           "people": 3801743,
           "sex": 2,
           "year": 1900
          },
          {
           "age": 20,
           "people": 3694038,
           "sex": 1,
           "year": 1900
          },
          {
           "age": 20,
           "people": 3751061,
           "sex": 2,
           "year": 1900
          },
          {
           "age": 25,
           "people": 3389280,
           "sex": 1,
           "year": 1900
          },
          {
           "age": 25,
           "people": 3236056,
           "sex": 2,
           "year": 1900
          },
          {
           "age": 30,
           "people": 2918964,
           "sex": 1,
           "year": 1900
          },
          {
           "age": 30,
           "people": 2665174,
           "sex": 2,
           "year": 1900
          },
          {
           "age": 35,
           "people": 2633883,
           "sex": 1,
           "year": 1900
          },
          {
           "age": 35,
           "people": 2347737,
           "sex": 2,
           "year": 1900
          },
          {
           "age": 40,
           "people": 2261070,
           "sex": 1,
           "year": 1900
          },
          {
           "age": 40,
           "people": 2004987,
           "sex": 2,
           "year": 1900
          },
          {
           "age": 45,
           "people": 1868413,
           "sex": 1,
           "year": 1900
          },
          {
           "age": 45,
           "people": 1648025,
           "sex": 2,
           "year": 1900
          },
          {
           "age": 50,
           "people": 1571038,
           "sex": 1,
           "year": 1900
          },
          {
           "age": 50,
           "people": 1411981,
           "sex": 2,
           "year": 1900
          },
          {
           "age": 55,
           "people": 1161908,
           "sex": 1,
           "year": 1900
          },
          {
           "age": 55,
           "people": 1064632,
           "sex": 2,
           "year": 1900
          },
          {
           "age": 60,
           "people": 916571,
           "sex": 1,
           "year": 1900
          },
          {
           "age": 60,
           "people": 887508,
           "sex": 2,
           "year": 1900
          },
          {
           "age": 65,
           "people": 672663,
           "sex": 1,
           "year": 1900
          },
          {
           "age": 65,
           "people": 640212,
           "sex": 2,
           "year": 1900
          },
          {
           "age": 70,
           "people": 454747,
           "sex": 1,
           "year": 1900
          },
          {
           "age": 70,
           "people": 440007,
           "sex": 2,
           "year": 1900
          },
          {
           "age": 75,
           "people": 268211,
           "sex": 1,
           "year": 1900
          },
          {
           "age": 75,
           "people": 265879,
           "sex": 2,
           "year": 1900
          },
          {
           "age": 80,
           "people": 127435,
           "sex": 1,
           "year": 1900
          },
          {
           "age": 80,
           "people": 132449,
           "sex": 2,
           "year": 1900
          },
          {
           "age": 85,
           "people": 44008,
           "sex": 1,
           "year": 1900
          },
          {
           "age": 85,
           "people": 48614,
           "sex": 2,
           "year": 1900
          },
          {
           "age": 90,
           "people": 15164,
           "sex": 1,
           "year": 1900
          },
          {
           "age": 90,
           "people": 20093,
           "sex": 2,
           "year": 1900
          },
          {
           "age": 0,
           "people": 5296823,
           "sex": 1,
           "year": 1910
          },
          {
           "age": 0,
           "people": 5287477,
           "sex": 2,
           "year": 1910
          },
          {
           "age": 5,
           "people": 4991803,
           "sex": 1,
           "year": 1910
          },
          {
           "age": 5,
           "people": 4866139,
           "sex": 2,
           "year": 1910
          },
          {
           "age": 10,
           "people": 4650747,
           "sex": 1,
           "year": 1910
          },
          {
           "age": 10,
           "people": 4471887,
           "sex": 2,
           "year": 1910
          },
          {
           "age": 15,
           "people": 4566154,
           "sex": 1,
           "year": 1910
          },
          {
           "age": 15,
           "people": 4592269,
           "sex": 2,
           "year": 1910
          },
          {
           "age": 20,
           "people": 4637632,
           "sex": 1,
           "year": 1910
          },
          {
           "age": 20,
           "people": 4447683,
           "sex": 2,
           "year": 1910
          },
          {
           "age": 25,
           "people": 4257755,
           "sex": 1,
           "year": 1910
          },
          {
           "age": 25,
           "people": 3946153,
           "sex": 2,
           "year": 1910
          },
          {
           "age": 30,
           "people": 3658125,
           "sex": 1,
           "year": 1910
          },
          {
           "age": 30,
           "people": 3295220,
           "sex": 2,
           "year": 1910
          },
          {
           "age": 35,
           "people": 3427518,
           "sex": 1,
           "year": 1910
          },
          {
           "age": 35,
           "people": 3088990,
           "sex": 2,
           "year": 1910
          },
          {
           "age": 40,
           "people": 2860229,
           "sex": 1,
           "year": 1910
          },
          {
           "age": 40,
           "people": 2471267,
           "sex": 2,
           "year": 1910
          },
          {
           "age": 45,
           "people": 2363801,
           "sex": 1,
           "year": 1910
          },
          {
           "age": 45,
           "people": 2114930,
           "sex": 2,
           "year": 1910
          },
          {
           "age": 50,
           "people": 2126516,
           "sex": 1,
           "year": 1910
          },
          {
           "age": 50,
           "people": 1773592,
           "sex": 2,
           "year": 1910
          },
          {
           "age": 55,
           "people": 1508358,
           "sex": 1,
           "year": 1910
          },
          {
           "age": 55,
           "people": 1317651,
           "sex": 2,
           "year": 1910
          },
          {
           "age": 60,
           "people": 1189421,
           "sex": 1,
           "year": 1910
          },
          {
           "age": 60,
           "people": 1090697,
           "sex": 2,
           "year": 1910
          },
          {
           "age": 65,
           "people": 850159,
           "sex": 1,
           "year": 1910
          },
          {
           "age": 65,
           "people": 813868,
           "sex": 2,
           "year": 1910
          },
          {
           "age": 70,
           "people": 557936,
           "sex": 1,
           "year": 1910
          },
          {
           "age": 70,
           "people": 547623,
           "sex": 2,
           "year": 1910
          },
          {
           "age": 75,
           "people": 322679,
           "sex": 1,
           "year": 1910
          },
          {
           "age": 75,
           "people": 350900,
           "sex": 2,
           "year": 1910
          },
          {
           "age": 80,
           "people": 161715,
           "sex": 1,
           "year": 1910
          },
          {
           "age": 80,
           "people": 174315,
           "sex": 2,
           "year": 1910
          },
          {
           "age": 85,
           "people": 59699,
           "sex": 1,
           "year": 1910
          },
          {
           "age": 85,
           "people": 62725,
           "sex": 2,
           "year": 1910
          },
          {
           "age": 90,
           "people": 23929,
           "sex": 1,
           "year": 1910
          },
          {
           "age": 90,
           "people": 28965,
           "sex": 2,
           "year": 1910
          },
          {
           "age": 0,
           "people": 5934792,
           "sex": 1,
           "year": 1920
          },
          {
           "age": 0,
           "people": 5694244,
           "sex": 2,
           "year": 1920
          },
          {
           "age": 5,
           "people": 5789008,
           "sex": 1,
           "year": 1920
          },
          {
           "age": 5,
           "people": 5693960,
           "sex": 2,
           "year": 1920
          },
          {
           "age": 10,
           "people": 5401156,
           "sex": 1,
           "year": 1920
          },
          {
           "age": 10,
           "people": 5293057,
           "sex": 2,
           "year": 1920
          },
          {
           "age": 15,
           "people": 4724365,
           "sex": 1,
           "year": 1920
          },
          {
           "age": 15,
           "people": 4779936,
           "sex": 2,
           "year": 1920
          },
          {
           "age": 20,
           "people": 4549411,
           "sex": 1,
           "year": 1920
          },
          {
           "age": 20,
           "people": 4742632,
           "sex": 2,
           "year": 1920
          },
          {
           "age": 25,
           "people": 4565066,
           "sex": 1,
           "year": 1920
          },
          {
           "age": 25,
           "people": 4529382,
           "sex": 2,
           "year": 1920
          },
          {
           "age": 30,
           "people": 4110771,
           "sex": 1,
           "year": 1920
          },
          {
           "age": 30,
           "people": 3982426,
           "sex": 2,
           "year": 1920
          },
          {
           "age": 35,
           "people": 4081543,
           "sex": 1,
           "year": 1920
          },
          {
           "age": 35,
           "people": 3713810,
           "sex": 2,
           "year": 1920
          },
          {
           "age": 40,
           "people": 3321923,
           "sex": 1,
           "year": 1920
          },
          {
           "age": 40,
           "people": 3059757,
           "sex": 2,
           "year": 1920
          },
          {
           "age": 45,
           "people": 3143891,
           "sex": 1,
           "year": 1920
          },
          {
           "age": 45,
           "people": 2669089,
           "sex": 2,
           "year": 1920
          },
          {
           "age": 50,
           "people": 2546035,
           "sex": 1,
           "year": 1920
          },
          {
           "age": 50,
           "people": 2200491,
           "sex": 2,
           "year": 1920
          },
          {
           "age": 55,
           "people": 1880975,
           "sex": 1,
           "year": 1920
          },
          {
           "age": 55,
           "people": 1674672,
           "sex": 2,
           "year": 1920
          },
          {
           "age": 60,
           "people": 1587549,
           "sex": 1,
           "year": 1920
          },
          {
           "age": 60,
           "people": 1382877,
           "sex": 2,
           "year": 1920
          },
          {
           "age": 65,
           "people": 1095956,
           "sex": 1,
           "year": 1920
          },
          {
           "age": 65,
           "people": 989901,
           "sex": 2,
           "year": 1920
          },
          {
           "age": 70,
           "people": 714618,
           "sex": 1,
           "year": 1920
          },
          {
           "age": 70,
           "people": 690097,
           "sex": 2,
           "year": 1920
          },
          {
           "age": 75,
           "people": 417292,
           "sex": 1,
           "year": 1920
          },
          {
           "age": 75,
           "people": 439465,
           "sex": 2,
           "year": 1920
          },
          {
           "age": 80,
           "people": 187000,
           "sex": 1,
           "year": 1920
          },
          {
           "age": 80,
           "people": 211110,
           "sex": 2,
           "year": 1920
          },
          {
           "age": 85,
           "people": 75991,
           "sex": 1,
           "year": 1920
          },
          {
           "age": 85,
           "people": 92829,
           "sex": 2,
           "year": 1920
          },
          {
           "age": 90,
           "people": 22398,
           "sex": 1,
           "year": 1920
          },
          {
           "age": 90,
           "people": 32085,
           "sex": 2,
           "year": 1920
          },
          {
           "age": 0,
           "people": 5875250,
           "sex": 1,
           "year": 1930
          },
          {
           "age": 0,
           "people": 5662530,
           "sex": 2,
           "year": 1930
          },
          {
           "age": 5,
           "people": 6542592,
           "sex": 1,
           "year": 1930
          },
          {
           "age": 5,
           "people": 6129561,
           "sex": 2,
           "year": 1930
          },
          {
           "age": 10,
           "people": 6064820,
           "sex": 1,
           "year": 1930
          },
          {
           "age": 10,
           "people": 5986529,
           "sex": 2,
           "year": 1930
          },
          {
           "age": 15,
           "people": 5709452,
           "sex": 1,
           "year": 1930
          },
          {
           "age": 15,
           "people": 5769587,
           "sex": 2,
           "year": 1930
          },
          {
           "age": 20,
           "people": 5305992,
           "sex": 1,
           "year": 1930
          },
          {
           "age": 20,
           "people": 5565382,
           "sex": 2,
           "year": 1930
          },
          {
           "age": 25,
           "people": 4929853,
           "sex": 1,
           "year": 1930
          },
          {
           "age": 25,
           "people": 5050229,
           "sex": 2,
           "year": 1930
          },
          {
           "age": 30,
           "people": 4424408,
           "sex": 1,
           "year": 1930
          },
          {
           "age": 30,
           "people": 4455213,
           "sex": 2,
           "year": 1930
          },
          {
           "age": 35,
           "people": 4576531,
           "sex": 1,
           "year": 1930
          },
          {
           "age": 35,
           "people": 4593776,
           "sex": 2,
           "year": 1930
          },
          {
           "age": 40,
           "people": 4075139,
           "sex": 1,
           "year": 1930
          },
          {
           "age": 40,
           "people": 3754022,
           "sex": 2,
           "year": 1930
          },
          {
           "age": 45,
           "people": 3633152,
           "sex": 1,
           "year": 1930
          },
          {
           "age": 45,
           "people": 3396558,
           "sex": 2,
           "year": 1930
          },
          {
           "age": 50,
           "people": 3128108,
           "sex": 1,
           "year": 1930
          },
          {
           "age": 50,
           "people": 2809191,
           "sex": 2,
           "year": 1930
          },
          {
           "age": 55,
           "people": 2434077,
           "sex": 1,
           "year": 1930
          },
          {
           "age": 55,
           "people": 2298614,
           "sex": 2,
           "year": 1930
          },
          {
           "age": 60,
           "people": 1927564,
           "sex": 1,
           "year": 1930
          },
          {
           "age": 60,
           "people": 1783515,
           "sex": 2,
           "year": 1930
          },
          {
           "age": 65,
           "people": 1397275,
           "sex": 1,
           "year": 1930
          },
          {
           "age": 65,
           "people": 1307312,
           "sex": 2,
           "year": 1930
          },
          {
           "age": 70,
           "people": 919045,
           "sex": 1,
           "year": 1930
          },
          {
           "age": 70,
           "people": 918509,
           "sex": 2,
           "year": 1930
          },
          {
           "age": 75,
           "people": 536375,
           "sex": 1,
           "year": 1930
          },
          {
           "age": 75,
           "people": 522716,
           "sex": 2,
           "year": 1930
          },
          {
           "age": 80,
           "people": 246708,
           "sex": 1,
           "year": 1930
          },
          {
           "age": 80,
           "people": 283579,
           "sex": 2,
           "year": 1930
          },
          {
           "age": 85,
           "people": 88978,
           "sex": 1,
           "year": 1930
          },
          {
           "age": 85,
           "people": 109210,
           "sex": 2,
           "year": 1930
          },
          {
           "age": 90,
           "people": 30338,
           "sex": 1,
           "year": 1930
          },
          {
           "age": 90,
           "people": 43483,
           "sex": 2,
           "year": 1930
          },
          {
           "age": 0,
           "people": 5294628,
           "sex": 1,
           "year": 1940
          },
          {
           "age": 0,
           "people": 5124653,
           "sex": 2,
           "year": 1940
          },
          {
           "age": 5,
           "people": 5468378,
           "sex": 1,
           "year": 1940
          },
          {
           "age": 5,
           "people": 5359099,
           "sex": 2,
           "year": 1940
          },
          {
           "age": 10,
           "people": 5960416,
           "sex": 1,
           "year": 1940
          },
          {
           "age": 10,
           "people": 5868532,
           "sex": 2,
           "year": 1940
          },
          {
           "age": 15,
           "people": 6165109,
           "sex": 1,
           "year": 1940
          },
          {
           "age": 15,
           "people": 6193701,
           "sex": 2,
           "year": 1940
          },
          {
           "age": 20,
           "people": 5682414,
           "sex": 1,
           "year": 1940
          },
          {
           "age": 20,
           "people": 5896002,
           "sex": 2,
           "year": 1940
          },
          {
           "age": 25,
           "people": 5438166,
           "sex": 1,
           "year": 1940
          },
          {
           "age": 25,
           "people": 5664244,
           "sex": 2,
           "year": 1940
          },
          {
           "age": 30,
           "people": 5040048,
           "sex": 1,
           "year": 1940
          },
          {
           "age": 30,
           "people": 5171522,
           "sex": 2,
           "year": 1940
          },
          {
           "age": 35,
           "people": 4724804,
           "sex": 1,
           "year": 1940
          },
          {
           "age": 35,
           "people": 4791809,
           "sex": 2,
           "year": 1940
          },
          {
           "age": 40,
           "people": 4437392,
           "sex": 1,
           "year": 1940
          },
          {
           "age": 40,
           "people": 4394061,
           "sex": 2,
           "year": 1940
          },
          {
           "age": 45,
           "people": 4190187,
           "sex": 1,
           "year": 1940
          },
          {
           "age": 45,
           "people": 4050290,
           "sex": 2,
           "year": 1940
          },
          {
           "age": 50,
           "people": 3785735,
           "sex": 1,
           "year": 1940
          },
          {
           "age": 50,
           "people": 3488396,
           "sex": 2,
           "year": 1940
          },
          {
           "age": 55,
           "people": 2972069,
           "sex": 1,
           "year": 1940
          },
          {
           "age": 55,
           "people": 2810000,
           "sex": 2,
           "year": 1940
          },
          {
           "age": 60,
           "people": 2370232,
           "sex": 1,
           "year": 1940
          },
          {
           "age": 60,
           "people": 2317790,
           "sex": 2,
           "year": 1940
          },
          {
           "age": 65,
           "people": 1897678,
           "sex": 1,
           "year": 1940
          },
          {
           "age": 65,
           "people": 1911117,
           "sex": 2,
           "year": 1940
          },
          {
           "age": 70,
           "people": 1280023,
           "sex": 1,
           "year": 1940
          },
          {
           "age": 70,
           "people": 1287711,
           "sex": 2,
           "year": 1940
          },
          {
           "age": 75,
           "people": 713875,
           "sex": 1,
           "year": 1940
          },
          {
           "age": 75,
           "people": 764915,
           "sex": 2,
           "year": 1940
          },
          {
           "age": 80,
           "people": 359418,
           "sex": 1,
           "year": 1940
          },
          {
           "age": 80,
           "people": 414761,
           "sex": 2,
           "year": 1940
          },
          {
           "age": 85,
           "people": 127303,
           "sex": 1,
           "year": 1940
          },
          {
           "age": 85,
           "people": 152131,
           "sex": 2,
           "year": 1940
          },
          {
           "age": 90,
           "people": 42263,
           "sex": 1,
           "year": 1940
          },
          {
           "age": 90,
           "people": 58119,
           "sex": 2,
           "year": 1940
          },
          {
           "age": 0,
           "people": 8211806,
           "sex": 1,
           "year": 1950
          },
          {
           "age": 0,
           "people": 7862267,
           "sex": 2,
           "year": 1950
          },
          {
           "age": 5,
           "people": 6706601,
           "sex": 1,
           "year": 1950
          },
          {
           "age": 5,
           "people": 6450863,
           "sex": 2,
           "year": 1950
          },
          {
           "age": 10,
           "people": 5629744,
           "sex": 1,
           "year": 1950
          },
          {
           "age": 10,
           "people": 5430835,
           "sex": 2,
           "year": 1950
          },
          {
           "age": 15,
           "people": 5264129,
           "sex": 1,
           "year": 1950
          },
          {
           "age": 15,
           "people": 5288742,
           "sex": 2,
           "year": 1950
          },
          {
           "age": 20,
           "people": 5573308,
           "sex": 1,
           "year": 1950
          },
          {
           "age": 20,
           "people": 5854227,
           "sex": 2,
           "year": 1950
          },
          {
           "age": 25,
           "people": 6007254,
           "sex": 1,
           "year": 1950
          },
          {
           "age": 25,
           "people": 6317332,
           "sex": 2,
           "year": 1950
          },
          {
           "age": 30,
           "people": 5676022,
           "sex": 1,
           "year": 1950
          },
          {
           "age": 30,
           "people": 5895178,
           "sex": 2,
           "year": 1950
          },
          {
           "age": 35,
           "people": 5511364,
           "sex": 1,
           "year": 1950
          },
          {
           "age": 35,
           "people": 5696261,
           "sex": 2,
           "year": 1950
          },
          {
           "age": 40,
           "people": 5076985,
           "sex": 1,
           "year": 1950
          },
          {
           "age": 40,
           "people": 5199224,
           "sex": 2,
           "year": 1950
          },
          {
           "age": 45,
           "people": 4533177,
           "sex": 1,
           "year": 1950
          },
          {
           "age": 45,
           "people": 4595842,
           "sex": 2,
           "year": 1950
          },
          {
           "age": 50,
           "people": 4199164,
           "sex": 1,
           "year": 1950
          },
          {
           "age": 50,
           "people": 4147295,
           "sex": 2,
           "year": 1950
          },
          {
           "age": 55,
           "people": 3667351,
           "sex": 1,
           "year": 1950
          },
          {
           "age": 55,
           "people": 3595158,
           "sex": 2,
           "year": 1950
          },
          {
           "age": 60,
           "people": 3035038,
           "sex": 1,
           "year": 1950
          },
          {
           "age": 60,
           "people": 3009768,
           "sex": 2,
           "year": 1950
          },
          {
           "age": 65,
           "people": 2421234,
           "sex": 1,
           "year": 1950
          },
          {
           "age": 65,
           "people": 2548250,
           "sex": 2,
           "year": 1950
          },
          {
           "age": 70,
           "people": 1627920,
           "sex": 1,
           "year": 1950
          },
          {
           "age": 70,
           "people": 1786831,
           "sex": 2,
           "year": 1950
          },
          {
           "age": 75,
           "people": 1006530,
           "sex": 1,
           "year": 1950
          },
          {
           "age": 75,
           "people": 1148469,
           "sex": 2,
           "year": 1950
          },
          {
           "age": 80,
           "people": 511727,
           "sex": 1,
           "year": 1950
          },
          {
           "age": 80,
           "people": 637717,
           "sex": 2,
           "year": 1950
          },
          {
           "age": 85,
           "people": 182821,
           "sex": 1,
           "year": 1950
          },
          {
           "age": 85,
           "people": 242798,
           "sex": 2,
           "year": 1950
          },
          {
           "age": 90,
           "people": 54836,
           "sex": 1,
           "year": 1950
          },
          {
           "age": 90,
           "people": 90766,
           "sex": 2,
           "year": 1950
          },
          {
           "age": 0,
           "people": 10374975,
           "sex": 1,
           "year": 1960
          },
          {
           "age": 0,
           "people": 10146999,
           "sex": 2,
           "year": 1960
          },
          {
           "age": 5,
           "people": 9495503,
           "sex": 1,
           "year": 1960
          },
          {
           "age": 5,
           "people": 9250741,
           "sex": 2,
           "year": 1960
          },
          {
           "age": 10,
           "people": 8563700,
           "sex": 1,
           "year": 1960
          },
          {
           "age": 10,
           "people": 8310764,
           "sex": 2,
           "year": 1960
          },
          {
           "age": 15,
           "people": 6620902,
           "sex": 1,
           "year": 1960
          },
          {
           "age": 15,
           "people": 6617493,
           "sex": 2,
           "year": 1960
          },
          {
           "age": 20,
           "people": 5268384,
           "sex": 1,
           "year": 1960
          },
          {
           "age": 20,
           "people": 5513495,
           "sex": 2,
           "year": 1960
          },
          {
           "age": 25,
           "people": 5311805,
           "sex": 1,
           "year": 1960
          },
          {
           "age": 25,
           "people": 5548259,
           "sex": 2,
           "year": 1960
          },
          {
           "age": 30,
           "people": 5801342,
           "sex": 1,
           "year": 1960
          },
          {
           "age": 30,
           "people": 6090862,
           "sex": 2,
           "year": 1960
          },
          {
           "age": 35,
           "people": 6063063,
           "sex": 1,
           "year": 1960
          },
          {
           "age": 35,
           "people": 6431337,
           "sex": 2,
           "year": 1960
          },
          {
           "age": 40,
           "people": 5657943,
           "sex": 1,
           "year": 1960
          },
          {
           "age": 40,
           "people": 5940520,
           "sex": 2,
           "year": 1960
          },
          {
           "age": 45,
           "people": 5345658,
           "sex": 1,
           "year": 1960
          },
          {
           "age": 45,
           "people": 5516028,
           "sex": 2,
           "year": 1960
          },
          {
           "age": 50,
           "people": 4763364,
           "sex": 1,
           "year": 1960
          },
          {
           "age": 50,
           "people": 4928844,
           "sex": 2,
           "year": 1960
          },
          {
           "age": 55,
           "people": 4170581,
           "sex": 1,
           "year": 1960
          },
          {
           "age": 55,
           "people": 4402878,
           "sex": 2,
           "year": 1960
          },
          {
           "age": 60,
           "people": 3405293,
           "sex": 1,
           "year": 1960
          },
          {
           "age": 60,
           "people": 3723839,
           "sex": 2,
           "year": 1960
          },
          {
           "age": 65,
           "people": 2859371,
           "sex": 1,
           "year": 1960
          },
          {
           "age": 65,
           "people": 3268699,
           "sex": 2,
           "year": 1960
          },
          {
           "age": 70,
           "people": 2115763,
           "sex": 1,
           "year": 1960
          },
          {
           "age": 70,
           "people": 2516479,
           "sex": 2,
           "year": 1960
          },
          {
           "age": 75,
           "people": 1308913,
           "sex": 1,
           "year": 1960
          },
          {
           "age": 75,
           "people": 1641371,
           "sex": 2,
           "year": 1960
          },
          {
           "age": 80,
           "people": 619923,
           "sex": 1,
           "year": 1960
          },
          {
           "age": 80,
           "people": 856952,
           "sex": 2,
           "year": 1960
          },
          {
           "age": 85,
           "people": 253245,
           "sex": 1,
           "year": 1960
          },
          {
           "age": 85,
           "people": 384572,
           "sex": 2,
           "year": 1960
          },
          {
           "age": 90,
           "people": 75908,
           "sex": 1,
           "year": 1960
          },
          {
           "age": 90,
           "people": 135774,
           "sex": 2,
           "year": 1960
          },
          {
           "age": 0,
           "people": 8685121,
           "sex": 1,
           "year": 1970
          },
          {
           "age": 0,
           "people": 8326887,
           "sex": 2,
           "year": 1970
          },
          {
           "age": 5,
           "people": 10411131,
           "sex": 1,
           "year": 1970
          },
          {
           "age": 5,
           "people": 10003293,
           "sex": 2,
           "year": 1970
          },
          {
           "age": 10,
           "people": 10756403,
           "sex": 1,
           "year": 1970
          },
          {
           "age": 10,
           "people": 10343538,
           "sex": 2,
           "year": 1970
          },
          {
           "age": 15,
           "people": 9605399,
           "sex": 1,
           "year": 1970
          },
          {
           "age": 15,
           "people": 9414284,
           "sex": 2,
           "year": 1970
          },
          {
           "age": 20,
           "people": 7729202,
           "sex": 1,
           "year": 1970
          },
          {
           "age": 20,
           "people": 8341830,
           "sex": 2,
           "year": 1970
          },
          {
           "age": 25,
           "people": 6539301,
           "sex": 1,
           "year": 1970
          },
          {
           "age": 25,
           "people": 6903041,
           "sex": 2,
           "year": 1970
          },
          {
           "age": 30,
           "people": 5519879,
           "sex": 1,
           "year": 1970
          },
          {
           "age": 30,
           "people": 5851441,
           "sex": 2,
           "year": 1970
          },
          {
           "age": 35,
           "people": 5396732,
           "sex": 1,
           "year": 1970
          },
          {
           "age": 35,
           "people": 5708021,
           "sex": 2,
           "year": 1970
          },
          {
           "age": 40,
           "people": 5718538,
           "sex": 1,
           "year": 1970
          },
          {
           "age": 40,
           "people": 6129319,
           "sex": 2,
           "year": 1970
          },
          {
           "age": 45,
           "people": 5794120,
           "sex": 1,
           "year": 1970
          },
          {
           "age": 45,
           "people": 6198742,
           "sex": 2,
           "year": 1970
          },
          {
           "age": 50,
           "people": 5298312,
           "sex": 1,
           "year": 1970
          },
          {
           "age": 50,
           "people": 5783817,
           "sex": 2,
           "year": 1970
          },
          {
           "age": 55,
           "people": 4762911,
           "sex": 1,
           "year": 1970
          },
          {
           "age": 55,
           "people": 5222164,
           "sex": 2,
           "year": 1970
          },
          {
           "age": 60,
           "people": 4037643,
           "sex": 1,
           "year": 1970
          },
          {
           "age": 60,
           "people": 4577251,
           "sex": 2,
           "year": 1970
          },
          {
           "age": 65,
           "people": 3142606,
           "sex": 1,
           "year": 1970
          },
          {
           "age": 65,
           "people": 3894827,
           "sex": 2,
           "year": 1970
          },
          {
           "age": 70,
           "people": 2340826,
           "sex": 1,
           "year": 1970
          },
          {
           "age": 70,
           "people": 3138009,
           "sex": 2,
           "year": 1970
          },
          {
           "age": 75,
           "people": 1599269,
           "sex": 1,
           "year": 1970
          },
          {
           "age": 75,
           "people": 2293376,
           "sex": 2,
           "year": 1970
          },
          {
           "age": 80,
           "people": 886155,
           "sex": 1,
           "year": 1970
          },
          {
           "age": 80,
           "people": 1417553,
           "sex": 2,
           "year": 1970
          },
          {
           "age": 85,
           "people": 371123,
           "sex": 1,
           "year": 1970
          },
          {
           "age": 85,
           "people": 658511,
           "sex": 2,
           "year": 1970
          },
          {
           "age": 90,
           "people": 186502,
           "sex": 1,
           "year": 1970
          },
          {
           "age": 90,
           "people": 314929,
           "sex": 2,
           "year": 1970
          },
          {
           "age": 0,
           "people": 8439366,
           "sex": 1,
           "year": 1980
          },
          {
           "age": 0,
           "people": 8081854,
           "sex": 2,
           "year": 1980
          },
          {
           "age": 5,
           "people": 8680730,
           "sex": 1,
           "year": 1980
          },
          {
           "age": 5,
           "people": 8275881,
           "sex": 2,
           "year": 1980
          },
          {
           "age": 10,
           "people": 9452338,
           "sex": 1,
           "year": 1980
          },
          {
           "age": 10,
           "people": 9048483,
           "sex": 2,
           "year": 1980
          },
          {
           "age": 15,
           "people": 10698856,
           "sex": 1,
           "year": 1980
          },
          {
           "age": 15,
           "people": 10410271,
           "sex": 2,
           "year": 1980
          },
          {
           "age": 20,
           "people": 10486776,
           "sex": 1,
           "year": 1980
          },
          {
           "age": 20,
           "people": 10614947,
           "sex": 2,
           "year": 1980
          },
          {
           "age": 25,
           "people": 9624053,
           "sex": 1,
           "year": 1980
          },
          {
           "age": 25,
           "people": 9827903,
           "sex": 2,
           "year": 1980
          },
          {
           "age": 30,
           "people": 8705835,
           "sex": 1,
           "year": 1980
          },
          {
           "age": 30,
           "people": 8955225,
           "sex": 2,
           "year": 1980
          },
          {
           "age": 35,
           "people": 6852069,
           "sex": 1,
           "year": 1980
          },
          {
           "age": 35,
           "people": 7134239,
           "sex": 2,
           "year": 1980
          },
          {
           "age": 40,
           "people": 5692148,
           "sex": 1,
           "year": 1980
          },
          {
           "age": 40,
           "people": 5953910,
           "sex": 2,
           "year": 1980
          },
          {
           "age": 45,
           "people": 5342469,
           "sex": 1,
           "year": 1980
          },
          {
           "age": 45,
           "people": 5697543,
           "sex": 2,
           "year": 1980
          },
          {
           "age": 50,
           "people": 5603709,
           "sex": 1,
           "year": 1980
          },
          {
           "age": 50,
           "people": 6110117,
           "sex": 2,
           "year": 1980
          },
          {
           "age": 55,
           "people": 5485098,
           "sex": 1,
           "year": 1980
          },
          {
           "age": 55,
           "people": 6160229,
           "sex": 2,
           "year": 1980
          },
          {
           "age": 60,
           "people": 4696140,
           "sex": 1,
           "year": 1980
          },
          {
           "age": 60,
           "people": 5456885,
           "sex": 2,
           "year": 1980
          },
          {
           "age": 65,
           "people": 3893510,
           "sex": 1,
           "year": 1980
          },
          {
           "age": 65,
           "people": 4896947,
           "sex": 2,
           "year": 1980
          },
          {
           "age": 70,
           "people": 2857774,
           "sex": 1,
           "year": 1980
          },
          {
           "age": 70,
           "people": 3963441,
           "sex": 2,
           "year": 1980
          },
          {
           "age": 75,
           "people": 1840438,
           "sex": 1,
           "year": 1980
          },
          {
           "age": 75,
           "people": 2951759,
           "sex": 2,
           "year": 1980
          },
          {
           "age": 80,
           "people": 1012886,
           "sex": 1,
           "year": 1980
          },
          {
           "age": 80,
           "people": 1919292,
           "sex": 2,
           "year": 1980
          },
          {
           "age": 85,
           "people": 472338,
           "sex": 1,
           "year": 1980
          },
          {
           "age": 85,
           "people": 1023115,
           "sex": 2,
           "year": 1980
          },
          {
           "age": 90,
           "people": 204148,
           "sex": 1,
           "year": 1980
          },
          {
           "age": 90,
           "people": 499046,
           "sex": 2,
           "year": 1980
          },
          {
           "age": 0,
           "people": 9307465,
           "sex": 1,
           "year": 1990
          },
          {
           "age": 0,
           "people": 8894007,
           "sex": 2,
           "year": 1990
          },
          {
           "age": 5,
           "people": 9274732,
           "sex": 1,
           "year": 1990
          },
          {
           "age": 5,
           "people": 8799955,
           "sex": 2,
           "year": 1990
          },
          {
           "age": 10,
           "people": 8782542,
           "sex": 1,
           "year": 1990
          },
          {
           "age": 10,
           "people": 8337284,
           "sex": 2,
           "year": 1990
          },
          {
           "age": 15,
           "people": 9020572,
           "sex": 1,
           "year": 1990
          },
          {
           "age": 15,
           "people": 8590991,
           "sex": 2,
           "year": 1990
          },
          {
           "age": 20,
           "people": 9436188,
           "sex": 1,
           "year": 1990
          },
          {
           "age": 20,
           "people": 9152644,
           "sex": 2,
           "year": 1990
          },
          {
           "age": 25,
           "people": 10658027,
           "sex": 1,
           "year": 1990
          },
          {
           "age": 25,
           "people": 10587292,
           "sex": 2,
           "year": 1990
          },
          {
           "age": 30,
           "people": 11028712,
           "sex": 1,
           "year": 1990
          },
          {
           "age": 30,
           "people": 11105750,
           "sex": 2,
           "year": 1990
          },
          {
           "age": 35,
           "people": 9853933,
           "sex": 1,
           "year": 1990
          },
          {
           "age": 35,
           "people": 10038644,
           "sex": 2,
           "year": 1990
          },
          {
           "age": 40,
           "people": 8712632,
           "sex": 1,
           "year": 1990
          },
          {
           "age": 40,
           "people": 8928252,
           "sex": 2,
           "year": 1990
          },
          {
           "age": 45,
           "people": 6848082,
           "sex": 1,
           "year": 1990
          },
          {
           "age": 45,
           "people": 7115129,
           "sex": 2,
           "year": 1990
          },
          {
           "age": 50,
           "people": 5553992,
           "sex": 1,
           "year": 1990
          },
          {
           "age": 50,
           "people": 5899925,
           "sex": 2,
           "year": 1990
          },
          {
           "age": 55,
           "people": 4981670,
           "sex": 1,
           "year": 1990
          },
          {
           "age": 55,
           "people": 5460506,
           "sex": 2,
           "year": 1990
          },
          {
           "age": 60,
           "people": 4953822,
           "sex": 1,
           "year": 1990
          },
          {
           "age": 60,
           "people": 5663205,
           "sex": 2,
           "year": 1990
          },
          {
           "age": 65,
           "people": 4538398,
           "sex": 1,
           "year": 1990
          },
          {
           "age": 65,
           "people": 5594108,
           "sex": 2,
           "year": 1990
          },
          {
           "age": 70,
           "people": 3429420,
           "sex": 1,
           "year": 1990
          },
          {
           "age": 70,
           "people": 4610222,
           "sex": 2,
           "year": 1990
          },
          {
           "age": 75,
           "people": 2344932,
           "sex": 1,
           "year": 1990
          },
          {
           "age": 75,
           "people": 3723980,
           "sex": 2,
           "year": 1990
          },
          {
           "age": 80,
           "people": 1342996,
           "sex": 1,
           "year": 1990
          },
          {
           "age": 80,
           "people": 2545730,
           "sex": 2,
           "year": 1990
          },
          {
           "age": 85,
           "people": 588790,
           "sex": 1,
           "year": 1990
          },
          {
           "age": 85,
           "people": 1419494,
           "sex": 2,
           "year": 1990
          },
          {
           "age": 90,
           "people": 238459,
           "sex": 1,
           "year": 1990
          },
          {
           "age": 90,
           "people": 745146,
           "sex": 2,
           "year": 1990
          },
          {
           "age": 0,
           "people": 9735380,
           "sex": 1,
           "year": 2000
          },
          {
           "age": 0,
           "people": 9310714,
           "sex": 2,
           "year": 2000
          },
          {
           "age": 5,
           "people": 10552146,
           "sex": 1,
           "year": 2000
          },
          {
           "age": 5,
           "people": 10069564,
           "sex": 2,
           "year": 2000
          },
          {
           "age": 10,
           "people": 10563233,
           "sex": 1,
           "year": 2000
          },
          {
           "age": 10,
           "people": 10022524,
           "sex": 2,
           "year": 2000
          },
          {
           "age": 15,
           "people": 10237419,
           "sex": 1,
           "year": 2000
          },
          {
           "age": 15,
           "people": 9692669,
           "sex": 2,
           "year": 2000
          },
          {
           "age": 20,
           "people": 9731315,
           "sex": 1,
           "year": 2000
          },
          {
           "age": 20,
           "people": 9324244,
           "sex": 2,
           "year": 2000
          },
          {
           "age": 25,
           "people": 9659493,
           "sex": 1,
           "year": 2000
          },
          {
           "age": 25,
           "people": 9518507,
           "sex": 2,
           "year": 2000
          },
          {
           "age": 30,
           "people": 10205879,
           "sex": 1,
           "year": 2000
          },
          {
           "age": 30,
           "people": 10119296,
           "sex": 2,
           "year": 2000
          },
          {
           "age": 35,
           "people": 11475182,
           "sex": 1,
           "year": 2000
          },
          {
           "age": 35,
           "people": 11635647,
           "sex": 2,
           "year": 2000
          },
          {
           "age": 40,
           "people": 11320252,
           "sex": 1,
           "year": 2000
          },
          {
           "age": 40,
           "people": 11488578,
           "sex": 2,
           "year": 2000
          },
          {
           "age": 45,
           "people": 9925006,
           "sex": 1,
           "year": 2000
          },
          {
           "age": 45,
           "people": 10261253,
           "sex": 2,
           "year": 2000
          },
          {
           "age": 50,
           "people": 8507934,
           "sex": 1,
           "year": 2000
          },
          {
           "age": 50,
           "people": 8911133,
           "sex": 2,
           "year": 2000
          },
          {
           "age": 55,
           "people": 6459082,
           "sex": 1,
           "year": 2000
          },
          {
           "age": 55,
           "people": 6921268,
           "sex": 2,
           "year": 2000
          },
          {
           "age": 60,
           "people": 5123399,
           "sex": 1,
           "year": 2000
          },
          {
           "age": 60,
           "people": 5668961,
           "sex": 2,
           "year": 2000
          },
          {
           "age": 65,
           "people": 4453623,
           "sex": 1,
           "year": 2000
          },
          {
           "age": 65,
           "people": 4804784,
           "sex": 2,
           "year": 2000
          },
          {
           "age": 70,
           "people": 3792145,
           "sex": 1,
           "year": 2000
          },
          {
           "age": 70,
           "people": 5184855,
           "sex": 2,
           "year": 2000
          },
          {
           "age": 75,
           "people": 2912655,
           "sex": 1,
           "year": 2000
          },
          {
           "age": 75,
           "people": 4355644,
           "sex": 2,
           "year": 2000
          },
          {
           "age": 80,
           "people": 1902638,
           "sex": 1,
           "year": 2000
          },
          {
           "age": 80,
           "people": 3221898,
           "sex": 2,
           "year": 2000
          },
          {
           "age": 85,
           "people": 970357,
           "sex": 1,
           "year": 2000
          },
          {
           "age": 85,
           "people": 1981156,
           "sex": 2,
           "year": 2000
          },
          {
           "age": 90,
           "people": 336303,
           "sex": 1,
           "year": 2000
          },
          {
           "age": 90,
           "people": 1064581,
           "sex": 2,
           "year": 2000
          }
         ]
        },
        {
         "name": "popYear",
         "source": "population",
         "transform": [
          {
           "expr": "datum.year == year",
           "type": "filter"
          }
         ]
        },
        {
         "name": "males",
         "source": "popYear",
         "transform": [
          {
           "expr": "datum.sex == 1",
           "type": "filter"
          }
         ]
        },
        {
         "name": "females",
         "source": "popYear",
         "transform": [
          {
           "expr": "datum.sex == 2",
           "type": "filter"
          }
         ]
        },
        {
         "name": "ageGroups",
         "source": "population",
         "transform": [
          {
           "groupby": [
            "age"
           ],
           "type": "aggregate"
          }
         ]
        }
       ],
       "height": 400,
       "marks": [
        {
         "encode": {
          "enter": {
           "align": {
            "value": "center"
           },
           "baseline": {
            "value": "middle"
           },
           "fill": {
            "value": "#000"
           },
           "text": {
            "field": "age"
           },
           "x": {
            "signal": "chartWidth + chartPad / 2"
           },
           "y": {
            "band": 0.5,
            "field": "age",
            "scale": "y"
           }
          }
         },
         "from": {
          "data": "ageGroups"
         },
         "interactive": false,
         "type": "text"
        },
        {
         "axes": [
          {
           "format": "s",
           "orient": "bottom",
           "scale": "x",
           "title": "Females"
          }
         ],
         "encode": {
          "update": {
           "height": {
            "signal": "height"
           },
           "x": {
            "value": 0
           }
          }
         },
         "marks": [
          {
           "encode": {
            "enter": {
             "fill": {
              "field": "sex",
              "scale": "c"
             },
             "fillOpacity": {
              "value": 0.6
             },
             "height": {
              "band": 1,
              "offset": -1,
              "scale": "y"
             },
             "x": {
              "field": "people",
              "scale": "x"
             },
             "x2": {
              "scale": "x",
              "value": 0
             },
             "y": {
              "field": "age",
              "scale": "y"
             }
            }
           },
           "from": {
            "data": "females"
           },
           "type": "rect"
          }
         ],
         "scales": [
          {
           "domain": {
            "data": "population",
            "field": "people"
           },
           "name": "x",
           "nice": true,
           "range": [
            {
             "signal": "chartWidth"
            },
            0
           ],
           "type": "linear",
           "zero": true
          }
         ],
         "type": "group"
        },
        {
         "axes": [
          {
           "format": "s",
           "orient": "bottom",
           "scale": "x",
           "title": "Males"
          }
         ],
         "encode": {
          "update": {
           "height": {
            "signal": "height"
           },
           "x": {
            "signal": "chartWidth + chartPad"
           }
          }
         },
         "marks": [
          {
           "encode": {
            "enter": {
             "fill": {
              "field": "sex",
              "scale": "c"
             },
             "fillOpacity": {
              "value": 0.6
             },
             "height": {
              "band": 1,
              "offset": -1,
              "scale": "y"
             },
             "x": {
              "field": "people",
              "scale": "x"
             },
             "x2": {
              "scale": "x",
              "value": 0
             },
             "y": {
              "field": "age",
              "scale": "y"
             }
            }
           },
           "from": {
            "data": "males"
           },
           "type": "rect"
          }
         ],
         "scales": [
          {
           "domain": {
            "data": "population",
            "field": "people"
           },
           "name": "x",
           "nice": true,
           "range": [
            0,
            {
             "signal": "chartWidth"
            }
           ],
           "type": "linear",
           "zero": true
          }
         ],
         "type": "group"
        }
       ],
       "padding": 5,
       "scales": [
        {
         "domain": {
          "data": "ageGroups",
          "field": "age"
         },
         "name": "y",
         "range": [
          {
           "signal": "height"
          },
          0
         ],
         "round": true,
         "type": "band"
        },
        {
         "domain": [
          1,
          2
         ],
         "name": "c",
         "range": [
          "#d5855a",
          "#6c4e97"
         ],
         "type": "ordinal"
        }
       ],
       "signals": [
        {
         "name": "chartWidth",
         "value": 300
        },
        {
         "name": "chartPad",
         "value": 20
        },
        {
         "name": "width",
         "update": "2 * chartWidth + chartPad"
        },
        {
         "bind": {
          "input": "range",
          "max": 2000,
          "min": 1850,
          "step": 10
         },
         "name": "year",
         "value": 2000
        }
       ]
      },
      "image/png": "[encoded data removed]",
      "image/svg+xml": [
       "<?xml version=\"1.0\" encoding=\"utf-8\"?>\n",
       "<!DOCTYPE svg PUBLIC \"-//W3C//DTD SVG 1.1//EN\" \"http://www.w3.org/Graphics/SVG/1.1/DTD/svg11.dtd\">\n",
       "<svg class=\"marks\" width=\"648\" height=\"442\" viewBox=\"0 0 648 442\" version=\"1.1\" xmlns=\"http://www.w3.org/2000/svg\" xmlns:xlink=\"http://www.w3.org/1999/xlink\"><g transform=\"translate(14,5)\"><g class=\"mark-group role-frame root\"><g transform=\"translate(0,0)\"><path class=\"background\" d=\"M0,0h620v400h-620Z\" style=\"fill: none;\"></path><g><g class=\"mark-text role-mark\" style=\"pointer-events: none;\"><text text-anchor=\"middle\" transform=\"translate(310,392.5)\" style=\"font-family: sans-serif; font-size: 11px; fill: #000;\">0</text><text text-anchor=\"middle\" transform=\"translate(310,371.5)\" style=\"font-family: sans-serif; font-size: 11px; fill: #000;\">5</text><text text-anchor=\"middle\" transform=\"translate(310,350.5)\" style=\"font-family: sans-serif; font-size: 11px; fill: #000;\">10</text><text text-anchor=\"middle\" transform=\"translate(310,329.5)\" style=\"font-family: sans-serif; font-size: 11px; fill: #000;\">15</text><text text-anchor=\"middle\" transform=\"translate(310,308.5)\" style=\"font-family: sans-serif; font-size: 11px; fill: #000;\">20</text><text text-anchor=\"middle\" transform=\"translate(310,287.5)\" style=\"font-family: sans-serif; font-size: 11px; fill: #000;\">25</text><text text-anchor=\"middle\" transform=\"translate(310,266.5)\" style=\"font-family: sans-serif; font-size: 11px; fill: #000;\">30</text><text text-anchor=\"middle\" transform=\"translate(310,245.5)\" style=\"font-family: sans-serif; font-size: 11px; fill: #000;\">35</text><text text-anchor=\"middle\" transform=\"translate(310,224.5)\" style=\"font-family: sans-serif; font-size: 11px; fill: #000;\">40</text><text text-anchor=\"middle\" transform=\"translate(310,203.5)\" style=\"font-family: sans-serif; font-size: 11px; fill: #000;\">45</text><text text-anchor=\"middle\" transform=\"translate(310,182.5)\" style=\"font-family: sans-serif; font-size: 11px; fill: #000;\">50</text><text text-anchor=\"middle\" transform=\"translate(310,161.5)\" style=\"font-family: sans-serif; font-size: 11px; fill: #000;\">55</text><text text-anchor=\"middle\" transform=\"translate(310,140.5)\" style=\"font-family: sans-serif; font-size: 11px; fill: #000;\">60</text><text text-anchor=\"middle\" transform=\"translate(310,119.5)\" style=\"font-family: sans-serif; font-size: 11px; fill: #000;\">65</text><text text-anchor=\"middle\" transform=\"translate(310,98.5)\" style=\"font-family: sans-serif; font-size: 11px; fill: #000;\">70</text><text text-anchor=\"middle\" transform=\"translate(310,77.5)\" style=\"font-family: sans-serif; font-size: 11px; fill: #000;\">75</text><text text-anchor=\"middle\" transform=\"translate(310,56.5)\" style=\"font-family: sans-serif; font-size: 11px; fill: #000;\">80</text><text text-anchor=\"middle\" transform=\"translate(310,35.5)\" style=\"font-family: sans-serif; font-size: 11px; fill: #000;\">85</text><text text-anchor=\"middle\" transform=\"translate(310,14.5)\" style=\"font-family: sans-serif; font-size: 11px; fill: #000;\">90</text></g><g class=\"mark-group role-scope\"><g transform=\"translate(0,0)\"><path class=\"background\" d=\"M0,0h0v400h0Z\" style=\"fill: none;\"></path><g><g class=\"mark-group role-axis\"><g transform=\"translate(0.5,400.5)\"><path class=\"background\" d=\"M0,0h0v0h0Z\" style=\"pointer-events: none; fill: none;\"></path><g><g class=\"mark-rule role-axis-tick\" style=\"pointer-events: none;\"><line transform=\"translate(300,0)\" x2=\"0\" y2=\"5\" style=\"fill: none; stroke: #888; stroke-width: 1; opacity: 1;\"></line><line transform=\"translate(275,0)\" x2=\"0\" y2=\"5\" style=\"fill: none; stroke: #888; stroke-width: 1; opacity: 1;\"></line><line transform=\"translate(250,0)\" x2=\"0\" y2=\"5\" style=\"fill: none; stroke: #888; stroke-width: 1; opacity: 1;\"></line><line transform=\"translate(225,0)\" x2=\"0\" y2=\"5\" style=\"fill: none; stroke: #888; stroke-width: 1; opacity: 1;\"></line><line transform=\"translate(200,0)\" x2=\"0\" y2=\"5\" style=\"fill: none; stroke: #888; stroke-width: 1; opacity: 1;\"></line><line transform=\"translate(175,0)\" x2=\"0\" y2=\"5\" style=\"fill: none; stroke: #888; stroke-width: 1; opacity: 1;\"></line><line transform=\"translate(150,0)\" x2=\"0\" y2=\"5\" style=\"fill: none; stroke: #888; stroke-width: 1; opacity: 1;\"></line><line transform=\"translate(125,0)\" x2=\"0\" y2=\"5\" style=\"fill: none; stroke: #888; stroke-width: 1; opacity: 1;\"></line><line transform=\"translate(100,0)\" x2=\"0\" y2=\"5\" style=\"fill: none; stroke: #888; stroke-width: 1; opacity: 1;\"></line><line transform=\"translate(75,0)\" x2=\"0\" y2=\"5\" style=\"fill: none; stroke: #888; stroke-width: 1; opacity: 1;\"></line><line transform=\"translate(50,0)\" x2=\"0\" y2=\"5\" style=\"fill: none; stroke: #888; stroke-width: 1; opacity: 1;\"></line><line transform=\"translate(25,0)\" x2=\"0\" y2=\"5\" style=\"fill: none; stroke: #888; stroke-width: 1; opacity: 1;\"></line><line transform=\"translate(0,0)\" x2=\"0\" y2=\"5\" style=\"fill: none; stroke: #888; stroke-width: 1; opacity: 1;\"></line></g><g class=\"mark-text role-axis-label\" style=\"pointer-events: none;\"><text text-anchor=\"middle\" transform=\"translate(300,15)\" style=\"font-family: sans-serif; font-size: 10px; fill: #000; opacity: 1;\">0M</text><text text-anchor=\"middle\" transform=\"translate(275,15)\" style=\"font-family: sans-serif; font-size: 10px; fill: #000; opacity: 1;\">1M</text><text text-anchor=\"middle\" transform=\"translate(250,15)\" style=\"font-family: sans-serif; font-size: 10px; fill: #000; opacity: 1;\">2M</text><text text-anchor=\"middle\" transform=\"translate(225,15)\" style=\"font-family: sans-serif; font-size: 10px; fill: #000; opacity: 1;\">3M</text><text text-anchor=\"middle\" transform=\"translate(200.00000000000003,15)\" style=\"font-family: sans-serif; font-size: 10px; fill: #000; opacity: 1;\">4M</text><text text-anchor=\"middle\" transform=\"translate(174.99999999999997,15)\" style=\"font-family: sans-serif; font-size: 10px; fill: #000; opacity: 1;\">5M</text><text text-anchor=\"middle\" transform=\"translate(150,15)\" style=\"font-family: sans-serif; font-size: 10px; fill: #000; opacity: 1;\">6M</text><text text-anchor=\"middle\" transform=\"translate(124.99999999999999,15)\" style=\"font-family: sans-serif; font-size: 10px; fill: #000; opacity: 1;\">7M</text><text text-anchor=\"middle\" transform=\"translate(100.00000000000001,15)\" style=\"font-family: sans-serif; font-size: 10px; fill: #000; opacity: 1;\">8M</text><text text-anchor=\"middle\" transform=\"translate(75,15)\" style=\"font-family: sans-serif; font-size: 10px; fill: #000; opacity: 1;\">9M</text><text text-anchor=\"middle\" transform=\"translate(49.999999999999986,15)\" style=\"font-family: sans-serif; font-size: 10px; fill: #000; opacity: 1;\">10M</text><text text-anchor=\"middle\" transform=\"translate(25.00000000000001,15)\" style=\"font-family: sans-serif; font-size: 10px; fill: #000; opacity: 1;\">11M</text><text text-anchor=\"middle\" transform=\"translate(0,15)\" style=\"font-family: sans-serif; font-size: 10px; fill: #000; opacity: 1;\">12M</text></g><g class=\"mark-rule role-axis-domain\" style=\"pointer-events: none;\"><line transform=\"translate(300,0)\" x2=\"-300\" y2=\"0\" style=\"fill: none; stroke: #888; stroke-width: 1; opacity: 1;\"></line></g><g class=\"mark-text role-axis-title\" style=\"pointer-events: none;\"><text text-anchor=\"middle\" transform=\"translate(150,30)\" style=\"font-family: sans-serif; font-size: 11px; font-weight: bold; fill: #000; opacity: 1;\">Females</text></g></g><path class=\"foreground\" d=\"\" style=\"pointer-events: none; display: none; fill: none;\"></path></g></g><g class=\"mark-rect role-mark\"><path d=\"M67.23214999999999,379h232.76785v20h-232.76785Z\" style=\"fill: #6c4e97; fill-opacity: 0.6;\"></path><path d=\"M48.26090000000001,358h251.7391v20h-251.7391Z\" style=\"fill: #6c4e97; fill-opacity: 0.6;\"></path><path d=\"M49.43689999999998,337h250.56310000000002v20h-250.56310000000002Z\" style=\"fill: #6c4e97; fill-opacity: 0.6;\"></path><path d=\"M57.683275,316h242.316725v20h-242.316725Z\" style=\"fill: #6c4e97; fill-opacity: 0.6;\"></path><path d=\"M66.8939,295h233.1061v20h-233.1061Z\" style=\"fill: #6c4e97; fill-opacity: 0.6;\"></path><path d=\"M62.03732499999999,274h237.96267500000002v20h-237.96267500000002Z\" style=\"fill: #6c4e97; fill-opacity: 0.6;\"></path><path d=\"M47.017600000000016,253h252.98239999999998v20h-252.98239999999998Z\" style=\"fill: #6c4e97; fill-opacity: 0.6;\"></path><path d=\"M9.108824999999998,232h290.891175v20h-290.891175Z\" style=\"fill: #6c4e97; fill-opacity: 0.6;\"></path><path d=\"M12.78555,211h287.21445v20h-287.21445Z\" style=\"fill: #6c4e97; fill-opacity: 0.6;\"></path><path d=\"M43.46867499999999,190h256.53132500000004v20h-256.53132500000004Z\" style=\"fill: #6c4e97; fill-opacity: 0.6;\"></path><path d=\"M77.22167499999999,169h222.778325v20h-222.778325Z\" style=\"fill: #6c4e97; fill-opacity: 0.6;\"></path><path d=\"M126.9683,148h173.0317v20h-173.0317Z\" style=\"fill: #6c4e97; fill-opacity: 0.6;\"></path><path d=\"M158.275975,127h141.724025v20h-141.724025Z\" style=\"fill: #6c4e97; fill-opacity: 0.6;\"></path><path d=\"M179.8804,106h120.11959999999999v20h-120.11959999999999Z\" style=\"fill: #6c4e97; fill-opacity: 0.6;\"></path><path d=\"M170.378625,85h129.621375v20h-129.621375Z\" style=\"fill: #6c4e97; fill-opacity: 0.6;\"></path><path d=\"M191.10889999999998,64h108.89110000000002v20h-108.89110000000002Z\" style=\"fill: #6c4e97; fill-opacity: 0.6;\"></path><path d=\"M219.45255,43h80.54745v20h-80.54745Z\" style=\"fill: #6c4e97; fill-opacity: 0.6;\"></path><path d=\"M250.4711,22h49.52889999999999v20h-49.52889999999999Z\" style=\"fill: #6c4e97; fill-opacity: 0.6;\"></path><path d=\"M273.385475,1h26.614525000000015v20h-26.614525000000015Z\" style=\"fill: #6c4e97; fill-opacity: 0.6;\"></path></g></g><path class=\"foreground\" d=\"\" style=\"display: none; fill: none;\"></path></g></g><g class=\"mark-group role-scope\"><g transform=\"translate(320,0)\"><path class=\"background\" d=\"M0,0h0v400h0Z\" style=\"fill: none;\"></path><g><g class=\"mark-group role-axis\"><g transform=\"translate(0.5,400.5)\"><path class=\"background\" d=\"M0,0h0v0h0Z\" style=\"pointer-events: none; fill: none;\"></path><g><g class=\"mark-rule role-axis-tick\" style=\"pointer-events: none;\"><line transform=\"translate(0,0)\" x2=\"0\" y2=\"5\" style=\"fill: none; stroke: #888; stroke-width: 1; opacity: 1;\"></line><line transform=\"translate(25,0)\" x2=\"0\" y2=\"5\" style=\"fill: none; stroke: #888; stroke-width: 1; opacity: 1;\"></line><line transform=\"translate(50,0)\" x2=\"0\" y2=\"5\" style=\"fill: none; stroke: #888; stroke-width: 1; opacity: 1;\"></line><line transform=\"translate(75,0)\" x2=\"0\" y2=\"5\" style=\"fill: none; stroke: #888; stroke-width: 1; opacity: 1;\"></line><line transform=\"translate(100,0)\" x2=\"0\" y2=\"5\" style=\"fill: none; stroke: #888; stroke-width: 1; opacity: 1;\"></line><line transform=\"translate(125,0)\" x2=\"0\" y2=\"5\" style=\"fill: none; stroke: #888; stroke-width: 1; opacity: 1;\"></line><line transform=\"translate(150,0)\" x2=\"0\" y2=\"5\" style=\"fill: none; stroke: #888; stroke-width: 1; opacity: 1;\"></line><line transform=\"translate(175,0)\" x2=\"0\" y2=\"5\" style=\"fill: none; stroke: #888; stroke-width: 1; opacity: 1;\"></line><line transform=\"translate(200,0)\" x2=\"0\" y2=\"5\" style=\"fill: none; stroke: #888; stroke-width: 1; opacity: 1;\"></line><line transform=\"translate(225,0)\" x2=\"0\" y2=\"5\" style=\"fill: none; stroke: #888; stroke-width: 1; opacity: 1;\"></line><line transform=\"translate(250,0)\" x2=\"0\" y2=\"5\" style=\"fill: none; stroke: #888; stroke-width: 1; opacity: 1;\"></line><line transform=\"translate(275,0)\" x2=\"0\" y2=\"5\" style=\"fill: none; stroke: #888; stroke-width: 1; opacity: 1;\"></line><line transform=\"translate(300,0)\" x2=\"0\" y2=\"5\" style=\"fill: none; stroke: #888; stroke-width: 1; opacity: 1;\"></line></g><g class=\"mark-text role-axis-label\" style=\"pointer-events: none;\"><text text-anchor=\"middle\" transform=\"translate(0,15)\" style=\"font-family: sans-serif; font-size: 10px; fill: #000; opacity: 1;\">0M</text><text text-anchor=\"middle\" transform=\"translate(25,15)\" style=\"font-family: sans-serif; font-size: 10px; fill: #000; opacity: 1;\">1M</text><text text-anchor=\"middle\" transform=\"translate(50,15)\" style=\"font-family: sans-serif; font-size: 10px; fill: #000; opacity: 1;\">2M</text><text text-anchor=\"middle\" transform=\"translate(75,15)\" style=\"font-family: sans-serif; font-size: 10px; fill: #000; opacity: 1;\">3M</text><text text-anchor=\"middle\" transform=\"translate(100,15)\" style=\"font-family: sans-serif; font-size: 10px; fill: #000; opacity: 1;\">4M</text><text text-anchor=\"middle\" transform=\"translate(125,15)\" style=\"font-family: sans-serif; font-size: 10px; fill: #000; opacity: 1;\">5M</text><text text-anchor=\"middle\" transform=\"translate(150,15)\" style=\"font-family: sans-serif; font-size: 10px; fill: #000; opacity: 1;\">6M</text><text text-anchor=\"middle\" transform=\"translate(175,15)\" style=\"font-family: sans-serif; font-size: 10px; fill: #000; opacity: 1;\">7M</text><text text-anchor=\"middle\" transform=\"translate(200,15)\" style=\"font-family: sans-serif; font-size: 10px; fill: #000; opacity: 1;\">8M</text><text text-anchor=\"middle\" transform=\"translate(225,15)\" style=\"font-family: sans-serif; font-size: 10px; fill: #000; opacity: 1;\">9M</text><text text-anchor=\"middle\" transform=\"translate(250,15)\" style=\"font-family: sans-serif; font-size: 10px; fill: #000; opacity: 1;\">10M</text><text text-anchor=\"middle\" transform=\"translate(275,15)\" style=\"font-family: sans-serif; font-size: 10px; fill: #000; opacity: 1;\">11M</text><text text-anchor=\"middle\" transform=\"translate(300,15)\" style=\"font-family: sans-serif; font-size: 10px; fill: #000; opacity: 1;\">12M</text></g><g class=\"mark-rule role-axis-domain\" style=\"pointer-events: none;\"><line transform=\"translate(0,0)\" x2=\"300\" y2=\"0\" style=\"fill: none; stroke: #888; stroke-width: 1; opacity: 1;\"></line></g><g class=\"mark-text role-axis-title\" style=\"pointer-events: none;\"><text text-anchor=\"middle\" transform=\"translate(150,30)\" style=\"font-family: sans-serif; font-size: 11px; font-weight: bold; fill: #000; opacity: 1;\">Males</text></g></g><path class=\"foreground\" d=\"\" style=\"pointer-events: none; display: none; fill: none;\"></path></g></g><g class=\"mark-rect role-mark\"><path d=\"M0,379h243.3845v20h-243.3845Z\" style=\"fill: #d5855a; fill-opacity: 0.6;\"></path><path d=\"M0,358h263.80365v20h-263.80365Z\" style=\"fill: #d5855a; fill-opacity: 0.6;\"></path><path d=\"M0,337h264.080825v20h-264.080825Z\" style=\"fill: #d5855a; fill-opacity: 0.6;\"></path><path d=\"M0,316h255.935475v20h-255.935475Z\" style=\"fill: #d5855a; fill-opacity: 0.6;\"></path><path d=\"M0,295h243.282875v20h-243.282875Z\" style=\"fill: #d5855a; fill-opacity: 0.6;\"></path><path d=\"M0,274h241.487325v20h-241.487325Z\" style=\"fill: #d5855a; fill-opacity: 0.6;\"></path><path d=\"M0,253h255.146975v20h-255.146975Z\" style=\"fill: #d5855a; fill-opacity: 0.6;\"></path><path d=\"M0,232h286.87955v20h-286.87955Z\" style=\"fill: #d5855a; fill-opacity: 0.6;\"></path><path d=\"M0,211h283.0063v20h-283.0063Z\" style=\"fill: #d5855a; fill-opacity: 0.6;\"></path><path d=\"M0,190h248.12515000000002v20h-248.12515000000002Z\" style=\"fill: #d5855a; fill-opacity: 0.6;\"></path><path d=\"M0,169h212.69835v20h-212.69835Z\" style=\"fill: #d5855a; fill-opacity: 0.6;\"></path><path d=\"M0,148h161.47705v20h-161.47705Z\" style=\"fill: #d5855a; fill-opacity: 0.6;\"></path><path d=\"M0,127h128.084975v20h-128.084975Z\" style=\"fill: #d5855a; fill-opacity: 0.6;\"></path><path d=\"M0,106h111.340575v20h-111.340575Z\" style=\"fill: #d5855a; fill-opacity: 0.6;\"></path><path d=\"M0,85h94.80362500000001v20h-94.80362500000001Z\" style=\"fill: #d5855a; fill-opacity: 0.6;\"></path><path d=\"M0,64h72.816375v20h-72.816375Z\" style=\"fill: #d5855a; fill-opacity: 0.6;\"></path><path d=\"M0,43h47.56595v20h-47.56595Z\" style=\"fill: #d5855a; fill-opacity: 0.6;\"></path><path d=\"M0,22h24.258925v20h-24.258925Z\" style=\"fill: #d5855a; fill-opacity: 0.6;\"></path><path d=\"M0,1h8.407575000000001v20h-8.407575000000001Z\" style=\"fill: #d5855a; fill-opacity: 0.6;\"></path></g></g><path class=\"foreground\" d=\"\" style=\"display: none; fill: none;\"></path></g></g></g><path class=\"foreground\" d=\"\" style=\"display: none; fill: none;\"></path></g></g></g></svg>\n"
      ],
      "text/plain": [
       "@vgplot(\n",
       "    height=400,\n",
       "    padding=5,\n",
       "    marks=[\n",
       "        {\n",
       "            encode={\n",
       "                enter={\n",
       "                    align={\n",
       "                        value=\"center\"\n",
       "                    },\n",
       "                    x={\n",
       "                        signal=\"chartWidth + chartPad / 2\"\n",
       "                    },\n",
       "                    text={\n",
       "                        field=\"age\"\n",
       "                    },\n",
       "                    baseline={\n",
       "                        value=\"middle\"\n",
       "                    },\n",
       "                    fill={\n",
       "                        value=\"#000\"\n",
       "                    },\n",
       "                    y={\n",
       "                        field=\"age\",\n",
       "                        scale=\"y\",\n",
       "                        band=0.5\n",
       "                    }\n",
       "                }\n",
       "            },\n",
       "            interactive=false,\n",
       "            from={\n",
       "                data=\"ageGroups\"\n",
       "            },\n",
       "            type=\"text\"\n",
       "        },\n",
       "        {\n",
       "            marks=[\n",
       "                {\n",
       "                    encode={\n",
       "                        enter={\n",
       "                            height={\n",
       "                                offset=-1,\n",
       "                                scale=\"y\",\n",
       "                                band=1\n",
       "                            },\n",
       "                            x2={\n",
       "                                value=0,\n",
       "                                scale=\"x\"\n",
       "                            },\n",
       "                            x={\n",
       "                                field=\"people\",\n",
       "                                scale=\"x\"\n",
       "                            },\n",
       "                            fillOpacity={\n",
       "                                value=0.6\n",
       "                            },\n",
       "                            fill={\n",
       "                                field=\"sex\",\n",
       "                                scale=\"c\"\n",
       "                            },\n",
       "                            y={\n",
       "                                field=\"age\",\n",
       "                                scale=\"y\"\n",
       "                            }\n",
       "                        }\n",
       "                    },\n",
       "                    from={\n",
       "                        data=\"females\"\n",
       "                    },\n",
       "                    type=\"rect\"\n",
       "                }\n",
       "            ],\n",
       "            encode={\n",
       "                update={\n",
       "                    height={\n",
       "                        signal=\"height\"\n",
       "                    },\n",
       "                    x={\n",
       "                        value=0\n",
       "                    }\n",
       "                }\n",
       "            },\n",
       "            axes=[\n",
       "                {\n",
       "                    format=\"s\",\n",
       "                    title=\"Females\",\n",
       "                    scale=\"x\",\n",
       "                    orient=\"bottom\"\n",
       "                }\n",
       "            ],\n",
       "            scales=[\n",
       "                {\n",
       "                    name=\"x\",\n",
       "                    nice=true,\n",
       "                    zero=true,\n",
       "                    range=[\n",
       "                        {\n",
       "                            signal=\"chartWidth\"\n",
       "                        },\n",
       "                        0\n",
       "                    ],\n",
       "                    domain={\n",
       "                        data=\"population\",\n",
       "                        field=\"people\"\n",
       "                    },\n",
       "                    type=\"linear\"\n",
       "                }\n",
       "            ],\n",
       "            type=\"group\"\n",
       "        },\n",
       "        {\n",
       "            marks=[\n",
       "                {\n",
       "                    encode={\n",
       "                        enter={\n",
       "                            height={\n",
       "                                offset=-1,\n",
       "                                scale=\"y\",\n",
       "                                band=1\n",
       "                            },\n",
       "                            x2={\n",
       "                                value=0,\n",
       "                                scale=\"x\"\n",
       "                            },\n",
       "                            x={\n",
       "                                field=\"people\",\n",
       "                                scale=\"x\"\n",
       "                            },\n",
       "                            fillOpacity={\n",
       "                                value=0.6\n",
       "                            },\n",
       "                            fill={\n",
       "                                field=\"sex\",\n",
       "                                scale=\"c\"\n",
       "                            },\n",
       "                            y={\n",
       "                                field=\"age\",\n",
       "                                scale=\"y\"\n",
       "                            }\n",
       "                        }\n",
       "                    },\n",
       "                    from={\n",
       "                        data=\"males\"\n",
       "                    },\n",
       "                    type=\"rect\"\n",
       "                }\n",
       "            ],\n",
       "            encode={\n",
       "                update={\n",
       "                    height={\n",
       "                        signal=\"height\"\n",
       "                    },\n",
       "                    x={\n",
       "                        signal=\"chartWidth + chartPad\"\n",
       "                    }\n",
       "                }\n",
       "            },\n",
       "            axes=[\n",
       "                {\n",
       "                    format=\"s\",\n",
       "                    title=\"Males\",\n",
       "                    scale=\"x\",\n",
       "                    orient=\"bottom\"\n",
       "                }\n",
       "            ],\n",
       "            scales=[\n",
       "                {\n",
       "                    name=\"x\",\n",
       "                    nice=true,\n",
       "                    zero=true,\n",
       "                    range=[\n",
       "                        0,\n",
       "                        {\n",
       "                            signal=\"chartWidth\"\n",
       "                        }\n",
       "                    ],\n",
       "                    domain={\n",
       "                        data=\"population\",\n",
       "                        field=\"people\"\n",
       "                    },\n",
       "                    type=\"linear\"\n",
       "                }\n",
       "            ],\n",
       "            type=\"group\"\n",
       "        }\n",
       "    ],\n",
       "    data=[\n",
       "...,\n",
       "        {\n",
       "            name=\"popYear\",\n",
       "            source=\"population\",\n",
       "            transform=[\n",
       "                {\n",
       "                    expr=\"datum.year == year\",\n",
       "                    type=\"filter\"\n",
       "                }\n",
       "            ]\n",
       "        },\n",
       "        {\n",
       "            name=\"males\",\n",
       "            source=\"popYear\",\n",
       "            transform=[\n",
       "                {\n",
       "                    expr=\"datum.sex == 1\",\n",
       "                    type=\"filter\"\n",
       "                }\n",
       "            ]\n",
       "        },\n",
       "        {\n",
       "            name=\"females\",\n",
       "            source=\"popYear\",\n",
       "            transform=[\n",
       "                {\n",
       "                    expr=\"datum.sex == 2\",\n",
       "                    type=\"filter\"\n",
       "                }\n",
       "            ]\n",
       "        },\n",
       "        {\n",
       "            name=\"ageGroups\",\n",
       "            source=\"population\",\n",
       "            transform=[\n",
       "                {\n",
       "                    groupby=[\n",
       "                        \"age\"\n",
       "                    ],\n",
       "                    type=\"aggregate\"\n",
       "                }\n",
       "            ]\n",
       "        }\n",
       "    ],\n",
       "    scales=[\n",
       "        {\n",
       "            name=\"y\",\n",
       "            range=[\n",
       "                {\n",
       "                    signal=\"height\"\n",
       "                },\n",
       "                0\n",
       "            ],\n",
       "            domain={\n",
       "                data=\"ageGroups\",\n",
       "                field=\"age\"\n",
       "            },\n",
       "            type=\"band\",\n",
       "            round=true\n",
       "        },\n",
       "        {\n",
       "            name=\"c\",\n",
       "            range=[\n",
       "                \"#d5855a\",\n",
       "                \"#6c4e97\"\n",
       "            ],\n",
       "            domain=[\n",
       "                1,\n",
       "                2\n",
       "            ],\n",
       "            type=\"ordinal\"\n",
       "        }\n",
       "    ],\n",
       "    signals=[\n",
       "        {\n",
       "            name=\"chartWidth\",\n",
       "            value=300\n",
       "        },\n",
       "        {\n",
       "            name=\"chartPad\",\n",
       "            value=20\n",
       "        },\n",
       "        {\n",
       "            name=\"width\",\n",
       "            update=\"2 * chartWidth + chartPad\"\n",
       "        },\n",
       "        {\n",
       "            name=\"year\",\n",
       "            bind={\n",
       "                step=10,\n",
       "                max=2000,\n",
       "                min=1850,\n",
       "                input=\"range\"\n",
       "            },\n",
       "            value=2000\n",
       "        }\n",
       "    ]\n",
       ")"
      ]
     },
     "execution_count": 6,
     "metadata": {},
     "output_type": "execute_result"
    }
   ],
   "source": [
    "using VegaLite, VegaDatasets\n",
    "\n",
    "@vgplot(\n",
    "    height=400,\n",
    "    padding=5,\n",
    "    marks=[\n",
    "        {\n",
    "            encode={\n",
    "                enter={\n",
    "                    align={\n",
    "                        value=\"center\"\n",
    "                    },\n",
    "                    x={\n",
    "                        signal=\"chartWidth + chartPad / 2\"\n",
    "                    },\n",
    "                    text={\n",
    "                        field=\"age\"\n",
    "                    },\n",
    "                    baseline={\n",
    "                        value=\"middle\"\n",
    "                    },\n",
    "                    fill={\n",
    "                        value=\"#000\"\n",
    "                    },\n",
    "                    y={\n",
    "                        field=\"age\",\n",
    "                        scale=\"y\",\n",
    "                        band=0.5\n",
    "                    }\n",
    "                }\n",
    "            },\n",
    "            interactive=false,\n",
    "            from={\n",
    "                data=\"ageGroups\"\n",
    "            },\n",
    "            type=\"text\"\n",
    "        },\n",
    "        {\n",
    "            marks=[\n",
    "                {\n",
    "                    encode={\n",
    "                        enter={\n",
    "                            height={\n",
    "                                offset=-1,\n",
    "                                scale=\"y\",\n",
    "                                band=1\n",
    "                            },\n",
    "                            x2={\n",
    "                                value=0,\n",
    "                                scale=\"x\"\n",
    "                            },\n",
    "                            x={\n",
    "                                field=\"people\",\n",
    "                                scale=\"x\"\n",
    "                            },\n",
    "                            fillOpacity={\n",
    "                                value=0.6\n",
    "                            },\n",
    "                            fill={\n",
    "                                field=\"sex\",\n",
    "                                scale=\"c\"\n",
    "                            },\n",
    "                            y={\n",
    "                                field=\"age\",\n",
    "                                scale=\"y\"\n",
    "                            }\n",
    "                        }\n",
    "                    },\n",
    "                    from={\n",
    "                        data=\"females\"\n",
    "                    },\n",
    "                    type=\"rect\"\n",
    "                }\n",
    "            ],\n",
    "            encode={\n",
    "                update={\n",
    "                    height={\n",
    "                        signal=\"height\"\n",
    "                    },\n",
    "                    x={\n",
    "                        value=0\n",
    "                    }\n",
    "                }\n",
    "            },\n",
    "            axes=[\n",
    "                {\n",
    "                    format=\"s\",\n",
    "                    title=\"Females\",\n",
    "                    scale=\"x\",\n",
    "                    orient=\"bottom\"\n",
    "                }\n",
    "            ],\n",
    "            scales=[\n",
    "                {\n",
    "                    name=\"x\",\n",
    "                    nice=true,\n",
    "                    zero=true,\n",
    "                    range=[\n",
    "                        {\n",
    "                            signal=\"chartWidth\"\n",
    "                        },\n",
    "                        0\n",
    "                    ],\n",
    "                    domain={\n",
    "                        data=\"population\",\n",
    "                        field=\"people\"\n",
    "                    },\n",
    "                    type=\"linear\"\n",
    "                }\n",
    "            ],\n",
    "            type=\"group\"\n",
    "        },\n",
    "        {\n",
    "            marks=[\n",
    "                {\n",
    "                    encode={\n",
    "                        enter={\n",
    "                            height={\n",
    "                                offset=-1,\n",
    "                                scale=\"y\",\n",
    "                                band=1\n",
    "                            },\n",
    "                            x2={\n",
    "                                value=0,\n",
    "                                scale=\"x\"\n",
    "                            },\n",
    "                            x={\n",
    "                                field=\"people\",\n",
    "                                scale=\"x\"\n",
    "                            },\n",
    "                            fillOpacity={\n",
    "                                value=0.6\n",
    "                            },\n",
    "                            fill={\n",
    "                                field=\"sex\",\n",
    "                                scale=\"c\"\n",
    "                            },\n",
    "                            y={\n",
    "                                field=\"age\",\n",
    "                                scale=\"y\"\n",
    "                            }\n",
    "                        }\n",
    "                    },\n",
    "                    from={\n",
    "                        data=\"males\"\n",
    "                    },\n",
    "                    type=\"rect\"\n",
    "                }\n",
    "            ],\n",
    "            encode={\n",
    "                update={\n",
    "                    height={\n",
    "                        signal=\"height\"\n",
    "                    },\n",
    "                    x={\n",
    "                        signal=\"chartWidth + chartPad\"\n",
    "                    }\n",
    "                }\n",
    "            },\n",
    "            axes=[\n",
    "                {\n",
    "                    format=\"s\",\n",
    "                    title=\"Males\",\n",
    "                    scale=\"x\",\n",
    "                    orient=\"bottom\"\n",
    "                }\n",
    "            ],\n",
    "            scales=[\n",
    "                {\n",
    "                    name=\"x\",\n",
    "                    nice=true,\n",
    "                    zero=true,\n",
    "                    range=[\n",
    "                        0,\n",
    "                        {\n",
    "                            signal=\"chartWidth\"\n",
    "                        }\n",
    "                    ],\n",
    "                    domain={\n",
    "                        data=\"population\",\n",
    "                        field=\"people\"\n",
    "                    },\n",
    "                    type=\"linear\"\n",
    "                }\n",
    "            ],\n",
    "            type=\"group\"\n",
    "        }\n",
    "    ],\n",
    "    data=[\n",
    "        :population => dataset(\"population\"),\n",
    "        {\n",
    "            name=\"popYear\",\n",
    "            source=\"population\",\n",
    "            transform=[\n",
    "                {\n",
    "                    expr=\"datum.year == year\",\n",
    "                    type=\"filter\"\n",
    "                }\n",
    "            ]\n",
    "        },\n",
    "        {\n",
    "            name=\"males\",\n",
    "            source=\"popYear\",\n",
    "            transform=[\n",
    "                {\n",
    "                    expr=\"datum.sex == 1\",\n",
    "                    type=\"filter\"\n",
    "                }\n",
    "            ]\n",
    "        },\n",
    "        {\n",
    "            name=\"females\",\n",
    "            source=\"popYear\",\n",
    "            transform=[\n",
    "                {\n",
    "                    expr=\"datum.sex == 2\",\n",
    "                    type=\"filter\"\n",
    "                }\n",
    "            ]\n",
    "        },\n",
    "        {\n",
    "            name=\"ageGroups\",\n",
    "            source=\"population\",\n",
    "            transform=[\n",
    "                {\n",
    "                    groupby=[\n",
    "                        \"age\"\n",
    "                    ],\n",
    "                    type=\"aggregate\"\n",
    "                }\n",
    "            ]\n",
    "        }\n",
    "    ],\n",
    "    scales=[\n",
    "        {\n",
    "            name=\"y\",\n",
    "            range=[\n",
    "                {\n",
    "                    signal=\"height\"\n",
    "                },\n",
    "                0\n",
    "            ],\n",
    "            domain={\n",
    "                data=\"ageGroups\",\n",
    "                field=\"age\"\n",
    "            },\n",
    "            type=\"band\",\n",
    "            round=true\n",
    "        },\n",
    "        {\n",
    "            name=\"c\",\n",
    "            range=[\n",
    "                \"#d5855a\",\n",
    "                \"#6c4e97\"\n",
    "            ],\n",
    "            domain=[\n",
    "                1,\n",
    "                2\n",
    "            ],\n",
    "            type=\"ordinal\"\n",
    "        }\n",
    "    ],\n",
    "    signals=[\n",
    "        {\n",
    "            name=\"chartWidth\",\n",
    "            value=300\n",
    "        },\n",
    "        {\n",
    "            name=\"chartPad\",\n",
    "            value=20\n",
    "        },\n",
    "        {\n",
    "            name=\"width\",\n",
    "            update=\"2 * chartWidth + chartPad\"\n",
    "        },\n",
    "        {\n",
    "            name=\"year\",\n",
    "            bind={\n",
    "                step=10,\n",
    "                max=2000,\n",
    "                min=1850,\n",
    "                input=\"range\"\n",
    "            },\n",
    "            value=2000\n",
    "        }\n",
    "    ]\n",
    ")"
   ]
  }
 ],
 "metadata": {
  "kernelspec": {
   "display_name": "Julia 1.3.0",
   "language": "julia",
   "name": "julia-1.3"
  },
  "language_info": {
   "file_extension": ".jl",
   "mimetype": "application/julia",
   "name": "julia",
   "version": "1.3.0"
  }
 },
 "nbformat": 4,
 "nbformat_minor": 4
}
